{
 "cells": [
  {
   "cell_type": "markdown",
   "id": "63a29840",
   "metadata": {},
   "source": [
    "# 作业3"
   ]
  },
  {
   "cell_type": "markdown",
   "id": "a132aded",
   "metadata": {},
   "source": [
    "### 第1题：Numpy 练习"
   ]
  },
  {
   "cell_type": "markdown",
   "id": "ba29b8fc",
   "metadata": {},
   "source": [
    "以下运算都可以调用相应的函数而避免使用显式循环。"
   ]
  },
  {
   "cell_type": "markdown",
   "id": "37a7c48d",
   "metadata": {},
   "source": [
    "(a) 生成1000个服从 (0, 1) 间均匀分布的随机数，赋值给变量 `x`，并打印其最后10个元素。"
   ]
  },
  {
   "cell_type": "code",
   "execution_count": 1,
   "id": "bc850cff",
   "metadata": {},
   "outputs": [],
   "source": [
    "import numpy as np\n",
    "import matplotlib.pyplot as plt"
   ]
  },
  {
   "cell_type": "code",
   "execution_count": 7,
   "id": "5a533062",
   "metadata": {},
   "outputs": [
    {
     "name": "stdout",
     "output_type": "stream",
     "text": [
      "[0.3712589  0.72720692 0.48875998 0.19200146 0.01212066 0.10182162\n",
      " 0.22541931 0.25826216 0.57201936 0.87631289]\n"
     ]
    }
   ],
   "source": [
    "np.random.seed(886)\n",
    "x = np.random.uniform(low=0, high=1, size=1000)\n",
    "print(x[-10:])"
   ]
  },
  {
   "cell_type": "markdown",
   "id": "9e1e545a",
   "metadata": {},
   "source": [
    "(b) 创建向量 `y`，令其在数学上等于 $y=-\\log(x)$，其中 $\\log$ 为自然对数，并打印其前10个元素。查找在 Python 中绘制图形的方法，绘制 `y` 的直方图。"
   ]
  },
  {
   "cell_type": "code",
   "execution_count": 3,
   "id": "2153476f",
   "metadata": {},
   "outputs": [
    {
     "name": "stdout",
     "output_type": "stream",
     "text": [
      "[6.56504699 0.28447778 2.29688957 0.75518238 0.15715842 1.21331266\n",
      " 0.57170891 0.42542223 0.24376598 0.01950091]\n"
     ]
    },
    {
     "data": {
      "text/plain": [
       "(array([63., 49., 45., 66., 61., 42., 41., 44., 38., 38., 32., 34., 29.,\n",
       "        31., 23., 22., 18., 15., 14., 18., 20., 16., 20., 17., 27., 11.,\n",
       "        10.,  7., 14.,  7.,  6.,  7.,  1.,  5.,  8.,  5.,  3.,  6.,  7.,\n",
       "         7.,  5.,  0.,  1.,  4.,  3.,  3.,  7.,  4.,  2.,  4.,  0.,  5.,\n",
       "         0.,  2.,  0.,  2.,  0.,  0.,  0.,  4.,  1.,  1.,  0.,  1.,  2.,\n",
       "         1.,  2.,  2.,  0.,  2.,  1.,  1.,  0.,  0.,  1.,  1.,  0.,  2.,\n",
       "         3.,  0.,  1.,  0.,  0.,  2.,  0.,  0.,  1.,  0.,  0.,  0.,  0.,\n",
       "         0.,  0.,  0.,  0.,  0.,  0.,  1.,  0.,  1.]),\n",
       " array([9.57015429e-04, 6.65979152e-02, 1.32238815e-01, 1.97879715e-01,\n",
       "        2.63520614e-01, 3.29161514e-01, 3.94802414e-01, 4.60443314e-01,\n",
       "        5.26084213e-01, 5.91725113e-01, 6.57366013e-01, 7.23006913e-01,\n",
       "        7.88647812e-01, 8.54288712e-01, 9.19929612e-01, 9.85570511e-01,\n",
       "        1.05121141e+00, 1.11685231e+00, 1.18249321e+00, 1.24813411e+00,\n",
       "        1.31377501e+00, 1.37941591e+00, 1.44505681e+00, 1.51069771e+00,\n",
       "        1.57633861e+00, 1.64197951e+00, 1.70762041e+00, 1.77326131e+00,\n",
       "        1.83890221e+00, 1.90454311e+00, 1.97018401e+00, 2.03582491e+00,\n",
       "        2.10146581e+00, 2.16710671e+00, 2.23274761e+00, 2.29838851e+00,\n",
       "        2.36402941e+00, 2.42967031e+00, 2.49531121e+00, 2.56095211e+00,\n",
       "        2.62659300e+00, 2.69223390e+00, 2.75787480e+00, 2.82351570e+00,\n",
       "        2.88915660e+00, 2.95479750e+00, 3.02043840e+00, 3.08607930e+00,\n",
       "        3.15172020e+00, 3.21736110e+00, 3.28300200e+00, 3.34864290e+00,\n",
       "        3.41428380e+00, 3.47992470e+00, 3.54556560e+00, 3.61120650e+00,\n",
       "        3.67684740e+00, 3.74248830e+00, 3.80812920e+00, 3.87377010e+00,\n",
       "        3.93941100e+00, 4.00505190e+00, 4.07069280e+00, 4.13633370e+00,\n",
       "        4.20197460e+00, 4.26761550e+00, 4.33325640e+00, 4.39889730e+00,\n",
       "        4.46453820e+00, 4.53017910e+00, 4.59582000e+00, 4.66146090e+00,\n",
       "        4.72710180e+00, 4.79274270e+00, 4.85838360e+00, 4.92402450e+00,\n",
       "        4.98966540e+00, 5.05530630e+00, 5.12094719e+00, 5.18658809e+00,\n",
       "        5.25222899e+00, 5.31786989e+00, 5.38351079e+00, 5.44915169e+00,\n",
       "        5.51479259e+00, 5.58043349e+00, 5.64607439e+00, 5.71171529e+00,\n",
       "        5.77735619e+00, 5.84299709e+00, 5.90863799e+00, 5.97427889e+00,\n",
       "        6.03991979e+00, 6.10556069e+00, 6.17120159e+00, 6.23684249e+00,\n",
       "        6.30248339e+00, 6.36812429e+00, 6.43376519e+00, 6.49940609e+00,\n",
       "        6.56504699e+00]),\n",
       " <BarContainer object of 100 artists>)"
      ]
     },
     "execution_count": 3,
     "metadata": {},
     "output_type": "execute_result"
    },
    {
     "data": {
      "image/png": "[encoded data removed]",
      "text/plain": [
       "<Figure size 640x480 with 1 Axes>"
      ]
     },
     "metadata": {},
     "output_type": "display_data"
    }
   ],
   "source": [
    "y = - np.log(x)\n",
    "print(y[:10])\n",
    "plt.hist(y, bins=100)"
   ]
  },
  {
   "cell_type": "markdown",
   "id": "b361622f",
   "metadata": {},
   "source": [
    "(c) 猜测或证明 `y` 服从什么分布，并简要说明理由。"
   ]
  },
  {
   "cell_type": "markdown",
   "id": "fca4bb86",
   "metadata": {},
   "source": [
    "指数分布 $exp(1)$            \n",
    "$P( Y \\le y ) = P( -log(X) \\le y  ) = P( X \\ge e^{-y} ) = 1 - P( X \\le e^{-y} ) = 1 - e^{-y}  \\ y \\ge 0$"
   ]
  },
  {
   "cell_type": "markdown",
   "id": "f5fd972a",
   "metadata": {},
   "source": [
    "(d) 将 `y` 转为 $200\\times 5$ 的矩阵，赋值给 `mat1`，元素**按行排列**。打印其前5行。"
   ]
  },
  {
   "cell_type": "code",
   "execution_count": 4,
   "id": "a9ea0f53",
   "metadata": {},
   "outputs": [
    {
     "name": "stdout",
     "output_type": "stream",
     "text": [
      "[[6.56504699 0.28447778 2.29688957 0.75518238 0.15715842]\n",
      " [1.21331266 0.57170891 0.42542223 0.24376598 0.01950091]\n",
      " [0.16394083 0.80427753 0.20641957 1.60378339 0.23795623]\n",
      " [0.29361118 0.81038318 0.38439038 1.98329519 0.14118884]\n",
      " [0.76165387 0.1644892  1.48192816 0.68368925 0.88459866]]\n"
     ]
    }
   ],
   "source": [
    "mat1 = y.reshape((200, 5))\n",
    "print(mat1[:5, :])"
   ]
  },
  {
   "cell_type": "markdown",
   "id": "be5fb6a1",
   "metadata": {},
   "source": [
    "(e) 将 `y` 转为 $200\\times 5$ 的矩阵，赋值给 `mat2`，元素**按列排列**。打印其前5行。（提示：可以使用转置操作）"
   ]
  },
  {
   "cell_type": "code",
   "execution_count": 5,
   "id": "fe79fd31",
   "metadata": {},
   "outputs": [
    {
     "name": "stdout",
     "output_type": "stream",
     "text": [
      "[[6.56504699 0.20829598 0.65377247 0.26929035 0.18085755]\n",
      " [0.28447778 1.47797969 0.36673969 0.70563187 0.05847921]\n",
      " [2.29688957 0.34414221 0.27408448 0.36176401 0.10122903]\n",
      " [0.75518238 0.13202897 0.27433669 1.3039263  0.18694549]\n",
      " [0.15715842 1.20298161 0.96753394 0.33936967 0.39393442]]\n"
     ]
    }
   ],
   "source": [
    "mat2 = y.reshape((5,200)).T\n",
    "print(mat2[:5, :])"
   ]
  },
  {
   "cell_type": "markdown",
   "id": "3f416e8d",
   "metadata": {},
   "source": [
    "(f) 计算 `mat1` 每一列的均值，得到一个长度为5的向量 `v`，将其打印出来。然后将 `mat1` 的每一列进行中心化（即减去各自的均值），赋给变量 `mat1_centered`。类似地，计算 `mat1_centered` 的列均值向量并打印出来。"
   ]
  },
  {
   "cell_type": "code",
   "execution_count": 6,
   "id": "d7e74a3e",
   "metadata": {},
   "outputs": [
    {
     "name": "stdout",
     "output_type": "stream",
     "text": [
      "[1.07369231 0.96865905 1.08895089 0.9636211  0.94600862]\n",
      "[-6.32827124e-17  7.72160114e-16 -3.54716256e-16  9.04831765e-16\n",
      "  6.71684930e-17]\n"
     ]
    }
   ],
   "source": [
    "v = np.mean(mat1, axis=0)\n",
    "print(v)\n",
    "mat1_centered = mat1 - v\n",
    "w = np.mean(mat1_centered, axis=0)\n",
    "print(w)"
   ]
  },
  {
   "cell_type": "markdown",
   "id": "d761f5c6",
   "metadata": {},
   "source": [
    "### 第2题：统计计算练习"
   ]
  },
  {
   "cell_type": "markdown",
   "id": "a7691017",
   "metadata": {},
   "source": [
    "(a) 生成一个 $10000\\times 1000$ 的矩阵 `X`，每个元素服从标准正态分布。生成一个长度为 10000 的向量 `y`，每个元素服从均值为0、方差为2的正态分布。生成一个长度为 10000 的向量 `w`，每个元素服从 $(1,5)$ 上的均匀分布。"
   ]
  },
  {
   "cell_type": "code",
   "execution_count": 7,
   "id": "e7d73695",
   "metadata": {},
   "outputs": [],
   "source": [
    "np.random.seed(886)\n",
    "n = 10000\n",
    "p = 1000\n",
    "X = np.random.normal(loc=0, scale=1, size=(n, p))\n",
    "y = np.random.normal(loc=0, scale=sqrt(2), size=n)\n",
    "w = np.random.uniform(low=1, high=5, size=n)\n"
   ]
  },
  {
   "cell_type": "markdown",
   "id": "82fad746",
   "metadata": {},
   "source": [
    "(b) 使用恰当的方式计算 $\\hat{y}=X(X^{T}WX)^{-1}X^{T}Wy$，其中 `W` 是以 `w` 为对角线的对角矩阵。"
   ]
  },
  {
   "cell_type": "code",
   "execution_count": 8,
   "id": "8d9b17f6",
   "metadata": {},
   "outputs": [
    {
     "name": "stdout",
     "output_type": "stream",
     "text": [
      "running time: 0.10908365249633789 seconds.\n"
     ]
    }
   ],
   "source": [
    "import time\n",
    "t1 = time.time()\n",
    "Wy = w * y\n",
    "XtWy = X.T.dot(Wy)\n",
    "WX = w.reshape((n ,1)) * X \n",
    "XtWX = X.T.dot(WX)\n",
    "r = np.linalg.solve(XtWX, XtWy)\n",
    "ycap = X.dot(r)\n",
    "#可先算XtW两次利用\n",
    "\n",
    "t2 = time.time()\n",
    "print(f\"running time: {t2 - t1} seconds.\")"
   ]
  },
  {
   "cell_type": "markdown",
   "id": "6d7bed85",
   "metadata": {},
   "source": [
    "### 第3题：PySpark RDD 练习"
   ]
  },
  {
   "cell_type": "markdown",
   "id": "df963895",
   "metadata": {},
   "source": [
    "利用如下代码模拟生成一个 $100000\\times 10$ 的矩阵，并写入文件 `sim_data.txt`。"
   ]
  },
  {
   "cell_type": "code",
   "execution_count": 9,
   "id": "9314c6bf",
   "metadata": {},
   "outputs": [],
   "source": [
    "import numpy as np\n",
    "np.random.seed(123)\n",
    "dat = np.random.uniform(size=(100000, 10))\n",
    "np.savetxt(\"sim_data.txt\", dat, fmt=\"%.6f\", delimiter=\",\")"
   ]
  },
  {
   "cell_type": "markdown",
   "id": "ce5212ab",
   "metadata": {},
   "source": [
    "使用合适的命令以单机模式启动 PySpark，并使用4个 CPU 核心。"
   ]
  },
  {
   "cell_type": "code",
   "execution_count": 10,
   "id": "3dd407f9",
   "metadata": {},
   "outputs": [
    {
     "name": "stdout",
     "output_type": "stream",
     "text": [
      "<pyspark.sql.session.SparkSession object at 0x0000026040B7F8E0>\n",
      "<SparkContext master=local[4] appName=PySpark RDD>\n"
     ]
    }
   ],
   "source": [
    "import findspark\n",
    "findspark.init()\n",
    "\n",
    "from pyspark.sql import SparkSession\n",
    "spark = SparkSession.builder.\\\n",
    "        master(\"local[4]\").\\\n",
    "        appName(\"PySpark RDD\").\\\n",
    "        getOrCreate()\n",
    "sc = spark.sparkContext\n",
    "print(spark)\n",
    "print(sc)"
   ]
  },
  {
   "cell_type": "markdown",
   "id": "892f80cd",
   "metadata": {},
   "source": [
    "利用 PySpark 读取文件并打印出前5行："
   ]
  },
  {
   "cell_type": "code",
   "execution_count": 12,
   "id": "5f6f457d",
   "metadata": {},
   "outputs": [
    {
     "name": "stdout",
     "output_type": "stream",
     "text": [
      "0.696469,0.286139,0.226851,0.551315,0.719469,0.423106,0.980764,0.684830,0.480932,0.392118\n",
      "0.343178,0.729050,0.438572,0.059678,0.398044,0.737995,0.182492,0.175452,0.531551,0.531828\n",
      "0.634401,0.849432,0.724455,0.611024,0.722443,0.322959,0.361789,0.228263,0.293714,0.630976\n",
      "0.092105,0.433701,0.430863,0.493685,0.425830,0.312261,0.426351,0.893389,0.944160,0.501837\n",
      "0.623953,0.115618,0.317285,0.414826,0.866309,0.250455,0.483034,0.985560,0.519485,0.612895\n"
     ]
    }
   ],
   "source": [
    "file = sc.textFile(\"sim_data.txt\")\n",
    "demo = file.take(5)\n",
    "print(*demo, sep=\"\\n\")"
   ]
  },
  {
   "cell_type": "markdown",
   "id": "6e6e6452",
   "metadata": {},
   "source": [
    "利用 `map()` 函数，生成一个元素类型为 Numpy 向量的 RDD，其每一个元素对应原始文本数据的每一行。打印出该 RDD 的前5个元素。"
   ]
  },
  {
   "cell_type": "code",
   "execution_count": 13,
   "id": "74296bda",
   "metadata": {},
   "outputs": [
    {
     "name": "stdout",
     "output_type": "stream",
     "text": [
      "[array([0.696469, 0.286139, 0.226851, 0.551315, 0.719469, 0.423106,\n",
      "       0.980764, 0.68483 , 0.480932, 0.392118]), array([0.343178, 0.72905 , 0.438572, 0.059678, 0.398044, 0.737995,\n",
      "       0.182492, 0.175452, 0.531551, 0.531828]), array([0.634401, 0.849432, 0.724455, 0.611024, 0.722443, 0.322959,\n",
      "       0.361789, 0.228263, 0.293714, 0.630976]), array([0.092105, 0.433701, 0.430863, 0.493685, 0.42583 , 0.312261,\n",
      "       0.426351, 0.893389, 0.94416 , 0.501837]), array([0.623953, 0.115618, 0.317285, 0.414826, 0.866309, 0.250455,\n",
      "       0.483034, 0.98556 , 0.519485, 0.612895])]\n"
     ]
    }
   ],
   "source": [
    "#第一层抽象\n",
    "#由于file读入为元素为str的RDD，每个str元素内部为以，隔开的数\n",
    "#故据此定义转换函数\n",
    "def str_to_vec(line):\n",
    "    str_list = line.split(\",\")\n",
    "    return np.array(str_list, dtype=float)\n",
    "#第二层抽象\n",
    "#将原字符型RDD映射为向量型RDD\n",
    "dat = file.map(str_to_vec)\n",
    "demo2 = dat.take(5)\n",
    "print(demo2)"
   ]
  },
  {
   "cell_type": "markdown",
   "id": "009cbfe6",
   "metadata": {},
   "source": [
    "利用 `map()` 和 `reduce()` 函数计算每一列的样本方差，并将结果打印出来。要求 `reduce()` 只能使用一次。"
   ]
  },
  {
   "cell_type": "code",
   "execution_count": 14,
   "id": "902b0f67",
   "metadata": {},
   "outputs": [
    {
     "name": "stdout",
     "output_type": "stream",
     "text": [
      "[0.08296877 0.08328241 0.0835851  0.08288007 0.08328285 0.0831696\n",
      " 0.08332109 0.08297298 0.08334512 0.08343152]\n"
     ]
    }
   ],
   "source": [
    "sqsumx, sumx, countx = dat.map(lambda x : (x*x, x, 1)).reduce(lambda x, y : (x[0]+y[0], x[1]+y[1], x[2]+y[2]))\n",
    "\n",
    "samplev = (sqsumx - sumx * sumx / countx)/(countx - 1)\n",
    "\n",
    "print(samplev)"
   ]
  },
  {
   "cell_type": "markdown",
   "id": "447a674e",
   "metadata": {},
   "source": [
    "将原始文件的 RDD 划为10个分区，然后利用 `mapPartitions()` 函数将每个分区转成一个 Numpy 矩阵，过滤掉空的矩阵，最后得到一个元素类型为 Numpy 矩阵的 RDD。然后打印出该 RDD 的元素个数。"
   ]
  },
  {
   "cell_type": "code",
   "execution_count": 15,
   "id": "1fa333ff",
   "metadata": {},
   "outputs": [
    {
     "name": "stdout",
     "output_type": "stream",
     "text": [
      "10\n"
     ]
    }
   ],
   "source": [
    "def str_to_vec(line):\n",
    "    str_list = line.split(\",\")\n",
    "    return np.array(str_list, dtype=float)\n",
    "def part_to_mat(iterator):\n",
    "    #先将字符型iter转换为向量性iter\n",
    "    vec_iter = map(str_to_vec, iterator)\n",
    "    #将iter转换为列表\n",
    "    list_part = list(vec_iter)\n",
    "    \n",
    "    #分区可能为空\n",
    "    if len(list_part) < 1:\n",
    "        mat = np.array([])\n",
    "    else:\n",
    "        mat = np.vstack(list_part)\n",
    "        \n",
    "    yield mat\n",
    "file_10p = file.repartition(10)    \n",
    "dat_10p_nonempty = file_10p.mapPartitions(part_to_mat).filter(lambda x: x.shape[0] > 0)\n",
    "\n",
    "c = dat_10p_nonempty.count()\n",
    "print(c)"
   ]
  },
  {
   "cell_type": "markdown",
   "id": "7739817d",
   "metadata": {},
   "source": [
    "利用上述 RDD 和 `map()`、`reduce()` 函数计算每一列的样本方差，并将结果打印出来。要求 `reduce()` 只能使用一次。"
   ]
  },
  {
   "cell_type": "code",
   "execution_count": 16,
   "id": "cb621557",
   "metadata": {},
   "outputs": [
    {
     "name": "stdout",
     "output_type": "stream",
     "text": [
      "[0.50105863 0.50038467 0.4973724  0.50003645 0.50097144 0.49927239\n",
      " 0.50038187 0.49834866 0.5002771  0.50123079]\n",
      "[0.08296877 0.08328241 0.0835851  0.08288007 0.08328285 0.0831696\n",
      " 0.08332109 0.08297298 0.08334512 0.08343152]\n"
     ]
    }
   ],
   "source": [
    "sqsumx, sumx, countx = dat_10p_nonempty.\\\n",
    "                        map(lambda x : (np.sum(x*x, axis=0), np.sum(x, axis=0), x.shape[0])).\\\n",
    "                        reduce(lambda x, y : (x[0]+y[0], x[1]+y[1], x[2]+y[2]))\n",
    "samplem = sumx/countx\n",
    "samplev = (sqsumx - countx * samplem * samplem) / (countx - 1)\n",
    "print(samplev)"
   ]
  },
  {
   "cell_type": "code",
   "execution_count": 17,
   "id": "6cf5455a",
   "metadata": {},
   "outputs": [],
   "source": [
    "sc.stop()"
   ]
  }
 ],
 "metadata": {
  "kernelspec": {
   "display_name": "Python 3 (ipykernel)",
   "language": "python",
   "name": "python3"
  },
  "language_info": {
   "codemirror_mode": {
    "name": "ipython",
    "version": 3
   },
   "file_extension": ".py",
   "mimetype": "text/x-python",
   "name": "python",
   "nbconvert_exporter": "python",
   "pygments_lexer": "ipython3",
   "version": "3.9.13"
  }
 },
 "nbformat": 4,
 "nbformat_minor": 5
}
