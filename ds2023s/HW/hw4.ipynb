{
 "cells": [
  {
   "cell_type": "markdown",
   "metadata": {},
   "source": [
    "# 作业4：线性模型的分布式算法"
   ]
  },
  {
   "cell_type": "markdown",
   "metadata": {},
   "source": [
    "### 第1题"
   ]
  },
  {
   "cell_type": "markdown",
   "metadata": {},
   "source": [
    "先利用如下代码生成模拟数据，并写入文件。数据中最后一列代表因变量 $Y$，其余列为自变量 $X$。"
   ]
  },
  {
   "cell_type": "code",
   "execution_count": 1,
   "metadata": {},
   "outputs": [],
   "source": [
    "import numpy as np\n",
    "np.set_printoptions(linewidth=100)\n",
    "\n",
    "np.random.seed(123)\n",
    "n = 100000\n",
    "p = 100\n",
    "x = np.random.normal(size=(n, p))\n",
    "beta = np.random.normal(size=p)\n",
    "y = 1.23 + x.dot(beta) + np.random.normal(scale=2.0, size=n)\n",
    "dat = np.hstack((x, y.reshape(n, 1)))\n",
    "np.savetxt(\"reg_data.txt\", dat, fmt=\"%.8f\", delimiter=\";\")"
   ]
  },
  {
   "cell_type": "markdown",
   "metadata": {},
   "source": [
    "请以单机模式启动 PySpark，使用4个 CPU 核心，并编写分布式程序，实现如下计算："
   ]
  },
  {
   "cell_type": "code",
   "execution_count": 2,
   "metadata": {},
   "outputs": [
    {
     "name": "stdout",
     "output_type": "stream",
     "text": [
      "<pyspark.sql.session.SparkSession object at 0x000001F5427A3430>\n",
      "<SparkContext master=local[4] appName=PySpark RDD>\n"
     ]
    }
   ],
   "source": [
    "import findspark\n",
    "findspark.init()\n",
    "from pyspark.sql import SparkSession\n",
    "spark = SparkSession.builder.\\\n",
    "            master(\"local[4]\").\\\n",
    "            appName(\"PySpark RDD\").\\\n",
    "            getOrCreate()\n",
    "sc = spark.sparkContext\n",
    "print(spark)\n",
    "print(sc)"
   ]
  },
  {
   "cell_type": "markdown",
   "metadata": {},
   "source": [
    "1. 打印数据的前5行，并将每行的字符串截断至80个字符："
   ]
  },
  {
   "cell_type": "code",
   "execution_count": 4,
   "metadata": {},
   "outputs": [
    {
     "name": "stdout",
     "output_type": "stream",
     "text": [
      "-1.08563060;0.99734545;0.28297850;-1.50629471;-0.57860025;1.65143654;-2.42667924...\n",
      "0.64205469;-1.97788793;0.71226464;2.59830393;-0.02462598;0.03414213;0.17954948;-...\n",
      "0.70331012;-0.59810533;2.20070210;0.68829693;-0.00630725;-0.20666230;-0.08652229...\n",
      "0.76505485;-0.82898883;-0.65915131;0.61112355;-0.14401335;1.31660560;-0.70434215...\n",
      "1.53409029;-0.52991410;-0.49097228;-1.30916531;-0.00866047;0.97681298;-1.7510703...\n"
     ]
    }
   ],
   "source": [
    "file = sc.textFile(\"reg_data.txt\")\n",
    "demo = file.map(lambda x: x[:80] + \"...\").take(5)\n",
    "print(*demo, sep=\"\\n\")"
   ]
  },
  {
   "cell_type": "markdown",
   "metadata": {},
   "source": [
    "2. 将读取数据后得到的 RDD 按分区转为矩阵。使用默认分区数，无需重新分区。打印出转换后的第一个非空分区所包含的数据。"
   ]
  },
  {
   "cell_type": "code",
   "execution_count": 5,
   "metadata": {},
   "outputs": [
    {
     "name": "stdout",
     "output_type": "stream",
     "text": [
      "[[ -1.0856306    0.99734545   0.2829785  ...   0.37940061  -0.37917643   3.72488966]\n",
      " [  0.64205469  -1.97788793   0.71226464 ...  -0.34126172  -0.21794626  10.98088055]\n",
      " [  0.70331012  -0.59810533   2.2007021  ...   0.16054442   0.81976061 -12.63028846]\n",
      " ...\n",
      " [ -0.30751248   0.1323937    2.33256448 ...   0.37475498  -1.37608098 -13.52353737]\n",
      " [ -0.02266014  -0.3014796    2.34502536 ...  -2.06082696  -1.20995417 -10.00714174]\n",
      " [  0.02415432  -0.3896902   -0.07492828 ...  -0.41935638  -1.68496516   8.33748658]]\n"
     ]
    }
   ],
   "source": [
    "def str_to_vec(line):\n",
    "    str_vec = line.split(\";\")\n",
    "    num_vec = map(lambda s:float(s), str_vec)\n",
    "    return np.fromiter(num_vec, dtype=float)\n",
    "def par_to_mat(iterator):\n",
    "    iter_arr = map(str_to_vec, iterator)\n",
    "    arr_list = list(iter_arr)\n",
    "    if len(arr_list) >= 1:\n",
    "        mat = np.vstack(arr_list)\n",
    "    else:\n",
    "        mat = np.array([])\n",
    "    yield mat\n",
    "dat = file.mapPartitions(par_to_mat).filter(lambda x: x.shape[0] > 0 )\n",
    "print(dat.first())"
   ]
  },
  {
   "cell_type": "markdown",
   "metadata": {},
   "source": [
    "3. 估计线性回归模型 $Y=X\\beta+\\varepsilon$ 的回归系数，**同时包含截距项**。要求**只使用一次** `reduce()`。"
   ]
  },
  {
   "cell_type": "code",
   "execution_count": 6,
   "metadata": {},
   "outputs": [
    {
     "name": "stdout",
     "output_type": "stream",
     "text": [
      "[ 1.22841355 -0.58056172 -1.12947488  1.16031679  0.68276231  0.64063205 -1.69803101  0.87295008\n",
      " -0.6827681   1.21323821 -0.18532546 -0.60313748  0.45016343  1.54732259  0.93536575  0.33661885\n",
      " -0.62839196 -0.18223468  1.04004336  0.99530527 -0.22421889  0.26910036 -1.95584105  0.93200566\n",
      " -0.46663344 -1.30308226 -1.07451859 -0.9200001  -0.4751849  -0.41498631  0.0893936   0.74250157\n",
      "  0.44142653  0.78310696  0.0968675  -0.20661749  1.36408459 -0.84452182 -1.56303708 -0.03391736\n",
      "  0.05672465 -0.01335776 -0.31919022 -1.7366497  -1.35682179 -1.60938262 -1.28888311  0.92820726\n",
      "  0.9148462  -0.87189391 -1.11327839 -0.65324334 -1.54752238 -1.48016168 -1.40044728  0.06124555\n",
      " -2.06832355  0.23966887 -1.45310857 -0.4958114  -1.0917562   1.22608413  0.71866161  0.46548143\n",
      " -0.21573557  1.19919219 -0.18470024  0.41716831  0.48748654 -0.28702665 -0.92945413 -2.54835305\n",
      "  1.21073672 -0.41380347  0.40696645  0.74054168  1.59228068 -0.35873326  0.41181034 -1.44030368\n",
      " -0.47743396 -0.27652029 -1.65913574  1.16482342  0.42295274  0.22050512 -0.59462348  1.16788557\n",
      " -2.2204779  -0.5005211  -1.10794934  1.6138532  -1.31890072 -0.06216637  2.21620451  1.48179503\n",
      "  0.54913153 -0.73276144  0.4414304   2.14035783  1.68434134]\n"
     ]
    }
   ],
   "source": [
    "#betacap = (X'X)^{-1}X'y\n",
    "dat_1 = dat.map(lambda m: np.c_[np.ones(m.shape[0]), m])\n",
    "XtX, Xty = dat_1.map(lambda m: (m[: , :-1].T.dot(m[: , :-1]), m[: , :-1].T.dot(m[: , -1]))).\\\n",
    "                                reduce(lambda x ,y:(x[0] + y[0],x[1] + y[1]))\n",
    "betah = np.linalg.solve(XtX, Xty)\n",
    "print(betah)\n"
   ]
  },
  {
   "cell_type": "markdown",
   "metadata": {},
   "source": [
    "4. 设计一个分布式算法，计算回归模型的 $R^2$。         \n",
    "$$SSR = \\sum(y_i -\\hat y_i)^2 = ||Y - X\\hat\\beta||_2^2$$\n",
    "$$SST = \\sum(y_i - \\bar y)^2 = \\sum y_i^2 - n(\\bar y)^2$$\n",
    "$$R^2 = 1 - \\frac{SSR}{SST}$$\n"
   ]
  },
  {
   "cell_type": "code",
   "execution_count": 7,
   "metadata": {},
   "outputs": [
    {
     "name": "stdout",
     "output_type": "stream",
     "text": [
      "[1, 2]\n"
     ]
    }
   ],
   "source": [
    "lol = [1,2,3]\n",
    "print(lol[:-1])"
   ]
  },
  {
   "cell_type": "code",
   "execution_count": 8,
   "metadata": {},
   "outputs": [
    {
     "name": "stdout",
     "output_type": "stream",
     "text": [
      "397451.80241834675 11636386.644065393 116691.99105594002 11500216.436299397\n",
      "R^2 =  0.9654396241479573\n"
     ]
    }
   ],
   "source": [
    "ssr,ysq,yid,num= dat_1.map(lambda m: (np.sum((m[:, -1] - m[: , :-1].dot(betah))**2),\n",
    "                                         np.sum(m[: , -1] * m[: , -1]),\n",
    "                                         np.sum(m[: , -1]),\n",
    "                                         np.sum(np.shape(m)[0]))).\\\n",
    "                             reduce(lambda x,y: (x[0] + y[0], x[1] + y[1], x[2] + y[2], x[3] + y[3]))\n",
    "sst = ysq - 1 / num * yid * yid\n",
    "R2 = 1 - ssr/sst\n",
    "print(ssr , ysq , yid,sst)\n",
    "print(\"R^2 = \", R2)\n"
   ]
  },
  {
   "cell_type": "markdown",
   "metadata": {},
   "source": [
    "### 第2题"
   ]
  },
  {
   "cell_type": "markdown",
   "metadata": {},
   "source": [
    "(a) 考虑 Softplus 函数 $$\\mathrm{softplus}(x)=\\log(1+e^x)$$\n",
    "\n",
    "请利用 Numpy 编写一个函数 `softplus(x)`，令其可以接收一个向量或矩阵 `x`，返回 Softplus 函数在 `x` 上的取值。"
   ]
  },
  {
   "cell_type": "code",
   "execution_count": 9,
   "metadata": {},
   "outputs": [],
   "source": [
    "import numpy as np\n",
    "\n",
    "def softplus(x):\n",
    "    return np.log(1 + np.exp(x))"
   ]
  },
  {
   "cell_type": "markdown",
   "metadata": {},
   "source": [
    "一个简单的测试："
   ]
  },
  {
   "cell_type": "code",
   "execution_count": 10,
   "metadata": {},
   "outputs": [
    {
     "name": "stdout",
     "output_type": "stream",
     "text": [
      "[0.00000000e+00 0.00000000e+00 4.53988992e-05 6.93147181e-01 1.31326169e+00 1.00000454e+01\n",
      " 1.00000000e+02            inf]\n"
     ]
    },
    {
     "name": "stderr",
     "output_type": "stream",
     "text": [
      "C:\\Users\\Bmanksy\\AppData\\Local\\Temp\\ipykernel_24444\\938262032.py:4: RuntimeWarning: overflow encountered in exp\n",
      "  return np.log(1 + np.exp(x))\n"
     ]
    }
   ],
   "source": [
    "x = np.array([-1000.0, -100.0, -10.0, 0.0, 1.0, 10.0, 100.0, 1000.0])\n",
    "\n",
    "# 上面编写的函数\n",
    "print(softplus(x))"
   ]
  },
  {
   "cell_type": "markdown",
   "metadata": {},
   "source": [
    "(b) 上述结果是否正常？如果出现异常取值，思考可能的原因是什么，并参照课件上的说明再次尝试编写 Softplus 函数。注意尽可能使用 Numpy 提供的向量化函数，避免使用循环。该函数需同时支持向量和矩阵参数。如果一切正常，可忽略此问题。"
   ]
  },
  {
   "cell_type": "code",
   "execution_count": 11,
   "metadata": {},
   "outputs": [],
   "source": [
    "def softplus(x):\n",
    "    case1 = np.log(1 + np.exp(x))\n",
    "    case2 = x + np.log(1 + np.exp(-x))\n",
    "    return np.where(x >=0, case2, case1)\n",
    "#np.where实际上只是在处理三个向量，这里的溢出是计算不被选择的情况下得到的溢出\n",
    "#法二：np.log(1 + np.exp(abs(x)))"
   ]
  },
  {
   "cell_type": "markdown",
   "metadata": {},
   "source": [
    "再次测试："
   ]
  },
  {
   "cell_type": "code",
   "execution_count": 12,
   "metadata": {},
   "outputs": [
    {
     "name": "stdout",
     "output_type": "stream",
     "text": [
      "[0.00000000e+00 0.00000000e+00 4.53988992e-05 6.93147181e-01 1.31326169e+00 1.00000454e+01\n",
      " 1.00000000e+02 1.00000000e+03]\n",
      "\n",
      "[[0.00000000e+00 0.00000000e+00]\n",
      " [4.53988992e-05 6.93147181e-01]\n",
      " [1.31326169e+00 1.00000454e+01]\n",
      " [1.00000000e+02 1.00000000e+03]]\n"
     ]
    },
    {
     "name": "stderr",
     "output_type": "stream",
     "text": [
      "C:\\Users\\Bmanksy\\AppData\\Local\\Temp\\ipykernel_24444\\2640725455.py:2: RuntimeWarning: overflow encountered in exp\n",
      "  case1 = np.log(1 + np.exp(x))\n",
      "C:\\Users\\Bmanksy\\AppData\\Local\\Temp\\ipykernel_24444\\2640725455.py:3: RuntimeWarning: overflow encountered in exp\n",
      "  case2 = x + np.log(1 + np.exp(-x))\n"
     ]
    }
   ],
   "source": [
    "print(softplus(x))\n",
    "print()\n",
    "print(softplus(x.reshape(4, 2)))"
   ]
  },
  {
   "cell_type": "markdown",
   "metadata": {},
   "source": [
    "### 第3题"
   ]
  },
  {
   "cell_type": "markdown",
   "metadata": {},
   "source": [
    "利用如下代码生成模拟数据，其中数据第一列代表0-1因变量 $Y$，其余列为自变量 $X$。"
   ]
  },
  {
   "cell_type": "code",
   "execution_count": 13,
   "metadata": {},
   "outputs": [],
   "source": [
    "import numpy as np\n",
    "from scipy.special import expit\n",
    "\n",
    "np.random.seed(123)\n",
    "n = 100000\n",
    "p = 100\n",
    "x = np.random.normal(size=(n, p))\n",
    "beta = np.random.normal(size=p)\n",
    "prob = expit(-0.5 + x.dot(beta))  # p = 1 / (1 + exp(-x * beta))\n",
    "y = np.random.binomial(1, prob, size=n)\n",
    "dat = np.hstack((y.reshape(n, 1), x))\n",
    "np.savetxt(\"logistic_data.txt\", dat, fmt=\"%.8f\", delimiter=\"\\t\")"
   ]
  },
  {
   "cell_type": "markdown",
   "metadata": {},
   "source": [
    "1. 对上述数据建立 Logistic 回归模型。任选一种算法，估计 Logistic 回归的回归系数，**同时包含截距项**。请利用第2题中编写的 Softplus 函数，编写**数值稳定**的函数计算 Logistic 回归的目标函数和梯度。"
   ]
  },
  {
   "cell_type": "markdown",
   "metadata": {},
   "source": [
    "目标：minimize \n",
    "$$L_{CE} = - \\sum_{i=1}^N(y_ilog\\sigma(\\beta xi) + (1 - y_i)log(1 - \\sigma(x_i;\\beta)))$$\n",
    "$$L_{CE} = - \\sum_{i=1}^N(y_i(x\\beta - log(1 + e^{x\\beta})) + (1 - y_i)(-log(1 + e^{x\\beta})))$$\n",
    "$=y_ix'\\beta$\n",
    "由于损失函数的可加性，拆解到每个矩形上计算，最后用加法汇总，得到总损失函数"
   ]
  },
  {
   "cell_type": "code",
   "execution_count": 14,
   "metadata": {
    "scrolled": true
   },
   "outputs": [
    {
     "name": "stdout",
     "output_type": "stream",
     "text": [
      "100000\n",
      "\n",
      "['0.00000000\\t-1.08563060\\t0.99734545\\t0.28297850\\t-1.50629471\\t-0.57860025\\t1...', '1.00000000\\t0.64205469\\t-1.97788793\\t0.71226464\\t2.59830393\\t-0.02462598\\t0....', '0.00000000\\t0.70331012\\t-0.59810533\\t2.20070210\\t0.68829693\\t-0.00630725\\t-0...', '1.00000000\\t0.76505485\\t-0.82898883\\t-0.65915131\\t0.61112355\\t-0.14401335\\t1...', '0.00000000\\t1.53409029\\t-0.52991410\\t-0.49097228\\t-1.30916531\\t-0.00866047\\t...']\n",
      "4\n"
     ]
    },
    {
     "data": {
      "text/plain": [
       "PythonRDD[14] at RDD at PythonRDD.scala:53"
      ]
     },
     "execution_count": 14,
     "metadata": {},
     "output_type": "execute_result"
    }
   ],
   "source": [
    "def str_to_vec(line):\n",
    "    str_vec = line.split(\"\\t\")\n",
    "    num_vec = map(lambda s:float(s), str_vec)\n",
    "    return np.fromiter(num_vec, dtype=float)\n",
    "def par_to_mat(iterator):\n",
    "    iter_arr = map(str_to_vec, iterator)\n",
    "    arr_list = list(iter_arr)\n",
    "    if len(arr_list) >= 1:\n",
    "        mat = np.vstack(arr_list)\n",
    "    else:\n",
    "        mat = np.array([])\n",
    "    yield mat\n",
    "file = sc.textFile(\"logistic_data.txt\")\n",
    "print(file.count())\n",
    "print()\n",
    "text = file.map(lambda x: x[:70] + \"...\").take(5)\n",
    "print(text)\n",
    "dat = file.mapPartitions(par_to_mat).filter(lambda x: x.shape[0] > 0)\n",
    "#将训练集分区映射为矩阵以便于下一步处理\n",
    "print(dat.count())\n",
    "#做缓存操作 减少通信成本\n",
    "dat.cache()"
   ]
  },
  {
   "cell_type": "code",
   "execution_count": 15,
   "metadata": {},
   "outputs": [],
   "source": [
    "#准备好需要使用的函数\n",
    "def softplus(x):\n",
    "    case1 = np.log(1 + np.exp(x))\n",
    "    case2 = x + np.log(1 + np.exp(-x))\n",
    "    return np.where(x >=0, case2, case1)  \n",
    "\n",
    "def sigmoid(x):\n",
    "    case1 = 1/(1 + np.exp(-x))\n",
    "    case2 = np.exp(x)/(1 + np.exp(x))\n",
    "    return np.where(x >= 0, case1, case2)\n",
    "    "
   ]
  },
  {
   "cell_type": "code",
   "execution_count": 16,
   "metadata": {},
   "outputs": [],
   "source": [
    "def compute_stats(part_mat, beta_old):\n",
    "    c = np.ones(part_mat.shape[0])\n",
    "    y = part_mat[: , 0]\n",
    "    x = np.c_[c, part_mat[: , 1:]]\n",
    "    xb = x.dot(beta_old)\n",
    "    prob = sigmoid(xb)\n",
    "    w = prob * (1.0 - prob) + 1e-6 #这里如何避免\n",
    "    xtw = x.transpose() * w\n",
    "    xtwx = xtw.dot(x)\n",
    "    z = xb + (y - prob) / w\n",
    "    xtwz = xtw.dot(z)\n",
    "    objfn = -np.sum(y * (xb - softplus(xb)) + (1.0 - y) *(- softplus(xb)))\n",
    "    return xtwx, xtwz, objfn"
   ]
  },
  {
   "cell_type": "code",
   "execution_count": 17,
   "metadata": {},
   "outputs": [
    {
     "name": "stdout",
     "output_type": "stream",
     "text": [
      "Iteration 0, objfn = 69314.71805599453, resid = 1.569852188525537\n",
      "Iteration 1, objfn = 32646.979227911244, resid = 1.3901997462268307\n",
      "Iteration 2, objfn = 21647.76931828451, resid = 1.7368788815875644\n",
      "Iteration 3, objfn = 16036.81715822243, resid = 2.077661047626655\n",
      "Iteration 4, objfn = 13369.971015111047, resid = 2.0554425789459017\n",
      "Iteration 5, objfn = 12424.605050958291, resid = 1.3106763115298692\n",
      "Iteration 6, objfn = 12255.539828228108, resid = 0.3468415339074449\n",
      "Iteration 7, objfn = 12248.21498992548, resid = 0.01834434661832474\n",
      "Iteration 8, objfn = 12248.196924487687, resid = 6.370796261384574e-05\n",
      "Iteration 9, objfn = 12248.19692427128, resid = 6.05647308167563e-08\n"
     ]
    }
   ],
   "source": [
    "# beta初始化 注意包含常数项\n",
    "p = dat.first().shape[1]\n",
    "beta_hat = np.zeros(p)\n",
    "# 记录目标函数值\n",
    "objvals = []\n",
    "#迭代次数上界\n",
    "maxit = 30\n",
    "# 收敛条件\n",
    "eps = 1e-6\n",
    "\n",
    "for i in range(maxit):\n",
    "    xtwx, xtwz, objfn = dat.map(lambda part: compute_stats(part, beta_hat)).\\\n",
    "        reduce(lambda x, y: (x[0] + y[0], x[1] + y[1], x[2] + y[2]))\n",
    "    beta_new = np.linalg.solve(xtwx, xtwz)\n",
    "    resid = np.linalg.norm(beta_new - beta_hat)\n",
    "    print(f\"Iteration {i}, objfn = {objfn}, resid = {resid}\")\n",
    "    objvals.append(objfn)\n",
    "    #debug用\n",
    "    if resid < eps:\n",
    "        break\n",
    "    beta_hat = beta_new"
   ]
  },
  {
   "cell_type": "markdown",
   "metadata": {},
   "source": [
    "2. 利用估计得到的 $\\hat{\\beta}$ 对原始数据进行预测，令 $\\hat{\\rho}_i$ 表示估计出的每个观测 $Y_i$ 取值为1的概率。为每个观测计算一个预测的0-1标签 $\\hat{l}_i$，规则如下：如果 $\\hat{\\rho}_i\\ge 0.5$，则 $\\hat{l}_i=1$，反之 $\\hat{l}_i=0$。利用分布式算法计算模型的预测准确度，即 $n^{-1}\\sum_{i=1}^n I(Y_i=\\hat{l}_i)$。$I(Y_i=\\hat{l}_i)$ 表示预测对取1，预测错取0。"
   ]
  },
  {
   "cell_type": "code",
   "execution_count": 1,
   "metadata": {},
   "outputs": [
    {
     "ename": "NameError",
     "evalue": "name 'np' is not defined",
     "output_type": "error",
     "traceback": [
      "\u001b[1;31m---------------------------------------------------------------------------\u001b[0m",
      "\u001b[1;31mNameError\u001b[0m                                 Traceback (most recent call last)",
      "\u001b[1;32m~\\AppData\\Local\\Temp\\ipykernel_20504\\1069539990.py\u001b[0m in \u001b[0;36m<module>\u001b[1;34m\u001b[0m\n\u001b[1;32m----> 1\u001b[1;33m \u001b[0mc\u001b[0m \u001b[1;33m=\u001b[0m \u001b[0mnp\u001b[0m\u001b[1;33m.\u001b[0m\u001b[0mones\u001b[0m\u001b[1;33m(\u001b[0m\u001b[0mx\u001b[0m\u001b[1;33m.\u001b[0m\u001b[0mshape\u001b[0m\u001b[1;33m[\u001b[0m\u001b[1;36m0\u001b[0m\u001b[1;33m]\u001b[0m\u001b[1;33m)\u001b[0m\u001b[1;33m\u001b[0m\u001b[1;33m\u001b[0m\u001b[0m\n\u001b[0m\u001b[0;32m      2\u001b[0m \u001b[0mX\u001b[0m \u001b[1;33m=\u001b[0m \u001b[0mnp\u001b[0m\u001b[1;33m.\u001b[0m\u001b[0mc_\u001b[0m\u001b[1;33m[\u001b[0m\u001b[0mc\u001b[0m\u001b[1;33m,\u001b[0m \u001b[0mx\u001b[0m\u001b[1;33m]\u001b[0m\u001b[1;33m\u001b[0m\u001b[1;33m\u001b[0m\u001b[0m\n\u001b[0;32m      3\u001b[0m \u001b[0ms\u001b[0m \u001b[1;33m=\u001b[0m \u001b[0msigmoid\u001b[0m\u001b[1;33m(\u001b[0m\u001b[0mX\u001b[0m\u001b[1;33m.\u001b[0m\u001b[0mdot\u001b[0m\u001b[1;33m(\u001b[0m\u001b[0mbeta_hat\u001b[0m\u001b[1;33m)\u001b[0m\u001b[1;33m)\u001b[0m\u001b[1;33m\u001b[0m\u001b[1;33m\u001b[0m\u001b[0m\n\u001b[0;32m      4\u001b[0m \u001b[0moutput\u001b[0m \u001b[1;33m=\u001b[0m \u001b[0mnp\u001b[0m\u001b[1;33m.\u001b[0m\u001b[0mwhere\u001b[0m\u001b[1;33m(\u001b[0m\u001b[0ms\u001b[0m \u001b[1;33m>=\u001b[0m \u001b[1;36m0.5\u001b[0m\u001b[1;33m,\u001b[0m \u001b[1;36m1\u001b[0m\u001b[1;33m,\u001b[0m \u001b[1;36m0\u001b[0m\u001b[1;33m)\u001b[0m\u001b[1;33m\u001b[0m\u001b[1;33m\u001b[0m\u001b[0m\n\u001b[0;32m      5\u001b[0m \u001b[0maccu\u001b[0m \u001b[1;33m=\u001b[0m \u001b[0mnp\u001b[0m\u001b[1;33m.\u001b[0m\u001b[0mwhere\u001b[0m\u001b[1;33m(\u001b[0m\u001b[0ms\u001b[0m \u001b[1;33m-\u001b[0m \u001b[0mdat\u001b[0m\u001b[1;33m[\u001b[0m\u001b[1;33m:\u001b[0m \u001b[1;33m,\u001b[0m \u001b[1;36m0\u001b[0m\u001b[1;33m]\u001b[0m \u001b[1;33m==\u001b[0m \u001b[1;36m0.0\u001b[0m\u001b[1;33m,\u001b[0m \u001b[1;36m1.0\u001b[0m\u001b[1;33m,\u001b[0m \u001b[1;36m0.0\u001b[0m \u001b[1;33m)\u001b[0m\u001b[1;33m\u001b[0m\u001b[1;33m\u001b[0m\u001b[0m\n",
      "\u001b[1;31mNameError\u001b[0m: name 'np' is not defined"
     ]
    }
   ],
   "source": [
    "c = np.ones(x.shape[0])\n",
    "X = np.c_[c, x]\n",
    "s = sigmoid(X.dot(beta_hat))\n",
    "output = np.where(s >= 0.5, 1, 0)\n",
    "judge = np.where(output == y, 1.0, 0.0 )\n",
    "right_sum = sum(judge)\n",
    "count = len(judge)\n",
    "print(right_sum / count)"
   ]
  },
  {
   "cell_type": "code",
   "execution_count": null,
   "metadata": {},
   "outputs": [],
   "source": []
  }
 ],
 "metadata": {
  "kernelspec": {
   "display_name": "Python 3 (ipykernel)",
   "language": "python",
   "name": "python3"
  },
  "language_info": {
   "codemirror_mode": {
    "name": "ipython",
    "version": 3
   },
   "file_extension": ".py",
   "mimetype": "text/x-python",
   "name": "python",
   "nbconvert_exporter": "python",
   "pygments_lexer": "ipython3",
   "version": "3.9.13"
  }
 },
 "nbformat": 4,
 "nbformat_minor": 4
}
