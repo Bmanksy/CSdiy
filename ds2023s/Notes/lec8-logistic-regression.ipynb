{
 "cells": [
  {
   "cell_type": "markdown",
   "id": "294f54c3",
   "metadata": {},
   "source": [
    "# 分布式 Logistic 回归模型\n",
    "最终目的是理解y的分布，p(y=1)=p      \n",
    "理论上每一个观测yi对应一个pi      \n",
    "利用观测yi的自变量xi构建和pi的关系，$pi=xi*beta$ 前者（0，1） 后者 R         \n",
    "这时需要一个映射将R->（0，1）     \n",
    "logistic选用了sigmoid （可选项）     \n",
    "需要选择损失函数      \n",
    "此时选择似然函数（性质好 掌握性质！）     \n",
    "$P(Y_i=y) = p_i^y_i*(1-p_i)^{1-y_i}$       \n"
   ]
  },
  {
   "cell_type": "markdown",
   "id": "4620286c",
   "metadata": {},
   "source": [
    "Two branches of **methods for classification**:generative modeling/discriminative modeling      \n",
    "Naive Bayes is a generative classifier;logistic regression is a discrimitive classifier    \n",
    "A generative model like naive Bayes assigns a class c to a document d by computing a likelihood and a prior\n",
    "$$ \\hat c = \\underset{c\\in C}{argmax} P(d|c) P(c) $$     \n",
    "A discriminative model attempts to directly compute $P(c|d)$     \n",
    "\n",
    "**Components of a probabilistic machine learning classifier**:      \n",
    "1. A feature represntation of the input.Observation x->a vector of features(x1,x2,...,xn)\n",
    "2. A classification function that computes $\\hat y$.(ex. sigmoid and softmax tools)\n",
    "3. An objective function for learning, usually involving minimizing error on training examples.(cross-entropy loss function)\n",
    "4. An algorithm for optimizing the objective function.(gradient descent...)\n"
   ]
  },
  {
   "cell_type": "markdown",
   "id": "b8218401",
   "metadata": {},
   "source": [
    "Logistic regression learns, from a training set, a vector of **weights** and a **bias** term.\n",
    "\n",
    "Each weight $w_i$ is a real number, and is associated with one of the input features $x_i$. The weight $w_i$ represents how important that input feature to the classification decision.           \n",
    "The bias term, also called the intercept, is another real number that’s added to the weighted inputs.\n",
    "The resulting single number z expresses the weighted sum of the evidence for the class.\n",
    "$$z = \\big(\\sum_{i=1}^n w_ix_i \\big) + b$$\n",
    "$$ z = w\\cdot x + b$$"
   ]
  },
  {
   "cell_type": "markdown",
   "id": "4c2a391b",
   "metadata": {},
   "source": [
    "To create a probability, we’ll pass $z$ through the sigmoid function, $\\sigma(z)$.\n",
    "$$\\sigma(z) = \\frac{1}{1 + e^{-z}}$$"
   ]
  },
  {
   "cell_type": "code",
   "execution_count": 10,
   "id": "1a84d3cb",
   "metadata": {},
   "outputs": [
    {
     "data": {
      "image/png": "[encoded data removed]",
      "text/plain": [
       "<Figure size 640x480 with 1 Axes>"
      ]
     },
     "metadata": {},
     "output_type": "display_data"
    }
   ],
   "source": [
    "import numpy as np\n",
    "import matplotlib.pyplot as plt\n",
    "z = np.arange(-8, 8, 0.1)\n",
    "x = z\n",
    "y = 1 / (1 + np.exp(-z))\n",
    "plt.plot(x, y)\n",
    "plt.grid()\n",
    "plt.show()"
   ]
  },
  {
   "cell_type": "markdown",
   "id": "19999261",
   "metadata": {},
   "source": [
    "Because it is nearly linear around 0 but flattens toward the ends, it tends to squash outlier values toward 0 or 1. And it's differentiable.\n",
    "$$1 - \\sigma(x) = \\sigma(-x)$$\n",
    "$$P(y = 1) = \\sigma(w\\cdot x + b)$$\n",
    "$$P(y = 0) = 1 - \\sigma(w\\cdot x + b) = \\sigma(-(w\\cdot x + b))$$"
   ]
  },
  {
   "cell_type": "markdown",
   "id": "a50d5096",
   "metadata": {},
   "source": [
    "The **decision boundary**:\n",
    "$$\n",
    "decision(x)\n",
    "\\begin{cases}\n",
    "1, &if P(y = 1|x)>0.5\\\\\n",
    "0, &otherwise\n",
    "\\end{cases}\n",
    "$$"
   ]
  },
  {
   "cell_type": "markdown",
   "id": "ec75cfa7",
   "metadata": {},
   "source": [
    "We need a **loss function** that expresses, for an observation x, how close the classifier\n",
    "output ($\\hat y = \\sigma(w\\cdot x + b)$) is to the correct output ($y$, which is 0 or 1)\n",
    "$$L(\\hat y, y) = How\\ much\\ \\hat y\\ differs\\ from\\ the\\ true\\ y$$\n",
    "We do this via a loss function that prefers the correct class labels of the training examples to be *more likely*.\n",
    "\n",
    "**Conditional maximum likelihood estimation**: we choose the parameters $w, b$ that maximize the log probability of the true y labels in the training data given the observations $x$. The resulting loss function is the negative log likelihood loss, generally called th **cross-entropy loss**.\n",
    "\n",
    "**Derivation**:      \n",
    "Essencially, $$Y|x ~ Bernoulli(\\sigma(\\beta'x)) = Bernoulli(\\hat y) $$\n",
    "$$p(y|x) = \\hat y^y(1 - \\hat y)^{1 - y}$$\n",
    "We want to learn weights that maximize the probability of the correct label.\n",
    "$$log p(y|x) = ylog\\hat y + (1 - y)log(1 - \\hat y)\\ \\ \\ (5.21)$$\n",
    "To turn this into a loss function( sth that we need to minimize), we flip the sign.\n",
    "$$L_{CE}( \\hat y, y) = -log p(y|x) = - ylog\\hat y + (1 - y)log(1 - \\hat y)$$\n",
    "$$L_{CE}( \\hat y, y) = - ylog\\sigma(w\\cdot x + b) + (1 - y)log(1 - \\sigma(w\\cdot x + b)$$\n",
    "The **underlying theory**:       \n",
    "If $y = 1$, the higher $\\hat y$ is, the better the classifier.If $y = 0$, the higher $1 - \\hat y$ is, the better the classifier.Thus the negative log of $\\hat y$(true y =1) or $1 - \\hat y$(true y = 0) is a convenient metric.\n",
    "\n",
    "This loss function also ensures that as the probability of the correct answer is maximized, the probability of the incorrect answer is minimized; since the two sum to one, any increase in the probability of the correct answer is coming at the expense of the incorrect answer. It’s called the cross-entropy loss, because Eq. 5.21 is also the formula for the cross-entropy between the true probability distribution $y$ and our estimated distribution $\\hat y$."
   ]
  },
  {
   "cell_type": "code",
   "execution_count": null,
   "id": "18466036",
   "metadata": {},
   "outputs": [],
   "source": []
  },
  {
   "cell_type": "markdown",
   "id": "dd303e5e",
   "metadata": {},
   "source": [
    "### 1. 准备工作"
   ]
  },
  {
   "cell_type": "markdown",
   "id": "4330a894",
   "metadata": {},
   "source": [
    "配置和启动 PySpark："
   ]
  },
  {
   "cell_type": "code",
   "execution_count": null,
   "id": "54d9bba0",
   "metadata": {},
   "outputs": [],
   "source": [
    "import findspark\n",
    "findspark.init()\n",
    "\n",
    "from pyspark.sql import SparkSession\n",
    "# 本地模式\n",
    "spark = SparkSession.builder.\\\n",
    "    master(\"local[*]\").\\\n",
    "    appName(\"Logistic Regression\").\\\n",
    "    getOrCreate()\n",
    "sc = spark.sparkContext\n",
    "# sc.setLogLevel(\"ERROR\")\n",
    "print(spark)\n",
    "print(sc)"
   ]
  },
  {
   "cell_type": "markdown",
   "id": "b67ee1cd",
   "metadata": {},
   "source": [
    "假设 $n\\gg p$，利用 Numpy 生成模拟数据，并写入文件。"
   ]
  },
  {
   "cell_type": "code",
   "execution_count": null,
   "id": "cc36a5cc",
   "metadata": {},
   "outputs": [],
   "source": [
    "import os\n",
    "import numpy as np\n",
    "from scipy.special import expit, logit\n",
    "np.set_printoptions(linewidth=100)\n",
    "\n",
    "np.random.seed(123)\n",
    "n = 100000\n",
    "p = 100\n",
    "x = np.random.normal(size=(n, p))\n",
    "beta = np.random.normal(size=p)\n",
    "prob = expit(x.dot(beta))  # p = 1 / (1 + exp(-x * beta))\n",
    "y = np.random.binomial(1, prob, size=n)\n",
    "dat = np.hstack((y.reshape(n, 1), x))\n",
    "if not os.path.exists(\"data\"):\n",
    "    os.makedirs(\"data\", exist_ok=True)\n",
    "np.savetxt(\"data/logistic.txt\", dat, fmt=\"%f\", delimiter=\"\\t\")"
   ]
  },
  {
   "cell_type": "markdown",
   "id": "0814eb19",
   "metadata": {},
   "source": [
    "其中 `expit()` 即 Sigmoid 函数，表达式为 $\\rho(x)=1/(1+e^{-x})$。 "
   ]
  },
  {
   "cell_type": "markdown",
   "id": "8b44965a",
   "metadata": {},
   "source": [
    "PySpark 读取文件并进行一些简单操作："
   ]
  },
  {
   "cell_type": "code",
   "execution_count": null,
   "id": "4dfebd79",
   "metadata": {
    "scrolled": true
   },
   "outputs": [],
   "source": [
    "file = sc.textFile(\"data/logistic.txt\")\n",
    "\n",
    "# 打印矩阵行数\n",
    "print(file.count())\n",
    "\n",
    "# 空行\n",
    "print()\n",
    "\n",
    "# 打印前5行，并将每行字符串截尾\n",
    "text = file.map(lambda x: x[:70] + \"...\").take(5)\n",
    "print(*text, sep=\"\\n\")"
   ]
  },
  {
   "cell_type": "markdown",
   "id": "96ca1b07",
   "metadata": {},
   "source": [
    "### 2. 牛顿法迭代"
   ]
  },
  {
   "cell_type": "markdown",
   "id": "cc4a0ff4",
   "metadata": {},
   "source": [
    "Logistic 回归的系数估计没有显式解，但可以利用牛顿法迭代。参见 [https://online.stat.psu.edu/stat508/lesson/9/9.1/9.1.2](https://online.stat.psu.edu/stat508/lesson/9/9.1/9.1.2)。"
   ]
  },
  {
   "cell_type": "markdown",
   "id": "5c735d6e",
   "metadata": {},
   "source": [
    "迭代公式为 $\\beta^{new}=(X'WX)^{-1}X'Wz$，其中 $z=X\\beta^{old}+W^{-1}(y-prob)$，$prob$ 是 $\\rho(X\\beta^{old})$ 组成的向量，$W$ 是以 $prob\\cdot (1-prob)$ 为对角线元素的对角矩阵。"
   ]
  },
  {
   "cell_type": "markdown",
   "id": "9bf28dac",
   "metadata": {},
   "source": [
    "当 $n\\gg p$ 且 $p$ 不太大时，$X'WX$ 为 $p\\times p$ 矩阵，$X'Wz$ 为 $p\\times 1$ 向量，均可放入内存。因此，此时问题的核心在于计算 $X'WX$ 与 $X'Wz$。"
   ]
  },
  {
   "cell_type": "markdown",
   "id": "414e77bd",
   "metadata": {},
   "source": [
    "首先进行分区映射："
   ]
  },
  {
   "cell_type": "code",
   "execution_count": null,
   "id": "b3e21ee5",
   "metadata": {},
   "outputs": [],
   "source": [
    "# file = file.repartition(10)\n",
    "print(file.getNumPartitions())"
   ]
  },
  {
   "cell_type": "code",
   "execution_count": null,
   "id": "3d75ea38",
   "metadata": {},
   "outputs": [],
   "source": [
    "# str => np.array\n",
    "def str_to_vec(line):\n",
    "    # 分割字符串\n",
    "    str_vec = line.split(\"\\t\")\n",
    "    # 将每一个元素从字符串变成数值型\n",
    "    num_vec = map(lambda s: float(s), str_vec)\n",
    "    # 创建 Numpy 向量\n",
    "    return np.fromiter(num_vec, dtype=float)\n",
    "\n",
    "# Iter[str] => Iter[matrix]\n",
    "def part_to_mat(iterator):\n",
    "    # Iter[str] => Iter[np.array]\n",
    "    iter_arr = map(str_to_vec, iterator)\n",
    "\n",
    "    # Iter[np.array] => list(np.array)\n",
    "    dat = list(iter_arr)\n",
    "\n",
    "    # list(np.array) => matrix\n",
    "    if len(dat) < 1:  # Test zero iterator\n",
    "        mat = np.array([])\n",
    "    else:\n",
    "        mat = np.vstack(dat)\n",
    "\n",
    "    # matrix => Iter[matrix]\n",
    "    yield mat"
   ]
  },
  {
   "cell_type": "code",
   "execution_count": null,
   "id": "d437358b",
   "metadata": {},
   "outputs": [],
   "source": [
    "dat = file.mapPartitions(part_to_mat).filter(lambda x: x.shape[0] > 0)\n",
    "print(dat.count())"
   ]
  },
  {
   "cell_type": "code",
   "execution_count": null,
   "id": "eb2cd1b8",
   "metadata": {},
   "outputs": [],
   "source": [
    "dat.first()"
   ]
  },
  {
   "cell_type": "markdown",
   "id": "d05681c4",
   "metadata": {},
   "source": [
    "注意此时每个分区上的数据同时包含了因变量 $y$ 和自变量 $X$。给定当前估计 $\\beta^{old}$，计算每个分区上的统计量 $X'WX$ 和 $X'Wz$："
   ]
  },
  {
   "cell_type": "code",
   "execution_count": null,
   "id": "c5bee37a",
   "metadata": {
    "scrolled": false
   },
   "outputs": [],
   "source": [
    "def compute_stats(part_mat, beta_old):\n",
    "    # 提取 X 和 y\n",
    "    y = part_mat[:, 0]\n",
    "    x = part_mat[:, 1:]\n",
    "    # X * beta\n",
    "    xb = x.dot(beta_old)\n",
    "    # rho(X * beta)\n",
    "    prob = expit(xb)\n",
    "    # W 的对角线元素\n",
    "    w = prob * (1.0 - prob) + 1e-6\n",
    "    # X'W，数组广播操作，避免生成完整的 W\n",
    "    xtw = x.transpose() * w\n",
    "    # X'WX\n",
    "    xtwx = xtw.dot(x)\n",
    "    # X'Wz\n",
    "    z = xb + (y - prob) / w\n",
    "    xtwz = xtw.dot(z)\n",
    "    return xtwx, xtwz"
   ]
  },
  {
   "cell_type": "markdown",
   "id": "fc090087",
   "metadata": {},
   "source": [
    "主循环："
   ]
  },
  {
   "cell_type": "code",
   "execution_count": null,
   "id": "55a52b11",
   "metadata": {},
   "outputs": [],
   "source": [
    "import time\n",
    "\n",
    "# 根据数据动态获取维度，不要使用之前模拟时的变量\n",
    "p = dat.first().shape[1] - 1\n",
    "# beta 初始化为 0 向量\n",
    "beta_hat = np.zeros(p)\n",
    "\n",
    "# 最大迭代次数\n",
    "maxit = 30\n",
    "# 收敛条件\n",
    "eps = 1e-6\n",
    "\n",
    "t1 = time.time()\n",
    "for i in range(maxit):\n",
    "    # 完整数据的 X'WX 和 X'Wz 是各分区的加和\n",
    "    xtwx, xtwz = dat.map(lambda part: compute_stats(part, beta_hat)).reduce(lambda x, y: (x[0] + y[0], x[1] + y[1]))\n",
    "    # 计算新 beta\n",
    "    beta_new = np.linalg.solve(xtwx, xtwz)\n",
    "    # 计算 beta 的变化\n",
    "    resid = np.linalg.norm(beta_new - beta_hat)\n",
    "    print(f\"Iteration {i}, resid = {resid}\")\n",
    "    # 如果 beta 几乎不再变化，退出循环\n",
    "    if resid < eps:\n",
    "        break\n",
    "    # 更新 beta\n",
    "    beta_hat = beta_new\n",
    "t2 = time.time()\n",
    "print(f\"\\nfinished in {t2 - t1} seconds\")"
   ]
  },
  {
   "cell_type": "markdown",
   "id": "68d375e8",
   "metadata": {},
   "source": [
    "关闭 Spark 连接："
   ]
  },
  {
   "cell_type": "code",
   "execution_count": null,
   "id": "c6e9f36e",
   "metadata": {},
   "outputs": [],
   "source": [
    "sc.stop()"
   ]
  }
 ],
 "metadata": {
  "kernelspec": {
   "display_name": "Python 3 (ipykernel)",
   "language": "python",
   "name": "python3"
  },
  "language_info": {
   "codemirror_mode": {
    "name": "ipython",
    "version": 3
   },
   "file_extension": ".py",
   "mimetype": "text/x-python",
   "name": "python",
   "nbconvert_exporter": "python",
   "pygments_lexer": "ipython3",
   "version": "3.9.13"
  }
 },
 "nbformat": 4,
 "nbformat_minor": 5
}
