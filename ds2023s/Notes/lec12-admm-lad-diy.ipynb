{
 "cells": [
  {
   "cell_type": "markdown",
   "id": "bde99cd6",
   "metadata": {},
   "source": [
    "LAD的目标函数为$$min\\ ||Ax - b||_1$$\n",
    "$A_{n\\times p}$为自变量矩阵,$b_{p\\times1}$为因变量向量，$x_{p\\times1}$为需要估计的回归系数。"
   ]
  },
  {
   "cell_type": "markdown",
   "id": "b4f955df",
   "metadata": {},
   "source": [
    "将其转化为ADMM算法框架下的形式，$f(x) = 0,g(z) = ||z||_1, B = -I, c = b$          \n",
    "目标函数变为$$min\\ ||z||_1$$\n",
    "约束条件为$$AX - b = z$$\n"
   ]
  },
  {
   "cell_type": "code",
   "execution_count": 1,
   "id": "8b920f28",
   "metadata": {},
   "outputs": [],
   "source": [
    "import numpy as np\n",
    "np.set_printoptions(linewidth=100)"
   ]
  },
  {
   "cell_type": "code",
   "execution_count": 2,
   "id": "d75a3215",
   "metadata": {},
   "outputs": [],
   "source": [
    "np.random.seed(123)\n",
    "n = 1000\n",
    "p = 10\n",
    "A = np.random.normal(size=(n,p))\n",
    "xtrue = np.random.normal(size=p)\n",
    "b = A.dot(xtrue) + np.random.normal(size=n)"
   ]
  },
  {
   "cell_type": "code",
   "execution_count": 3,
   "id": "3d586621",
   "metadata": {},
   "outputs": [
    {
     "data": {
      "text/plain": [
       "array([-1.24096967, -0.31294679, -0.84894679,  2.37795259,  0.65750062,  0.21308689, -0.49097031,\n",
       "       -1.0815104 ,  0.00480111, -0.36079657])"
      ]
     },
     "execution_count": 3,
     "metadata": {},
     "output_type": "execute_result"
    }
   ],
   "source": [
    "xtrue"
   ]
  },
  {
   "cell_type": "code",
   "execution_count": 4,
   "id": "e0cf208d",
   "metadata": {},
   "outputs": [],
   "source": [
    "#设定初值，注意维数\n",
    "x = np.zeros(p)\n",
    "z = np.zeros(n)\n",
    "u = np.zeros(n)\n"
   ]
  },
  {
   "cell_type": "code",
   "execution_count": 5,
   "id": "7a2dc708",
   "metadata": {},
   "outputs": [],
   "source": [
    "#理论上rho可取任意正数；这里设定的是1.0，而非1\n",
    "rho = 1.0"
   ]
  },
  {
   "cell_type": "code",
   "execution_count": 6,
   "id": "ac65f194",
   "metadata": {},
   "outputs": [],
   "source": [
    "#编写soft-thresholding函数，使其可以直接作用于向量(使用numpy函数)\n",
    "#此处0，写入0.0\n",
    "def soft_thresholding(a, k):\n",
    "    return np.sign(a) * np.maximum(0.0, np.abs(a) - k)"
   ]
  },
  {
   "cell_type": "markdown",
   "id": "1516d77d",
   "metadata": {},
   "source": [
    "其迭代公式为\n",
    "\n",
    "$$\n",
    "\\begin{align*}\n",
    "x^{k+1} & =(A'A)^{-1}A'(b+z^{k}-u^{k})\\\\\n",
    "z^{k+1} & =S_{1/\\rho}(Ax^{k+1}-b+u^{k})\\\\\n",
    "u^{k+1} & =u^{k}+Ax^{k+1}-z^{k+1}-b,\n",
    "\\end{align*}\n",
    "$$"
   ]
  },
  {
   "cell_type": "code",
   "execution_count": 8,
   "id": "f9045c82",
   "metadata": {},
   "outputs": [
    {
     "data": {
      "text/plain": [
       "array([-1.24034079, -0.25873666, -0.90518866,  2.33812078,  0.69147325,  0.15743223, -0.4450978 ,\n",
       "       -1.12812669, -0.02567582, -0.36984311])"
      ]
     },
     "execution_count": 8,
     "metadata": {},
     "output_type": "execute_result"
    }
   ],
   "source": [
    "#在写迭代的时候先进行debug式的尝试有助于保证编程的正确性\n",
    "xnew = np.linalg.solve(A.T.dot(A), A.T.dot(b + z - u))\n",
    "xnew"
   ]
  },
  {
   "cell_type": "code",
   "execution_count": 10,
   "id": "c207dc15",
   "metadata": {},
   "outputs": [
    {
     "data": {
      "text/plain": [
       "array([-0.        , -0.01952984,  0.        ,  0.73800732,  0.        , -0.        ,  0.87067037,\n",
       "        0.72896027, -0.44397696, -0.        ])"
      ]
     },
     "execution_count": 10,
     "metadata": {},
     "output_type": "execute_result"
    }
   ],
   "source": [
    "znew = soft_thresholding(A.dot(xnew) -b + u, 1 / rho)\n",
    "znew[ :10]"
   ]
  },
  {
   "cell_type": "code",
   "execution_count": 11,
   "id": "21c70632",
   "metadata": {},
   "outputs": [
    {
     "data": {
      "text/plain": [
       "array([-0.14818386, -1.        ,  0.37729366,  1.        ,  0.22272854, -0.99080063,  1.        ,\n",
       "        1.        , -1.        , -0.38022739])"
      ]
     },
     "execution_count": 11,
     "metadata": {},
     "output_type": "execute_result"
    }
   ],
   "source": [
    "unew = u + A.dot(xnew) - znew -b\n",
    "unew[ :10]"
   ]
  },
  {
   "cell_type": "markdown",
   "id": "f9dd6e79",
   "metadata": {},
   "source": [
    "LAD残差为 $r^{k+1}=Ax^{k+1}-z^{k+1}-b$ ，对偶问题残差为 $s^{k+1}=-\\rho A'(z^{k+1}-z^{k})$ "
   ]
  },
  {
   "cell_type": "code",
   "execution_count": 12,
   "id": "f3b99073",
   "metadata": {},
   "outputs": [
    {
     "data": {
      "text/plain": [
       "22.870132559316534"
      ]
     },
     "execution_count": 12,
     "metadata": {},
     "output_type": "execute_result"
    }
   ],
   "source": [
    "resid_r = unew - u\n",
    "np.linalg.norm(resid_r)"
   ]
  },
  {
   "cell_type": "code",
   "execution_count": 13,
   "id": "4c11b6a9",
   "metadata": {},
   "outputs": [
    {
     "data": {
      "text/plain": [
       "11.613498072547442"
      ]
     },
     "execution_count": 13,
     "metadata": {},
     "output_type": "execute_result"
    }
   ],
   "source": [
    "resid_s = -rho * A.T.dot(znew - z)\n",
    "np.linalg.norm(resid_s)"
   ]
  },
  {
   "cell_type": "code",
   "execution_count": 15,
   "id": "1a739c81",
   "metadata": {},
   "outputs": [
    {
     "name": "stdout",
     "output_type": "stream",
     "text": [
      "Iteration0,||r|| =  22.870133, ||s|| =  11.613498\n",
      "Iteration100,||r|| =  0.035877, ||s|| =  1.151433\n",
      "Iteration200,||r|| =  0.017872, ||s|| =  0.373020\n",
      "Iteration300,||r|| =  0.015117, ||s|| =  0.207696\n",
      "Iteration400,||r|| =  0.009081, ||s|| =  0.150409\n",
      "Iteration500,||r|| =  0.007534, ||s|| =  0.109300\n",
      "Iteration600,||r|| =  0.005753, ||s|| =  0.115333\n",
      "Iteration700,||r|| =  0.004239, ||s|| =  0.113253\n",
      "Iteration800,||r|| =  0.003713, ||s|| =  0.090421\n",
      "Iteration900,||r|| =  0.002634, ||s|| =  0.059329\n",
      "Iteration1000,||r|| =  0.001756, ||s|| =  0.059668\n",
      "Iteration1100,||r|| =  0.001794, ||s|| =  0.038889\n",
      "Iteration1200,||r|| =  0.001600, ||s|| =  0.027407\n",
      "Iteration1300,||r|| =  0.001165, ||s|| =  0.033147\n",
      "Iteration1400,||r|| =  0.001115, ||s|| =  0.024602\n",
      "Iteration1500,||r|| =  0.000734, ||s|| =  0.029877\n",
      "Iteration1600,||r|| =  0.000734, ||s|| =  0.025740\n",
      "Iteration1700,||r|| =  0.000589, ||s|| =  0.024537\n",
      "Iteration1800,||r|| =  0.000775, ||s|| =  0.014789\n",
      "Iteration1900,||r|| =  0.000645, ||s|| =  0.017885\n",
      "Iteration2000,||r|| =  0.000777, ||s|| =  0.006004\n",
      "Iteration2100,||r|| =  0.000601, ||s|| =  0.014574\n",
      "Iteration2200,||r|| =  0.000581, ||s|| =  0.012933\n",
      "Iteration2300,||r|| =  0.000433, ||s|| =  0.016137\n",
      "Iteration2400,||r|| =  0.000339, ||s|| =  0.017692\n",
      "Iteration2500,||r|| =  0.000385, ||s|| =  0.015376\n",
      "Iteration2600,||r|| =  0.000200, ||s|| =  0.016296\n",
      "Iteration2700,||r|| =  0.000404, ||s|| =  0.010641\n",
      "Iteration2800,||r|| =  0.000296, ||s|| =  0.012954\n",
      "Iteration2900,||r|| =  0.000477, ||s|| =  0.003203\n",
      "Iteration3000,||r|| =  0.000290, ||s|| =  0.009696\n",
      "Iteration3100,||r|| =  0.000369, ||s|| =  0.004646\n",
      "Iteration3200,||r|| =  0.000215, ||s|| =  0.009659\n",
      "Iteration3300,||r|| =  0.000267, ||s|| =  0.007845\n",
      "Iteration3400,||r|| =  0.000162, ||s|| =  0.009518\n",
      "Iteration3500,||r|| =  0.000127, ||s|| =  0.009282\n",
      "Iteration3600,||r|| =  0.000221, ||s|| =  0.006654\n",
      "Iteration3700,||r|| =  0.000178, ||s|| =  0.007578\n",
      "Iteration3800,||r|| =  0.000276, ||s|| =  0.002566\n",
      "Iteration3900,||r|| =  0.000148, ||s|| =  0.005464\n",
      "Iteration4000,||r|| =  0.000202, ||s|| =  0.002205\n",
      "Iteration4100,||r|| =  0.000142, ||s|| =  0.004559\n",
      "Iteration4200,||r|| =  0.000155, ||s|| =  0.003840\n",
      "Iteration4300,||r|| =  0.000107, ||s|| =  0.003966\n",
      "Iteration4400,||r|| =  0.000037, ||s|| =  0.004750\n",
      "Iteration4500,||r|| =  0.000111, ||s|| =  0.003057\n",
      "Iteration4600,||r|| =  0.000065, ||s|| =  0.003998\n",
      "Iteration4700,||r|| =  0.000091, ||s|| =  0.002590\n"
     ]
    }
   ],
   "source": [
    "#再将迭代问题进行整合，设定最大迭代次数为10000，判定收敛的上界为0.001\n",
    "max_iter = 10000\n",
    "tol = 0.001\n",
    "\n",
    "for i in range(max_iter):\n",
    "    xnew = np.linalg.solve(A.T.dot(A), A.T.dot(b + z - u))\n",
    "    Axnew = A.dot(xnew)\n",
    "    znew = soft_thresholding(Axnew -b + u, 1 / rho)\n",
    "    unew = u + Axnew - znew -b\n",
    "    resid_r_norm = np.linalg.norm(unew - u)\n",
    "    resid_s_norm = np.linalg.norm(-rho * A.T.dot(znew - z))\n",
    "    x = xnew\n",
    "    z = znew\n",
    "    u = unew\n",
    "    #每100次迭代，输出1次残差和对偶问题残差，以便于debug和观察是否收敛\n",
    "    if i % 100 == 0:\n",
    "        print(f\"Iteration{i},||r|| = {resid_r_norm: .6f}, ||s|| = {resid_s_norm: .6f}\")\n",
    "    if resid_r_norm <= tol and resid_s_norm <= tol:\n",
    "        break"
   ]
  },
  {
   "cell_type": "code",
   "execution_count": 16,
   "id": "2e425d56",
   "metadata": {},
   "outputs": [
    {
     "data": {
      "text/plain": [
       "array([-1.19230848, -0.28642899, -0.89053513,  2.35251214,  0.66217182,  0.14198784, -0.43247972,\n",
       "       -1.11299057, -0.01374415, -0.38485577])"
      ]
     },
     "execution_count": 16,
     "metadata": {},
     "output_type": "execute_result"
    }
   ],
   "source": [
    "x"
   ]
  },
  {
   "cell_type": "code",
   "execution_count": null,
   "id": "7e8fc76a",
   "metadata": {},
   "outputs": [],
   "source": [
    "#优化算法：每步能优化的尽量优化，比如求每个xnew的时候要算个(A'A)^(-1),可以用cholesky先分解了再求；\n",
    "#比如，发现更新z和u的时候都要算一个Axnew就只算一遍"
   ]
  }
 ],
 "metadata": {
  "kernelspec": {
   "display_name": "Python 3 (ipykernel)",
   "language": "python",
   "name": "python3"
  },
  "language_info": {
   "codemirror_mode": {
    "name": "ipython",
    "version": 3
   },
   "file_extension": ".py",
   "mimetype": "text/x-python",
   "name": "python",
   "nbconvert_exporter": "python",
   "pygments_lexer": "ipython3",
   "version": "3.9.13"
  }
 },
 "nbformat": 4,
 "nbformat_minor": 5
}
