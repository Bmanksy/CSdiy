{
 "cells": [
  {
   "cell_type": "markdown",
   "id": "63a29840",
   "metadata": {},
   "source": [
    "# 数值计算基础"
   ]
  },
  {
   "cell_type": "markdown",
   "id": "d761f5c6",
   "metadata": {},
   "source": [
    "### 原则1：矩阵相乘，小维度优先"
   ]
  },
  {
   "cell_type": "markdown",
   "id": "4330a894",
   "metadata": {},
   "source": [
    "矩阵 $A_{n\\times p}$，向量 $x_{p\\times 1}$，计算 $A^{T}Ax$。"
   ]
  },
  {
   "cell_type": "markdown",
   "id": "89703ce2",
   "metadata": {},
   "source": []
  },
  {
   "cell_type": "code",
   "execution_count": 1,
   "id": "54d9bba0",
   "metadata": {},
   "outputs": [],
   "source": [
    "import numpy as np\n",
    "np.set_printoptions(linewidth=100)\n",
    "\n",
    "np.random.seed(123)\n",
    "n = 2000\n",
    "p = 1000\n",
    "A = np.random.normal(size=(n, p))\n",
    "x = np.random.normal(size=p)"
   ]
  },
  {
   "cell_type": "markdown",
   "id": "b67ee1cd",
   "metadata": {},
   "source": [
    "方法1：先计算 $A^{T}A$，再与 $x$ 相乘："
   ]
  },
  {
   "cell_type": "code",
   "execution_count": 2,
   "id": "cc36a5cc",
   "metadata": {},
   "outputs": [
    {
     "name": "stdout",
     "output_type": "stream",
     "text": [
      "13.9 ms ± 462 µs per loop (mean ± std. dev. of 7 runs, 100 loops each)\n"
     ]
    }
   ],
   "source": [
    "%timeit A.transpose().dot(A).dot(x)"
   ]
  },
  {
   "cell_type": "markdown",
   "id": "8b44965a",
   "metadata": {},
   "source": [
    "方法2：先计算 $Ax$，再左乘 $A^{T}$："
   ]
  },
  {
   "cell_type": "code",
   "execution_count": 3,
   "id": "4dfebd79",
   "metadata": {},
   "outputs": [
    {
     "name": "stdout",
     "output_type": "stream",
     "text": [
      "424 µs ± 1.18 µs per loop (mean ± std. dev. of 7 runs, 1,000 loops each)\n"
     ]
    }
   ],
   "source": [
    "%timeit A.transpose().dot(A.dot(x))\n",
    "#和向量有关的计算类似于reduce的一个过程，先计算这部分，压缩维度"
   ]
  },
  {
   "cell_type": "markdown",
   "id": "c0b4b35d",
   "metadata": {},
   "source": [
    "经验法则：对于更一般的矩阵乘法 $A_{m\\times n}B_{n\\times p}C_{p\\times r}$，如果 $n\\approx p$ 且 $m>r$，则优先计算 $BC$，反之优先计算 $AB$。"
   ]
  },
  {
   "cell_type": "code",
   "execution_count": 4,
   "id": "b646dc1a",
   "metadata": {},
   "outputs": [],
   "source": [
    "np.random.seed(123)\n",
    "m = 1000\n",
    "n = 500\n",
    "p = 200\n",
    "r = 100\n",
    "A = np.random.normal(size=(m, n))\n",
    "B = np.random.normal(size=(n, p))\n",
    "C = np.random.normal(size=(p, r))"
   ]
  },
  {
   "cell_type": "code",
   "execution_count": 5,
   "id": "a7366799",
   "metadata": {},
   "outputs": [
    {
     "name": "stdout",
     "output_type": "stream",
     "text": [
      "2.71 ms ± 108 µs per loop (mean ± std. dev. of 7 runs, 100 loops each)\n"
     ]
    }
   ],
   "source": [
    "%timeit A.dot(B).dot(C)"
   ]
  },
  {
   "cell_type": "code",
   "execution_count": 6,
   "id": "0ae3d743",
   "metadata": {},
   "outputs": [
    {
     "name": "stdout",
     "output_type": "stream",
     "text": [
      "1.55 ms ± 27 µs per loop (mean ± std. dev. of 7 runs, 100 loops each)\n"
     ]
    }
   ],
   "source": [
    "%timeit A.dot(B.dot(C))"
   ]
  },
  {
   "cell_type": "markdown",
   "id": "8beec4f5",
   "metadata": {},
   "source": [
    "### 原则2：尽量避免显式矩阵求逆!!!!!!!!"
   ]
  },
  {
   "cell_type": "markdown",
   "id": "299cd239",
   "metadata": {},
   "source": [
    "矩阵 $A_{n\\times n}$，向量 $b_{n\\times 1}$，计算 $A^{-1}b$。"
   ]
  },
  {
   "cell_type": "code",
   "execution_count": 7,
   "id": "34cfe8fe",
   "metadata": {},
   "outputs": [],
   "source": [
    "np.random.seed(123)\n",
    "n = 1000\n",
    "A = np.random.normal(size=(n, n))\n",
    "b = np.random.normal(size=n)"
   ]
  },
  {
   "cell_type": "markdown",
   "id": "e9226f55",
   "metadata": {},
   "source": [
    "方法1：先计算 $A^{-1}$，再与 $b$ 相乘："
   ]
  },
  {
   "cell_type": "code",
   "execution_count": 8,
   "id": "9f16bb47",
   "metadata": {},
   "outputs": [
    {
     "name": "stdout",
     "output_type": "stream",
     "text": [
      "62.7 ms ± 16.1 ms per loop (mean ± std. dev. of 7 runs, 1 loop each)\n"
     ]
    }
   ],
   "source": [
    "%timeit np.linalg.inv(A).dot(b)"
   ]
  },
  {
   "cell_type": "markdown",
   "id": "729a7d01",
   "metadata": {},
   "source": [
    "方法2：解线性方程组 $Ax=b$："
   ]
  },
  {
   "cell_type": "code",
   "execution_count": 9,
   "id": "a78a2944",
   "metadata": {},
   "outputs": [
    {
     "name": "stdout",
     "output_type": "stream",
     "text": [
      "36 ms ± 6.97 ms per loop (mean ± std. dev. of 7 runs, 1 loop each)\n"
     ]
    }
   ],
   "source": [
    "%timeit np.linalg.solve(A, b)"
   ]
  },
  {
   "cell_type": "markdown",
   "id": "9caaf2e7",
   "metadata": {},
   "source": [
    "线性方程组右边也可以是矩阵，即 $A_{n\\times n}$，$B_{n\\times p}$，计算 $A^{-1}B$。"
   ]
  },
  {
   "cell_type": "code",
   "execution_count": 10,
   "id": "f47de328",
   "metadata": {},
   "outputs": [],
   "source": [
    "np.random.seed(123)\n",
    "n = 1000\n",
    "p = 100\n",
    "A = np.random.normal(size=(n, n))\n",
    "B = np.random.normal(size=(n, p))"
   ]
  },
  {
   "cell_type": "code",
   "execution_count": 11,
   "id": "76ee68c4",
   "metadata": {},
   "outputs": [
    {
     "name": "stdout",
     "output_type": "stream",
     "text": [
      "49.4 ms ± 858 µs per loop (mean ± std. dev. of 7 runs, 1 loop each)\n"
     ]
    }
   ],
   "source": [
    "%timeit np.linalg.inv(A).dot(B)"
   ]
  },
  {
   "cell_type": "code",
   "execution_count": 12,
   "id": "733872af",
   "metadata": {
    "scrolled": true
   },
   "outputs": [
    {
     "name": "stdout",
     "output_type": "stream",
     "text": [
      "48.4 ms ± 6.95 ms per loop (mean ± std. dev. of 7 runs, 1 loop each)\n"
     ]
    }
   ],
   "source": [
    "%timeit np.linalg.solve(A, B)"
   ]
  },
  {
   "cell_type": "markdown",
   "id": "53d291ae",
   "metadata": {},
   "source": [
    "### 原则3：利用矩阵的特殊结构"
   ]
  },
  {
   "cell_type": "markdown",
   "id": "ed6a814f",
   "metadata": {},
   "source": [
    "矩阵 $A_{n\\times n}$，对角矩阵 $W_{n\\times n}$，计算 $WA$ 和 $AW$。"
   ]
  },
  {
   "cell_type": "code",
   "execution_count": 13,
   "id": "3c6707f5",
   "metadata": {},
   "outputs": [],
   "source": [
    "np.random.seed(123)\n",
    "n = 1000\n",
    "A = np.random.normal(size=(n, n))\n",
    "w = np.random.normal(size=n)\n",
    "W = np.diag(w)\n",
    "#W的有效信息只有对角元素 甚至在储存时可以避免存下完整的对角矩阵 其空间为n^2"
   ]
  },
  {
   "cell_type": "code",
   "execution_count": 14,
   "id": "89a82929",
   "metadata": {},
   "outputs": [
    {
     "name": "stdout",
     "output_type": "stream",
     "text": [
      "11.7 ms ± 106 µs per loop (mean ± std. dev. of 7 runs, 100 loops each)\n"
     ]
    }
   ],
   "source": [
    "%timeit W.dot(A)\n",
    "#n^3"
   ]
  },
  {
   "cell_type": "code",
   "execution_count": 15,
   "id": "ed4b0a95",
   "metadata": {},
   "outputs": [
    {
     "name": "stdout",
     "output_type": "stream",
     "text": [
      "12 ms ± 576 µs per loop (mean ± std. dev. of 7 runs, 100 loops each)\n"
     ]
    }
   ],
   "source": [
    "%timeit A.dot(W)"
   ]
  },
  {
   "cell_type": "markdown",
   "id": "67fdd1cc",
   "metadata": {},
   "source": [
    "令 $w_{n\\times 1}$ 表示 $W$ 的对角元素，$WA$ 相当于将 $A$ 的每一列乘以 $w$，$AW$ 相当于将 $A$ 的每一行乘以 $w^{T}$。此时可利用 Numpy 的广播机制进行运算。"
   ]
  },
  {
   "cell_type": "code",
   "execution_count": 16,
   "id": "6e256194",
   "metadata": {},
   "outputs": [
    {
     "name": "stdout",
     "output_type": "stream",
     "text": [
      "2.04 ms ± 19.7 µs per loop (mean ± std. dev. of 7 runs, 100 loops each)\n"
     ]
    }
   ],
   "source": [
    "%timeit A * w.reshape(n, 1)\n",
    "#n^2"
   ]
  },
  {
   "cell_type": "code",
   "execution_count": 17,
   "id": "e6cc3a71",
   "metadata": {},
   "outputs": [
    {
     "name": "stdout",
     "output_type": "stream",
     "text": [
      "2.17 ms ± 72.6 µs per loop (mean ± std. dev. of 7 runs, 100 loops each)\n"
     ]
    }
   ],
   "source": [
    "%timeit A * w"
   ]
  },
  {
   "cell_type": "code",
   "execution_count": null,
   "id": "2b3fdea4",
   "metadata": {},
   "outputs": [],
   "source": [
    "#A B\n",
    "#A*b n^2 A*B n^3 A^(-1) n^3 A^(-1)*b n^3但较直接求逆较快 d(A) n^3 ||A||_F^2 n^2 A+b*1'(相当于将b广播)\n",
    "#"
   ]
  },
  {
   "cell_type": "markdown",
   "id": "9c8ce94f",
   "metadata": {},
   "source": [
    "### 尽可能将多个向量运算的循环合并为矩阵运算\n",
    "理论上复杂度相同 但软件层面对于矩阵运算优化更好       \n",
    "在reduce的过程中，提前作数据打包（处理粒度较大），通信时间（数据传输成本）会较小"
   ]
  },
  {
   "cell_type": "markdown",
   "id": "a7691017",
   "metadata": {},
   "source": [
    "### 练习：回归分析"
   ]
  },
  {
   "cell_type": "markdown",
   "id": "82fad746",
   "metadata": {},
   "source": [
    "计算 $\\hat{y}=X(X^{T}X)^{-1}X^{T}y$"
   ]
  },
  {
   "cell_type": "code",
   "execution_count": 18,
   "id": "8d9b17f6",
   "metadata": {},
   "outputs": [],
   "source": [
    "np.random.seed(123)\n",
    "n = 2000\n",
    "p = 500\n",
    "X = np.random.normal(size=(n, p))\n",
    "y = np.random.normal(size=n)"
   ]
  },
  {
   "cell_type": "code",
   "execution_count": null,
   "id": "2e985a67",
   "metadata": {},
   "outputs": [],
   "source": []
  }
 ],
 "metadata": {
  "kernelspec": {
   "display_name": "Python 3 (ipykernel)",
   "language": "python",
   "name": "python3"
  },
  "language_info": {
   "codemirror_mode": {
    "name": "ipython",
    "version": 3
   },
   "file_extension": ".py",
   "mimetype": "text/x-python",
   "name": "python",
   "nbconvert_exporter": "python",
   "pygments_lexer": "ipython3",
   "version": "3.9.13"
  }
 },
 "nbformat": 4,
 "nbformat_minor": 5
}
