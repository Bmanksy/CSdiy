{
 "cells": [
  {
   "cell_type": "markdown",
   "id": "4455e7ec",
   "metadata": {},
   "source": [
    "## Lecture 11 "
   ]
  },
  {
   "cell_type": "markdown",
   "id": "326ca28c",
   "metadata": {},
   "source": [
    "很多统计和机器学习模型可以写成形如：         \n",
    "$$min L(\\beta) = \\sum^n_{i=1}l_i(\\beta)$$\n",
    "$l_i(\\beta)$代表第i个观测上的损失函数，函数形式依赖于数据$(y_i,x_i)$，并要求是光滑函数（二阶可导）            \n",
    "\n",
    "从而可以将数据按行切分，每个分块包含一部分观测，包含所有变量；             \n",
    "分布式计算每个分块上的损失函数（及梯度）求和，           \n",
    "再汇总所有分块结果，计算总损失函数(和梯度)；           \n",
    "利用梯度下降或L-BFGS等方法更新参数。"
   ]
  },
  {
   "cell_type": "markdown",
   "id": "bf0a3746",
   "metadata": {},
   "source": [
    "实际中,可能存在的问题：         \n",
    "目标函数不满足光滑假定              \n",
    "参数存在约束     \n",
    "\n",
    "比如，           \n",
    "Least absolute deviations: $min ||Y - X\\beta||_1$           \n",
    "作为1范数（距离），对于异常值敏感性低，受影响较小，有实用性；        \n",
    "但是不光滑；        \n",
    "Lasso: $min_x \\frac12||Y-X\\beta||^2 + \\lambda||\\beta||_1$         \n",
    "SVM: $min_{w,b} ||w||^2 , s.t. y_i(w'x_i + b) \\ge 1$"
   ]
  },
  {
   "cell_type": "markdown",
   "id": "ee7f786d",
   "metadata": {},
   "source": [
    "希望一个通用的框架：    \n",
    "支持不光滑的目标函数；处理参数的约束；实现分布式计算"
   ]
  }
 ],
 "metadata": {
  "kernelspec": {
   "display_name": "Python 3 (ipykernel)",
   "language": "python",
   "name": "python3"
  },
  "language_info": {
   "codemirror_mode": {
    "name": "ipython",
    "version": 3
   },
   "file_extension": ".py",
   "mimetype": "text/x-python",
   "name": "python",
   "nbconvert_exporter": "python",
   "pygments_lexer": "ipython3",
   "version": "3.9.13"
  }
 },
 "nbformat": 4,
 "nbformat_minor": 5
}
