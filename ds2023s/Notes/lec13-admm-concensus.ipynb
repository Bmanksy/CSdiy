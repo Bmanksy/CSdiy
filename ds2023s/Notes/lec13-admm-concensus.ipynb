{
 "cells": [
  {
   "cell_type": "markdown",
   "id": "294f54c3",
   "metadata": {},
   "source": [
    "# ADMM 算法"
   ]
  },
  {
   "cell_type": "markdown",
   "id": "7fbf4b67",
   "metadata": {},
   "source": [
    "### 一致性问题"
   ]
  },
  {
   "cell_type": "markdown",
   "id": "87938f5e",
   "metadata": {},
   "source": [
    "假设我们需要求解优化问题\n",
    "$$\n",
    "\\min_{x} \\sum_{i=1}^N f_i(x)+g(x)\n",
    "$$\n",
    "其中 $g(\\cdot)$ 是一个全局的正则项。一个典型的例子是 Lasso\n",
    "$$\n",
    "\\frac{1}{2}\\Vert Ax-b\\Vert^2+\\lambda \\Vert x\\Vert_1.\n",
    "$$"
   ]
  },
  {
   "cell_type": "markdown",
   "id": "abb2fb3a",
   "metadata": {},
   "source": [
    "它可以转化成 ADMM 一致性问题\n",
    "$$\\begin{align*}\n",
    "\\min_{x_1,\\ldots,x_N,z}\\  & f_i(x_i)+g(z)\\\\\n",
    "\\mathrm{s.t.}\\  & x_i=z,i=1,\\ldots,N.\n",
    "\\end{align*}$$"
   ]
  },
  {
   "cell_type": "markdown",
   "id": "975f1368",
   "metadata": {},
   "source": [
    "迭代公式为\n",
    "$$\n",
    "\\begin{align*}\n",
    "x_i^{k+1} & =\\underset{x_i}{\\arg\\min}\\ f_i(x_i)+\\frac{\\rho}{2}\\Vert x_i-z^{k}+u_i^{k}\\Vert^{2}\\\\\n",
    "z^{k+1} & =\\underset{z}{\\arg\\min}\\ g(z)+\\frac{N\\rho}{2}\\Vert z-\\bar{x}^{k+1}-\\bar{u}^{k}\\Vert^{2}\\\\\n",
    "u_i^{k+1} & =u_i^{k}+x_i^{k+1}-z^{k+1}.\n",
    "\\end{align*}\n",
    "$$"
   ]
  },
  {
   "cell_type": "markdown",
   "id": "915ef531",
   "metadata": {},
   "source": [
    "注意其中带下标 $i$ 的更新要对所有 $i=1,\\ldots,N$ 进行。"
   ]
  },
  {
   "cell_type": "markdown",
   "id": "9133019c",
   "metadata": {},
   "source": [
    "总的原问题残差范数为\n",
    "$$\n",
    "\\Vert r^{k+1}\\Vert=\\sqrt{\\sum_{i=1}^N \\Vert x_i^{k+1} - z^{k+1}\\Vert^2},\n",
    "$$"
   ]
  },
  {
   "cell_type": "markdown",
   "id": "5709612c",
   "metadata": {},
   "source": [
    "总的对偶问题残差范数为\n",
    "$$\n",
    "\\Vert s^{k+1}\\Vert=\\rho \\sqrt{N} \\Vert z^{k+1} - z^k\\Vert.\n",
    "$$"
   ]
  },
  {
   "cell_type": "markdown",
   "id": "dd303e5e",
   "metadata": {},
   "source": [
    "### Lasso"
   ]
  },
  {
   "cell_type": "markdown",
   "id": "187e244a",
   "metadata": {},
   "source": [
    "对于 Lasso 问题，假设数据按行分块，\n",
    "\n",
    "$$\n",
    "A_{n\\times p}=\\left[\\begin{array}{c}\n",
    "A_{1}\\in\\mathbb{R}^{n_{1}\\times p}\\\\\n",
    "\\vdots\\\\\n",
    "A_{N}\\in\\mathbb{R}^{n_{N}\\times p}\n",
    "\\end{array}\\right],\\quad b_{n\\times1}=\\left[\\begin{array}{c}\n",
    "b_{1}\\in\\mathbb{R}^{n_{1}}\\\\\n",
    "\\vdots\\\\\n",
    "b_{N}\\in\\mathbb{R}^{n_{N}}\n",
    "\\end{array}\\right].\n",
    "$$"
   ]
  },
  {
   "cell_type": "markdown",
   "id": "c1e2c671",
   "metadata": {},
   "source": [
    "其迭代公式为\n",
    "\n",
    "$$\n",
    "\\begin{align*}\n",
    "x_i^{k+1} & =(A_i'A_i+\\rho I)^{-1}(A_i'b_i+\\rho(z^{k}-u_i^{k}))\\\\\n",
    "z^{k+1} & =S_{\\lambda/(\\rho N)}(\\bar{x}^{k+1}+\\bar{u}^{k})\\\\\n",
    "u_i^{k+1} & =u_i^{k}+x_i^{k+1}-z^{k+1}.\n",
    "\\end{align*}\n",
    "$$"
   ]
  },
  {
   "cell_type": "markdown",
   "id": "71a98268",
   "metadata": {},
   "source": [
    "### PySpark 实现"
   ]
  },
  {
   "cell_type": "code",
   "execution_count": 2,
   "id": "fb556efa",
   "metadata": {},
   "outputs": [],
   "source": [
    "import os\n",
    "import numpy as np\n",
    "np.set_printoptions(linewidth=100)"
   ]
  },
  {
   "cell_type": "markdown",
   "id": "b67ee1cd",
   "metadata": {},
   "source": [
    "先生成模拟数据："
   ]
  },
  {
   "cell_type": "code",
   "execution_count": 3,
   "id": "cc36a5cc",
   "metadata": {},
   "outputs": [],
   "source": [
    "np.random.seed(123)\n",
    "n = 100000\n",
    "p = 100\n",
    "nz = 20\n",
    "A = np.random.normal(size=(n, p))\n",
    "# 真实的 x 只有前20个元素非零，其余均为0\n",
    "xtrue = np.random.normal(size=nz)\n",
    "xtrue = np.concatenate((xtrue, np.zeros(p - nz)))\n",
    "b = A.dot(xtrue) + np.random.normal(size=n)\n",
    "dat = np.hstack((b.reshape(n, 1), A))\n",
    "if not os.path.exists(\"data\"):\n",
    "    os.makedirs(\"data\", exist_ok=True)\n",
    "np.savetxt(\"data/lasso.txt\", dat, fmt=\"%.9f\", delimiter=\"\\t\")"
   ]
  },
  {
   "cell_type": "markdown",
   "id": "2934a18b",
   "metadata": {},
   "source": [
    "配置和启动 PySpark："
   ]
  },
  {
   "cell_type": "code",
   "execution_count": 4,
   "id": "01ad334c",
   "metadata": {},
   "outputs": [
    {
     "name": "stdout",
     "output_type": "stream",
     "text": [
      "<pyspark.sql.session.SparkSession object at 0x0000017AB4E38340>\n",
      "<SparkContext master=local[*] appName=ADMM>\n"
     ]
    }
   ],
   "source": [
    "import findspark\n",
    "findspark.init()\n",
    "\n",
    "from pyspark.sql import SparkSession\n",
    "# 本地模式\n",
    "spark = SparkSession.builder.\\\n",
    "    master(\"local[*]\").\\\n",
    "    config(\"spark.executor.memory\", \"2g\").\\\n",
    "    config(\"spark.driver.memory\", \"2g\").\\\n",
    "    appName(\"ADMM\").\\\n",
    "    getOrCreate()\n",
    "sc = spark.sparkContext\n",
    "# sc.setLogLevel(\"ERROR\")\n",
    "print(spark)\n",
    "print(sc)\n",
    "#自定义增加每个计算单元的内存"
   ]
  },
  {
   "cell_type": "markdown",
   "id": "0814eb19",
   "metadata": {},
   "source": [
    "PySpark 读取文件："
   ]
  },
  {
   "cell_type": "code",
   "execution_count": 7,
   "id": "6d6b2a04",
   "metadata": {},
   "outputs": [
    {
     "name": "stdout",
     "output_type": "stream",
     "text": [
      "0.783983964\t-1.085630603\t0.997345447\t0.282978498\t-1.506294714\t-0.57860...\n",
      "7.234829271\t0.642054689\t-1.977887932\t0.712264635\t2.598303927\t-0.024625...\n",
      "1.353003297\t0.703310118\t-0.598105331\t2.200702099\t0.688296930\t-0.006307...\n",
      "-5.014040860\t0.765054846\t-0.828988834\t-0.659151311\t0.611123550\t-0.1440...\n",
      "-4.701729193\t1.534090289\t-0.529914099\t-0.490972283\t-1.309165314\t-0.008...\n"
     ]
    },
    {
     "data": {
      "text/plain": [
       "4"
      ]
     },
     "execution_count": 7,
     "metadata": {},
     "output_type": "execute_result"
    }
   ],
   "source": [
    "file = sc.textFile(\"data/lasso.txt\")\n",
    "\n",
    "# 打印前5行，并将每行字符串截尾\n",
    "text = file.map(lambda x: x[:70] + \"...\").take(5)\n",
    "print(*text, sep=\"\\n\")\n",
    "\n",
    "file.getNumPartitions()"
   ]
  },
  {
   "cell_type": "markdown",
   "id": "85068d51",
   "metadata": {},
   "source": [
    "分区转换："
   ]
  },
  {
   "cell_type": "code",
   "execution_count": 8,
   "id": "f6ee0e4b",
   "metadata": {},
   "outputs": [
    {
     "name": "stdout",
     "output_type": "stream",
     "text": [
      "4\n"
     ]
    }
   ],
   "source": [
    "# str => np.array\n",
    "def str_to_vec(line):\n",
    "    # 分割字符串\n",
    "    str_vec = line.split(\"\\t\")\n",
    "    # 将每一个元素从字符串变成数值型\n",
    "    num_vec = map(lambda s: float(s), str_vec)\n",
    "    # 创建 Numpy 向量\n",
    "    return np.fromiter(num_vec, dtype=float)\n",
    "\n",
    "# Iter[str] => Iter[matrix]\n",
    "def part_to_mat(iterator):\n",
    "    # Iter[str] => Iter[np.array]\n",
    "    iter_arr = map(str_to_vec, iterator)\n",
    "\n",
    "    # Iter[np.array] => list(np.array)\n",
    "    dat = list(iter_arr)\n",
    "\n",
    "    # list(np.array) => matrix\n",
    "    if len(dat) < 1:  # Test zero iterator\n",
    "        mat = np.array([])\n",
    "    else:\n",
    "        mat = np.vstack(dat)\n",
    "\n",
    "    # matrix => Iter[matrix]\n",
    "    yield mat\n",
    "\n",
    "dat = file.mapPartitions(part_to_mat).filter(lambda x: x.shape[0] > 0)\n",
    "dat.cache()\n",
    "print(dat.count())"
   ]
  },
  {
   "cell_type": "markdown",
   "id": "44d6d51d",
   "metadata": {},
   "source": [
    "创建一个新的 RDD，用来存储每个数据分区上的 $x_i$ 和 $u_i$ 变量："
   ]
  },
  {
   "cell_type": "code",
   "execution_count": 9,
   "id": "660671a0",
   "metadata": {
    "scrolled": true
   },
   "outputs": [
    {
     "data": {
      "text/plain": [
       "(array([0., 0., 0., 0., 0., 0., 0., 0., 0., 0., 0., 0., 0., 0., 0., 0., 0., 0., 0., 0., 0., 0., 0.,\n",
       "        0., 0., 0., 0., 0., 0., 0., 0., 0., 0., 0., 0., 0., 0., 0., 0., 0., 0., 0., 0., 0., 0., 0.,\n",
       "        0., 0., 0., 0., 0., 0., 0., 0., 0., 0., 0., 0., 0., 0., 0., 0., 0., 0., 0., 0., 0., 0., 0.,\n",
       "        0., 0., 0., 0., 0., 0., 0., 0., 0., 0., 0., 0., 0., 0., 0., 0., 0., 0., 0., 0., 0., 0., 0.,\n",
       "        0., 0., 0., 0., 0., 0., 0., 0.]),\n",
       " array([0., 0., 0., 0., 0., 0., 0., 0., 0., 0., 0., 0., 0., 0., 0., 0., 0., 0., 0., 0., 0., 0., 0.,\n",
       "        0., 0., 0., 0., 0., 0., 0., 0., 0., 0., 0., 0., 0., 0., 0., 0., 0., 0., 0., 0., 0., 0., 0.,\n",
       "        0., 0., 0., 0., 0., 0., 0., 0., 0., 0., 0., 0., 0., 0., 0., 0., 0., 0., 0., 0., 0., 0., 0.,\n",
       "        0., 0., 0., 0., 0., 0., 0., 0., 0., 0., 0., 0., 0., 0., 0., 0., 0., 0., 0., 0., 0., 0., 0.,\n",
       "        0., 0., 0., 0., 0., 0., 0., 0.]))"
      ]
     },
     "execution_count": 9,
     "metadata": {},
     "output_type": "execute_result"
    }
   ],
   "source": [
    "def create_xu(block_dat):\n",
    "    p = block_dat.shape[1] - 1\n",
    "    xi = np.zeros(p)\n",
    "    ui = np.zeros(p)\n",
    "    return xi, ui\n",
    "\n",
    "params = dat.map(create_xu)\n",
    "params.first()"
   ]
  },
  {
   "cell_type": "markdown",
   "id": "ae3a6fbb",
   "metadata": {},
   "source": [
    "在后续更新中，我们会将数据 RDD（dat）和参数 RDD（params）进行拼接，从而更新参数。"
   ]
  },
  {
   "cell_type": "code",
   "execution_count": 10,
   "id": "2d8d446e",
   "metadata": {
    "scrolled": true
   },
   "outputs": [
    {
     "data": {
      "text/plain": [
       "(array([[ 0.78398396, -1.0856306 ,  0.99734545, ..., -1.36347154,  0.37940061, -0.37917643],\n",
       "        [ 7.23482927,  0.64205469, -1.97788793, ..., -0.11085072, -0.34126172, -0.21794626],\n",
       "        [ 1.3530033 ,  0.70331012, -0.59810533, ...,  0.41569454,  0.16054442,  0.81976061],\n",
       "        ...,\n",
       "        [-4.12818502,  2.13326782,  0.47922157, ...,  1.02750214,  0.40875237, -1.6814463 ],\n",
       "        [-1.40995119,  0.80706604,  1.56112148, ...,  0.87865259, -0.3035723 ,  0.81765085],\n",
       "        [ 7.00499946, -0.87059335,  1.00231986, ..., -1.37447687,  0.36551111, -1.3087634 ]]),\n",
       " (array([0., 0., 0., 0., 0., 0., 0., 0., 0., 0., 0., 0., 0., 0., 0., 0., 0., 0., 0., 0., 0., 0., 0.,\n",
       "         0., 0., 0., 0., 0., 0., 0., 0., 0., 0., 0., 0., 0., 0., 0., 0., 0., 0., 0., 0., 0., 0., 0.,\n",
       "         0., 0., 0., 0., 0., 0., 0., 0., 0., 0., 0., 0., 0., 0., 0., 0., 0., 0., 0., 0., 0., 0., 0.,\n",
       "         0., 0., 0., 0., 0., 0., 0., 0., 0., 0., 0., 0., 0., 0., 0., 0., 0., 0., 0., 0., 0., 0., 0.,\n",
       "         0., 0., 0., 0., 0., 0., 0., 0.]),\n",
       "  array([0., 0., 0., 0., 0., 0., 0., 0., 0., 0., 0., 0., 0., 0., 0., 0., 0., 0., 0., 0., 0., 0., 0.,\n",
       "         0., 0., 0., 0., 0., 0., 0., 0., 0., 0., 0., 0., 0., 0., 0., 0., 0., 0., 0., 0., 0., 0., 0.,\n",
       "         0., 0., 0., 0., 0., 0., 0., 0., 0., 0., 0., 0., 0., 0., 0., 0., 0., 0., 0., 0., 0., 0., 0.,\n",
       "         0., 0., 0., 0., 0., 0., 0., 0., 0., 0., 0., 0., 0., 0., 0., 0., 0., 0., 0., 0., 0., 0., 0.,\n",
       "         0., 0., 0., 0., 0., 0., 0., 0.])))"
      ]
     },
     "execution_count": 10,
     "metadata": {},
     "output_type": "execute_result"
    }
   ],
   "source": [
    "dat.zip(params).first()\n",
    "#缝合"
   ]
  },
  {
   "cell_type": "markdown",
   "id": "aad6f29b",
   "metadata": {},
   "source": [
    "在主进程上设定若干变量，包括初始化 $z$："
   ]
  },
  {
   "cell_type": "code",
   "execution_count": 11,
   "id": "60bee50f",
   "metadata": {},
   "outputs": [
    {
     "name": "stdout",
     "output_type": "stream",
     "text": [
      "n = 100000\n",
      "p = 100\n",
      "N = 4\n"
     ]
    }
   ],
   "source": [
    "# 样本量\n",
    "n = dat.map(lambda x: x.shape[0]).reduce(lambda x, y: x + y)\n",
    "print(f\"n = {n}\")\n",
    "\n",
    "# 变量数\n",
    "p = dat.first().shape[1] - 1\n",
    "print(f\"p = {p}\")\n",
    "\n",
    "# 分区数\n",
    "N = dat.count()\n",
    "print(f\"N = {N}\")\n",
    "\n",
    "# rho\n",
    "rho = 10.0\n",
    "\n",
    "# lambda\n",
    "lam = 0.001 * n\n",
    "\n",
    "# z变量\n",
    "z = np.zeros(p)"
   ]
  },
  {
   "cell_type": "markdown",
   "id": "11b6d4a3",
   "metadata": {},
   "source": [
    "更新一次 $x_i$："
   ]
  },
  {
   "cell_type": "code",
   "execution_count": null,
   "id": "7215d57f",
   "metadata": {
    "scrolled": true
   },
   "outputs": [],
   "source": [
    "def update_x(block_dat_and_param, z, rho):\n",
    "    block_dat, (xi, ui) = block_dat_and_param\n",
    "    # 分离因变量向量和自变量矩阵\n",
    "    bi = block_dat[:, 0]\n",
    "    Ai = block_dat[:, 1:]\n",
    "    p = Ai.shape[1]\n",
    "    # 计算新 xi\n",
    "    xi_new = np.linalg.solve(Ai.T.dot(Ai) + rho * np.eye(p), Ai.T.dot(bi) + rho * (z - ui))\n",
    "    return xi_new, ui\n",
    "#便于zi_new\n",
    "updated_x = dat.zip(params).map(lambda d: update_x(d, z, rho))\n",
    "updated_x.first()"
   ]
  },
  {
   "cell_type": "markdown",
   "id": "46189c92",
   "metadata": {},
   "source": [
    "计算 $\\bar{x}$ 和 $\\bar{u}$："
   ]
  },
  {
   "cell_type": "code",
   "execution_count": 13,
   "id": "408cddda",
   "metadata": {},
   "outputs": [
    {
     "name": "stdout",
     "output_type": "stream",
     "text": [
      "[-5.89419532e-01 -1.11139323e+00  1.15671062e+00  6.86271561e-01  6.42181771e-01 -1.70783174e+00\n",
      "  8.72773966e-01 -6.92354816e-01  1.21199997e+00 -1.76569237e-01 -5.89449899e-01  4.50429521e-01\n",
      "  1.56230003e+00  9.34682099e-01  3.33636913e-01 -6.25236206e-01 -1.63888142e-01  1.04196377e+00\n",
      "  9.87372576e-01 -2.27247585e-01 -6.12036878e-03  9.37547158e-05  4.06635022e-03 -4.68312732e-03\n",
      "  3.04138379e-03 -1.26594489e-04 -2.72747461e-03 -5.03764642e-03 -2.26035160e-03  4.81320144e-04\n",
      " -5.51422542e-03  2.33178691e-03 -3.88393506e-03  3.07193508e-04  3.19566625e-03 -9.99453330e-04\n",
      "  8.18758609e-03 -4.43382232e-03 -3.59589761e-03 -3.16625572e-03  4.96804996e-04 -8.00671634e-03\n",
      "  1.80715612e-04 -3.58980874e-03  2.45181207e-03 -6.61332168e-03  5.85209277e-03 -4.74902604e-03\n",
      "  4.83088487e-03 -1.31876861e-03 -3.40183489e-03 -1.32325194e-03 -3.63968247e-03 -2.17380192e-03\n",
      "  1.71696772e-03  3.91057921e-03 -2.26421944e-03 -3.29266131e-03 -1.38675100e-03  2.69352785e-03\n",
      "  4.27023878e-03 -3.36995794e-03 -3.68466630e-03  2.07542031e-03 -6.53693710e-04 -6.04757134e-04\n",
      " -6.40609325e-03 -3.28312236e-03  8.60885754e-04 -6.31171124e-03  9.74171647e-04  1.86946702e-03\n",
      " -4.85167839e-03  1.82517237e-04 -1.56174611e-03  4.30556943e-03 -7.60540549e-05 -1.45721857e-03\n",
      " -1.83077340e-03 -2.17953424e-03  1.68693957e-03  4.80998330e-03 -3.25523879e-03  1.44113941e-03\n",
      " -7.09882230e-04 -3.75731147e-04 -2.75197538e-03  2.42958762e-03 -2.92896494e-03 -1.08359738e-04\n",
      "  7.48986346e-03  3.48362290e-03 -4.22047855e-04  2.91476166e-03  1.01948135e-03  4.72705099e-03\n",
      " -6.33257463e-05  1.19527930e-03 -2.37819117e-03  3.65714321e-03]\n",
      "[0. 0. 0. 0. 0. 0. 0. 0. 0. 0. 0. 0. 0. 0. 0. 0. 0. 0. 0. 0. 0. 0. 0. 0. 0. 0. 0. 0. 0. 0. 0. 0. 0.\n",
      " 0. 0. 0. 0. 0. 0. 0. 0. 0. 0. 0. 0. 0. 0. 0. 0. 0. 0. 0. 0. 0. 0. 0. 0. 0. 0. 0. 0. 0. 0. 0. 0. 0.\n",
      " 0. 0. 0. 0. 0. 0. 0. 0. 0. 0. 0. 0. 0. 0. 0. 0. 0. 0. 0. 0. 0. 0. 0. 0. 0. 0. 0. 0. 0. 0. 0. 0. 0.\n",
      " 0.]\n"
     ]
    }
   ],
   "source": [
    "xbar, ubar = updated_x.reduce(lambda xu1, xu2: (xu1[0] + xu2[0], xu1[1] + xu2[1]))\n",
    "xbar /= N\n",
    "ubar /= N\n",
    "print(xbar)\n",
    "print(ubar)"
   ]
  },
  {
   "cell_type": "markdown",
   "id": "773d9d8d",
   "metadata": {},
   "source": [
    "更新一次 $z$："
   ]
  },
  {
   "cell_type": "code",
   "execution_count": 14,
   "id": "76165d30",
   "metadata": {},
   "outputs": [
    {
     "data": {
      "text/plain": [
       "array([-0., -0.,  0.,  0.,  0., -0.,  0., -0.,  0., -0., -0.,  0.,  0.,  0.,  0., -0., -0.,  0.,\n",
       "        0., -0., -0.,  0.,  0., -0.,  0., -0., -0., -0., -0.,  0., -0.,  0., -0.,  0.,  0., -0.,\n",
       "        0., -0., -0., -0.,  0., -0.,  0., -0.,  0., -0.,  0., -0.,  0., -0., -0., -0., -0., -0.,\n",
       "        0.,  0., -0., -0., -0.,  0.,  0., -0., -0.,  0., -0., -0., -0., -0.,  0., -0.,  0.,  0.,\n",
       "       -0.,  0., -0.,  0., -0., -0., -0., -0.,  0.,  0., -0.,  0., -0., -0., -0.,  0., -0., -0.,\n",
       "        0.,  0., -0.,  0.,  0.,  0., -0.,  0., -0.,  0.])"
      ]
     },
     "execution_count": 14,
     "metadata": {},
     "output_type": "execute_result"
    }
   ],
   "source": [
    "def soft_thresholding(a, k):\n",
    "    return np.sign(a) * np.maximum(0.0, np.abs(a) - k)\n",
    "\n",
    "znew = soft_thresholding(xbar + ubar, lam / (rho * N))\n",
    "znew"
   ]
  },
  {
   "cell_type": "markdown",
   "id": "935aed22",
   "metadata": {},
   "source": [
    "更新一次 $u_i$："
   ]
  },
  {
   "cell_type": "code",
   "execution_count": 15,
   "id": "5cdec60b",
   "metadata": {},
   "outputs": [
    {
     "data": {
      "text/plain": [
       "(array([-5.90891230e-01, -1.11316101e+00,  1.15118520e+00,  6.87119086e-01,  6.40461335e-01,\n",
       "        -1.69365779e+00,  8.71350796e-01, -6.94468582e-01,  1.20887153e+00, -1.75076360e-01,\n",
       "        -5.90574730e-01,  4.51854802e-01,  1.56860343e+00,  9.37088007e-01,  3.29918988e-01,\n",
       "        -6.21764363e-01, -1.67827119e-01,  1.04850460e+00,  9.84924270e-01, -2.24025282e-01,\n",
       "        -1.10339965e-02,  4.80186788e-03,  1.98148799e-02, -4.02297944e-03,  3.05191710e-03,\n",
       "        -3.09676813e-03, -1.02057223e-02, -4.79883136e-03, -4.54899791e-03, -5.83288153e-03,\n",
       "        -3.67947030e-03,  5.09693034e-03, -3.38483744e-03,  4.93337600e-03,  2.31644906e-03,\n",
       "        -1.11660789e-02,  1.47914464e-02, -2.71281059e-03, -8.34385522e-03,  4.41063100e-04,\n",
       "        -4.45645877e-03, -3.11051955e-03,  3.95695611e-03, -1.30166500e-03,  1.65346429e-03,\n",
       "        -1.45887472e-02,  7.72474580e-03, -3.11627620e-03, -3.10905486e-03, -2.67056160e-03,\n",
       "        -8.22430437e-03, -4.24525820e-03, -6.19090214e-03, -4.37564448e-03,  7.57946524e-03,\n",
       "        -6.47270008e-03, -3.64220278e-03, -6.36540473e-03,  6.11194086e-04,  2.34364836e-03,\n",
       "         1.46010296e-02,  6.09179581e-03, -1.78658061e-03, -3.95903945e-03, -8.86850382e-03,\n",
       "        -3.10783022e-03, -6.81922197e-03,  1.55643226e-03, -3.09014017e-04, -1.41218612e-02,\n",
       "         1.12047741e-02,  1.42824739e-03, -1.56523847e-03,  1.57893930e-03,  1.99059858e-03,\n",
       "         9.19513899e-03,  2.31896129e-03, -5.48662055e-04,  2.15516758e-03,  3.62913236e-03,\n",
       "         1.04044250e-02, -6.83591967e-03, -1.65348743e-02,  6.05999830e-03, -1.31373963e-03,\n",
       "         3.84169685e-03,  3.07226662e-03,  1.36567849e-03, -6.17272146e-03, -2.39662970e-03,\n",
       "         2.17622703e-02,  7.94839453e-03,  9.05183811e-03,  4.42691458e-03, -1.13280857e-02,\n",
       "         6.62980666e-03,  7.99662229e-04, -1.23840994e-03, -1.87226577e-02,  1.52467607e-03]),\n",
       " array([-5.90891230e-01, -1.11316101e+00,  1.15118520e+00,  6.87119086e-01,  6.40461335e-01,\n",
       "        -1.69365779e+00,  8.71350796e-01, -6.94468582e-01,  1.20887153e+00, -1.75076360e-01,\n",
       "        -5.90574730e-01,  4.51854802e-01,  1.56860343e+00,  9.37088007e-01,  3.29918988e-01,\n",
       "        -6.21764363e-01, -1.67827119e-01,  1.04850460e+00,  9.84924270e-01, -2.24025282e-01,\n",
       "        -1.10339965e-02,  4.80186788e-03,  1.98148799e-02, -4.02297944e-03,  3.05191710e-03,\n",
       "        -3.09676813e-03, -1.02057223e-02, -4.79883136e-03, -4.54899791e-03, -5.83288153e-03,\n",
       "        -3.67947030e-03,  5.09693034e-03, -3.38483744e-03,  4.93337600e-03,  2.31644906e-03,\n",
       "        -1.11660789e-02,  1.47914464e-02, -2.71281059e-03, -8.34385522e-03,  4.41063100e-04,\n",
       "        -4.45645877e-03, -3.11051955e-03,  3.95695611e-03, -1.30166500e-03,  1.65346429e-03,\n",
       "        -1.45887472e-02,  7.72474580e-03, -3.11627620e-03, -3.10905486e-03, -2.67056160e-03,\n",
       "        -8.22430437e-03, -4.24525820e-03, -6.19090214e-03, -4.37564448e-03,  7.57946524e-03,\n",
       "        -6.47270008e-03, -3.64220278e-03, -6.36540473e-03,  6.11194086e-04,  2.34364836e-03,\n",
       "         1.46010296e-02,  6.09179581e-03, -1.78658061e-03, -3.95903945e-03, -8.86850382e-03,\n",
       "        -3.10783022e-03, -6.81922197e-03,  1.55643226e-03, -3.09014017e-04, -1.41218612e-02,\n",
       "         1.12047741e-02,  1.42824739e-03, -1.56523847e-03,  1.57893930e-03,  1.99059858e-03,\n",
       "         9.19513899e-03,  2.31896129e-03, -5.48662055e-04,  2.15516758e-03,  3.62913236e-03,\n",
       "         1.04044250e-02, -6.83591967e-03, -1.65348743e-02,  6.05999830e-03, -1.31373963e-03,\n",
       "         3.84169685e-03,  3.07226662e-03,  1.36567849e-03, -6.17272146e-03, -2.39662970e-03,\n",
       "         2.17622703e-02,  7.94839453e-03,  9.05183811e-03,  4.42691458e-03, -1.13280857e-02,\n",
       "         6.62980666e-03,  7.99662229e-04, -1.23840994e-03, -1.87226577e-02,  1.52467607e-03]))"
      ]
     },
     "execution_count": 15,
     "metadata": {},
     "output_type": "execute_result"
    }
   ],
   "source": [
    "def update_u(param, z):\n",
    "    xi_new, ui = param\n",
    "    # 计算新 ui\n",
    "    ui_new = ui + xi_new - z\n",
    "    return xi_new, ui_new\n",
    "\n",
    "updated_u = updated_x.map(lambda d: update_u(d, znew))\n",
    "updated_u.first()"
   ]
  },
  {
   "cell_type": "markdown",
   "id": "8854d08c",
   "metadata": {},
   "source": [
    "计算原问题残差范数\n",
    "\n",
    "$$\n",
    "\\Vert r^{k+1}\\Vert=\\sqrt{\\sum_{i=1}^N \\Vert x_i^{k+1} - z^{k+1}\\Vert^2}.\n",
    "$$"
   ]
  },
  {
   "cell_type": "code",
   "execution_count": 16,
   "id": "9200adea",
   "metadata": {},
   "outputs": [
    {
     "name": "stdout",
     "output_type": "stream",
     "text": [
      "7.993021782824685\n"
     ]
    }
   ],
   "source": [
    "# 在每个分块上计算 ||xi_new - z||^2，然后汇总求和\n",
    "resid_r_norm = updated_u.map(lambda d: np.sum(np.square(d[0] - znew))).reduce(lambda x, y: x + y)\n",
    "resid_r_norm = np.sqrt(resid_r_norm)\n",
    "print(resid_r_norm)"
   ]
  },
  {
   "cell_type": "markdown",
   "id": "797b9b02",
   "metadata": {},
   "source": [
    "计算对偶问题残差范数："
   ]
  },
  {
   "cell_type": "code",
   "execution_count": 17,
   "id": "a38f341f",
   "metadata": {},
   "outputs": [
    {
     "name": "stdout",
     "output_type": "stream",
     "text": [
      "0.0\n"
     ]
    }
   ],
   "source": [
    "resid_s_norm = rho * np.sqrt(N) * np.linalg.norm(znew - z)\n",
    "print(resid_s_norm)"
   ]
  },
  {
   "cell_type": "markdown",
   "id": "f71b68f3",
   "metadata": {},
   "source": [
    "接下来将整个过程写入一个循环，同时设定最大迭代次数为100，收敛的阈值为0.001。"
   ]
  },
  {
   "cell_type": "code",
   "execution_count": 18,
   "id": "4dfebd79",
   "metadata": {
    "scrolled": true
   },
   "outputs": [
    {
     "name": "stdout",
     "output_type": "stream",
     "text": [
      "Iteration 0, ||r|| = 7.993022, ||s|| = 0.000000\n",
      "Iteration 1, ||r|| = 6.960693, ||s|| = 22.149352\n",
      "Iteration 2, ||r|| = 4.198804, ||s|| = 45.316189\n",
      "Iteration 3, ||r|| = 2.976524, ||s|| = 25.852161\n",
      "Iteration 4, ||r|| = 1.368126, ||s|| = 24.405553\n",
      "Iteration 5, ||r|| = 1.070668, ||s|| = 5.702382\n",
      "Iteration 6, ||r|| = 0.946690, ||s|| = 4.993388\n",
      "Iteration 7, ||r|| = 0.751586, ||s|| = 3.305523\n",
      "Iteration 8, ||r|| = 0.672615, ||s|| = 3.348174\n",
      "Iteration 9, ||r|| = 0.672343, ||s|| = 0.001349\n",
      "Iteration 10, ||r|| = 0.672071, ||s|| = 0.000038\n",
      "Iteration 11, ||r|| = 0.496673, ||s|| = 4.418458\n",
      "Iteration 12, ||r|| = 0.496356, ||s|| = 0.108130\n",
      "Iteration 13, ||r|| = 0.496154, ||s|| = 0.000057\n",
      "Iteration 14, ||r|| = 0.357007, ||s|| = 2.819662\n",
      "Iteration 15, ||r|| = 0.161443, ||s|| = 2.380831\n",
      "Iteration 16, ||r|| = 0.128294, ||s|| = 0.979881\n",
      "Iteration 17, ||r|| = 0.128241, ||s|| = 0.000399\n",
      "Iteration 18, ||r|| = 0.128189, ||s|| = 0.000017\n",
      "Iteration 19, ||r|| = 0.128136, ||s|| = 0.000017\n",
      "Iteration 20, ||r|| = 0.128084, ||s|| = 0.000017\n",
      "Iteration 21, ||r|| = 0.128031, ||s|| = 0.000017\n",
      "Iteration 22, ||r|| = 0.127979, ||s|| = 0.000017\n",
      "Iteration 23, ||r|| = 0.127927, ||s|| = 0.000017\n",
      "Iteration 24, ||r|| = 0.127874, ||s|| = 0.000017\n",
      "Iteration 25, ||r|| = 0.127822, ||s|| = 0.000017\n",
      "Iteration 26, ||r|| = 0.127770, ||s|| = 0.000017\n",
      "Iteration 27, ||r|| = 0.127717, ||s|| = 0.000017\n",
      "Iteration 28, ||r|| = 0.127665, ||s|| = 0.000017\n",
      "Iteration 29, ||r|| = 0.127613, ||s|| = 0.000017\n",
      "Iteration 30, ||r|| = 0.127560, ||s|| = 0.000017\n",
      "Iteration 31, ||r|| = 0.127508, ||s|| = 0.000017\n",
      "Iteration 32, ||r|| = 0.127456, ||s|| = 0.000017\n",
      "Iteration 33, ||r|| = 0.127404, ||s|| = 0.000017\n",
      "Iteration 34, ||r|| = 0.127352, ||s|| = 0.000017\n",
      "Iteration 35, ||r|| = 0.127300, ||s|| = 0.000017\n",
      "Iteration 36, ||r|| = 0.127247, ||s|| = 0.000017\n",
      "Iteration 37, ||r|| = 0.127195, ||s|| = 0.000017\n",
      "Iteration 38, ||r|| = 0.127143, ||s|| = 0.000017\n",
      "Iteration 39, ||r|| = 0.127091, ||s|| = 0.000017\n",
      "Iteration 40, ||r|| = 0.127039, ||s|| = 0.000017\n",
      "Iteration 41, ||r|| = 0.126987, ||s|| = 0.000017\n",
      "Iteration 42, ||r|| = 0.126935, ||s|| = 0.000017\n",
      "Iteration 43, ||r|| = 0.126883, ||s|| = 0.000017\n",
      "Iteration 44, ||r|| = 0.126831, ||s|| = 0.000017\n",
      "Iteration 45, ||r|| = 0.126779, ||s|| = 0.000017\n",
      "Iteration 46, ||r|| = 0.126728, ||s|| = 0.000017\n",
      "Iteration 47, ||r|| = 0.126676, ||s|| = 0.000017\n",
      "Iteration 48, ||r|| = 0.126624, ||s|| = 0.000017\n",
      "Iteration 49, ||r|| = 0.126572, ||s|| = 0.000017\n",
      "Iteration 50, ||r|| = 0.126520, ||s|| = 0.000017\n",
      "Iteration 51, ||r|| = 0.126468, ||s|| = 0.000017\n",
      "Iteration 52, ||r|| = 0.126417, ||s|| = 0.000017\n",
      "Iteration 53, ||r|| = 0.126365, ||s|| = 0.000017\n",
      "Iteration 54, ||r|| = 0.126313, ||s|| = 0.000017\n"
     ]
    },
    {
     "name": "stderr",
     "output_type": "stream",
     "text": [
      "ERROR:root:KeyboardInterrupt while sending command.\n",
      "Traceback (most recent call last):\n",
      "  File \"D:\\Spark\\python\\lib\\py4j-0.10.9.5-src.zip\\py4j\\java_gateway.py\", line 1038, in send_command\n",
      "    response = connection.send_command(command)\n",
      "  File \"D:\\Spark\\python\\lib\\py4j-0.10.9.5-src.zip\\py4j\\clientserver.py\", line 511, in send_command\n",
      "    answer = smart_decode(self.stream.readline()[:-1])\n",
      "  File \"C:\\Users\\Bmanksy\\miniconda3\\lib\\socket.py\", line 705, in readinto\n",
      "    return self._sock.recv_into(b)\n",
      "KeyboardInterrupt\n"
     ]
    },
    {
     "ename": "KeyboardInterrupt",
     "evalue": "",
     "output_type": "error",
     "traceback": [
      "\u001b[1;31m---------------------------------------------------------------------------\u001b[0m",
      "\u001b[1;31mKeyboardInterrupt\u001b[0m                         Traceback (most recent call last)",
      "Cell \u001b[1;32mIn[18], line 9\u001b[0m\n\u001b[0;32m      7\u001b[0m updated_x\u001b[38;5;241m.\u001b[39mcache()\n\u001b[0;32m      8\u001b[0m \u001b[38;5;66;03m# 计算平均\u001b[39;00m\n\u001b[1;32m----> 9\u001b[0m xbar, ubar \u001b[38;5;241m=\u001b[39m \u001b[43mupdated_x\u001b[49m\u001b[38;5;241;43m.\u001b[39;49m\u001b[43mreduce\u001b[49m\u001b[43m(\u001b[49m\u001b[38;5;28;43;01mlambda\u001b[39;49;00m\u001b[43m \u001b[49m\u001b[43mxu1\u001b[49m\u001b[43m,\u001b[49m\u001b[43m \u001b[49m\u001b[43mxu2\u001b[49m\u001b[43m:\u001b[49m\u001b[43m \u001b[49m\u001b[43m(\u001b[49m\u001b[43mxu1\u001b[49m\u001b[43m[\u001b[49m\u001b[38;5;241;43m0\u001b[39;49m\u001b[43m]\u001b[49m\u001b[43m \u001b[49m\u001b[38;5;241;43m+\u001b[39;49m\u001b[43m \u001b[49m\u001b[43mxu2\u001b[49m\u001b[43m[\u001b[49m\u001b[38;5;241;43m0\u001b[39;49m\u001b[43m]\u001b[49m\u001b[43m,\u001b[49m\u001b[43m \u001b[49m\u001b[43mxu1\u001b[49m\u001b[43m[\u001b[49m\u001b[38;5;241;43m1\u001b[39;49m\u001b[43m]\u001b[49m\u001b[43m \u001b[49m\u001b[38;5;241;43m+\u001b[39;49m\u001b[43m \u001b[49m\u001b[43mxu2\u001b[49m\u001b[43m[\u001b[49m\u001b[38;5;241;43m1\u001b[39;49m\u001b[43m]\u001b[49m\u001b[43m)\u001b[49m\u001b[43m)\u001b[49m\n\u001b[0;32m     10\u001b[0m xbar \u001b[38;5;241m/\u001b[39m\u001b[38;5;241m=\u001b[39m N\n\u001b[0;32m     11\u001b[0m ubar \u001b[38;5;241m/\u001b[39m\u001b[38;5;241m=\u001b[39m N\n",
      "File \u001b[1;32mD:\\Spark\\python\\pyspark\\rdd.py:1250\u001b[0m, in \u001b[0;36mRDD.reduce\u001b[1;34m(self, f)\u001b[0m\n\u001b[0;32m   1247\u001b[0m         \u001b[38;5;28;01mreturn\u001b[39;00m\n\u001b[0;32m   1248\u001b[0m     \u001b[38;5;28;01myield\u001b[39;00m reduce(f, iterator, initial)\n\u001b[1;32m-> 1250\u001b[0m vals \u001b[38;5;241m=\u001b[39m \u001b[38;5;28;43mself\u001b[39;49m\u001b[38;5;241;43m.\u001b[39;49m\u001b[43mmapPartitions\u001b[49m\u001b[43m(\u001b[49m\u001b[43mfunc\u001b[49m\u001b[43m)\u001b[49m\u001b[38;5;241;43m.\u001b[39;49m\u001b[43mcollect\u001b[49m\u001b[43m(\u001b[49m\u001b[43m)\u001b[49m\n\u001b[0;32m   1251\u001b[0m \u001b[38;5;28;01mif\u001b[39;00m vals:\n\u001b[0;32m   1252\u001b[0m     \u001b[38;5;28;01mreturn\u001b[39;00m reduce(f, vals)\n",
      "File \u001b[1;32mD:\\Spark\\python\\pyspark\\rdd.py:1197\u001b[0m, in \u001b[0;36mRDD.collect\u001b[1;34m(self)\u001b[0m\n\u001b[0;32m   1195\u001b[0m \u001b[38;5;28;01mwith\u001b[39;00m SCCallSiteSync(\u001b[38;5;28mself\u001b[39m\u001b[38;5;241m.\u001b[39mcontext):\n\u001b[0;32m   1196\u001b[0m     \u001b[38;5;28;01massert\u001b[39;00m \u001b[38;5;28mself\u001b[39m\u001b[38;5;241m.\u001b[39mctx\u001b[38;5;241m.\u001b[39m_jvm \u001b[38;5;129;01mis\u001b[39;00m \u001b[38;5;129;01mnot\u001b[39;00m \u001b[38;5;28;01mNone\u001b[39;00m\n\u001b[1;32m-> 1197\u001b[0m     sock_info \u001b[38;5;241m=\u001b[39m \u001b[38;5;28;43mself\u001b[39;49m\u001b[38;5;241;43m.\u001b[39;49m\u001b[43mctx\u001b[49m\u001b[38;5;241;43m.\u001b[39;49m\u001b[43m_jvm\u001b[49m\u001b[38;5;241;43m.\u001b[39;49m\u001b[43mPythonRDD\u001b[49m\u001b[38;5;241;43m.\u001b[39;49m\u001b[43mcollectAndServe\u001b[49m\u001b[43m(\u001b[49m\u001b[38;5;28;43mself\u001b[39;49m\u001b[38;5;241;43m.\u001b[39;49m\u001b[43m_jrdd\u001b[49m\u001b[38;5;241;43m.\u001b[39;49m\u001b[43mrdd\u001b[49m\u001b[43m(\u001b[49m\u001b[43m)\u001b[49m\u001b[43m)\u001b[49m\n\u001b[0;32m   1198\u001b[0m \u001b[38;5;28;01mreturn\u001b[39;00m \u001b[38;5;28mlist\u001b[39m(_load_from_socket(sock_info, \u001b[38;5;28mself\u001b[39m\u001b[38;5;241m.\u001b[39m_jrdd_deserializer))\n",
      "File \u001b[1;32mD:\\Spark\\python\\lib\\py4j-0.10.9.5-src.zip\\py4j\\java_gateway.py:1320\u001b[0m, in \u001b[0;36mJavaMember.__call__\u001b[1;34m(self, *args)\u001b[0m\n\u001b[0;32m   1313\u001b[0m args_command, temp_args \u001b[38;5;241m=\u001b[39m \u001b[38;5;28mself\u001b[39m\u001b[38;5;241m.\u001b[39m_build_args(\u001b[38;5;241m*\u001b[39margs)\n\u001b[0;32m   1315\u001b[0m command \u001b[38;5;241m=\u001b[39m proto\u001b[38;5;241m.\u001b[39mCALL_COMMAND_NAME \u001b[38;5;241m+\u001b[39m\\\n\u001b[0;32m   1316\u001b[0m     \u001b[38;5;28mself\u001b[39m\u001b[38;5;241m.\u001b[39mcommand_header \u001b[38;5;241m+\u001b[39m\\\n\u001b[0;32m   1317\u001b[0m     args_command \u001b[38;5;241m+\u001b[39m\\\n\u001b[0;32m   1318\u001b[0m     proto\u001b[38;5;241m.\u001b[39mEND_COMMAND_PART\n\u001b[1;32m-> 1320\u001b[0m answer \u001b[38;5;241m=\u001b[39m \u001b[38;5;28;43mself\u001b[39;49m\u001b[38;5;241;43m.\u001b[39;49m\u001b[43mgateway_client\u001b[49m\u001b[38;5;241;43m.\u001b[39;49m\u001b[43msend_command\u001b[49m\u001b[43m(\u001b[49m\u001b[43mcommand\u001b[49m\u001b[43m)\u001b[49m\n\u001b[0;32m   1321\u001b[0m return_value \u001b[38;5;241m=\u001b[39m get_return_value(\n\u001b[0;32m   1322\u001b[0m     answer, \u001b[38;5;28mself\u001b[39m\u001b[38;5;241m.\u001b[39mgateway_client, \u001b[38;5;28mself\u001b[39m\u001b[38;5;241m.\u001b[39mtarget_id, \u001b[38;5;28mself\u001b[39m\u001b[38;5;241m.\u001b[39mname)\n\u001b[0;32m   1324\u001b[0m \u001b[38;5;28;01mfor\u001b[39;00m temp_arg \u001b[38;5;129;01min\u001b[39;00m temp_args:\n",
      "File \u001b[1;32mD:\\Spark\\python\\lib\\py4j-0.10.9.5-src.zip\\py4j\\java_gateway.py:1038\u001b[0m, in \u001b[0;36mGatewayClient.send_command\u001b[1;34m(self, command, retry, binary)\u001b[0m\n\u001b[0;32m   1036\u001b[0m connection \u001b[38;5;241m=\u001b[39m \u001b[38;5;28mself\u001b[39m\u001b[38;5;241m.\u001b[39m_get_connection()\n\u001b[0;32m   1037\u001b[0m \u001b[38;5;28;01mtry\u001b[39;00m:\n\u001b[1;32m-> 1038\u001b[0m     response \u001b[38;5;241m=\u001b[39m \u001b[43mconnection\u001b[49m\u001b[38;5;241;43m.\u001b[39;49m\u001b[43msend_command\u001b[49m\u001b[43m(\u001b[49m\u001b[43mcommand\u001b[49m\u001b[43m)\u001b[49m\n\u001b[0;32m   1039\u001b[0m     \u001b[38;5;28;01mif\u001b[39;00m binary:\n\u001b[0;32m   1040\u001b[0m         \u001b[38;5;28;01mreturn\u001b[39;00m response, \u001b[38;5;28mself\u001b[39m\u001b[38;5;241m.\u001b[39m_create_connection_guard(connection)\n",
      "File \u001b[1;32mD:\\Spark\\python\\lib\\py4j-0.10.9.5-src.zip\\py4j\\clientserver.py:511\u001b[0m, in \u001b[0;36mClientServerConnection.send_command\u001b[1;34m(self, command)\u001b[0m\n\u001b[0;32m    509\u001b[0m \u001b[38;5;28;01mtry\u001b[39;00m:\n\u001b[0;32m    510\u001b[0m     \u001b[38;5;28;01mwhile\u001b[39;00m \u001b[38;5;28;01mTrue\u001b[39;00m:\n\u001b[1;32m--> 511\u001b[0m         answer \u001b[38;5;241m=\u001b[39m smart_decode(\u001b[38;5;28;43mself\u001b[39;49m\u001b[38;5;241;43m.\u001b[39;49m\u001b[43mstream\u001b[49m\u001b[38;5;241;43m.\u001b[39;49m\u001b[43mreadline\u001b[49m\u001b[43m(\u001b[49m\u001b[43m)\u001b[49m[:\u001b[38;5;241m-\u001b[39m\u001b[38;5;241m1\u001b[39m])\n\u001b[0;32m    512\u001b[0m         logger\u001b[38;5;241m.\u001b[39mdebug(\u001b[38;5;124m\"\u001b[39m\u001b[38;5;124mAnswer received: \u001b[39m\u001b[38;5;132;01m{0}\u001b[39;00m\u001b[38;5;124m\"\u001b[39m\u001b[38;5;241m.\u001b[39mformat(answer))\n\u001b[0;32m    513\u001b[0m         \u001b[38;5;66;03m# Happens when a the other end is dead. There might be an empty\u001b[39;00m\n\u001b[0;32m    514\u001b[0m         \u001b[38;5;66;03m# answer before the socket raises an error.\u001b[39;00m\n",
      "File \u001b[1;32m~\\miniconda3\\lib\\socket.py:705\u001b[0m, in \u001b[0;36mSocketIO.readinto\u001b[1;34m(self, b)\u001b[0m\n\u001b[0;32m    703\u001b[0m \u001b[38;5;28;01mwhile\u001b[39;00m \u001b[38;5;28;01mTrue\u001b[39;00m:\n\u001b[0;32m    704\u001b[0m     \u001b[38;5;28;01mtry\u001b[39;00m:\n\u001b[1;32m--> 705\u001b[0m         \u001b[38;5;28;01mreturn\u001b[39;00m \u001b[38;5;28;43mself\u001b[39;49m\u001b[38;5;241;43m.\u001b[39;49m\u001b[43m_sock\u001b[49m\u001b[38;5;241;43m.\u001b[39;49m\u001b[43mrecv_into\u001b[49m\u001b[43m(\u001b[49m\u001b[43mb\u001b[49m\u001b[43m)\u001b[49m\n\u001b[0;32m    706\u001b[0m     \u001b[38;5;28;01mexcept\u001b[39;00m timeout:\n\u001b[0;32m    707\u001b[0m         \u001b[38;5;28mself\u001b[39m\u001b[38;5;241m.\u001b[39m_timeout_occurred \u001b[38;5;241m=\u001b[39m \u001b[38;5;28;01mTrue\u001b[39;00m\n",
      "\u001b[1;31mKeyboardInterrupt\u001b[0m: "
     ]
    }
   ],
   "source": [
    "max_iter = 100\n",
    "tol = 0.001\n",
    "\n",
    "for i in range(max_iter):\n",
    "    # x 更新\n",
    "    updated_x = dat.zip(params).map(lambda d: update_x(d, z, rho))\n",
    "    updated_x.cache()\n",
    "    # 计算平均\n",
    "    xbar, ubar = updated_x.reduce(lambda xu1, xu2: (xu1[0] + xu2[0], xu1[1] + xu2[1]))\n",
    "    xbar /= N\n",
    "    ubar /= N\n",
    "    # z 更新\n",
    "    znew = soft_thresholding(xbar + ubar, lam / (rho * N))\n",
    "    # u 更新\n",
    "    updated_u = updated_x.map(lambda d: update_u(d, znew))\n",
    "    updated_u.cache()\n",
    "    # 计算残差大小\n",
    "    resid_r_norm = updated_u.map(lambda d: np.sum(np.square(d[0] - znew))).reduce(lambda x, y: x + y)\n",
    "    resid_r_norm = np.sqrt(resid_r_norm)\n",
    "    resid_s_norm = rho * np.sqrt(N) * np.linalg.norm(znew - z)\n",
    "    # 更新 x、z 和 u 的取值\n",
    "    params = updated_u\n",
    "    params.cache()\n",
    "    z = znew\n",
    "    # 打印残差信息，判断是否收敛\n",
    "    if i % 1 == 0:\n",
    "        print(f\"Iteration {i}, ||r|| = {resid_r_norm:.6f}, ||s|| = {resid_s_norm:.6f}\")\n",
    "    if resid_r_norm <= tol and resid_s_norm <= tol:\n",
    "        break"
   ]
  },
  {
   "cell_type": "code",
   "execution_count": null,
   "id": "70a673cb",
   "metadata": {},
   "outputs": [],
   "source": [
    "z"
   ]
  },
  {
   "cell_type": "code",
   "execution_count": null,
   "id": "78ff02b0",
   "metadata": {},
   "outputs": [],
   "source": [
    "xtrue"
   ]
  },
  {
   "cell_type": "code",
   "execution_count": null,
   "id": "f62b53b4",
   "metadata": {},
   "outputs": [],
   "source": [
    "sc.stop()"
   ]
  },
  {
   "cell_type": "code",
   "execution_count": null,
   "id": "6d18e273",
   "metadata": {},
   "outputs": [],
   "source": []
  }
 ],
 "metadata": {
  "kernelspec": {
   "display_name": "Python 3 (ipykernel)",
   "language": "python",
   "name": "python3"
  },
  "language_info": {
   "codemirror_mode": {
    "name": "ipython",
    "version": 3
   },
   "file_extension": ".py",
   "mimetype": "text/x-python",
   "name": "python",
   "nbconvert_exporter": "python",
   "pygments_lexer": "ipython3",
   "version": "3.9.13"
  }
 },
 "nbformat": 4,
 "nbformat_minor": 5
}
