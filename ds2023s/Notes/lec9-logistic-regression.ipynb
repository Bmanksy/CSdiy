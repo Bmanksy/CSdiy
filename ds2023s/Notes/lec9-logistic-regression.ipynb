{
 "cells": [
  {
   "cell_type": "markdown",
   "id": "294f54c3",
   "metadata": {},
   "source": [
    "# 分布式 Logistic 回归模型\n",
    "最终目的是理解y的分布，p(y=1)=p      \n",
    "理论上每一个观测yi对应一个pi      \n",
    "利用观测yi的自变量xi构建和pi的关系，$pi=xi*beta$ 前者（0，1） 后者 R         \n",
    "这时需要一个映射将R->（0，1）     \n",
    "logistic选用了sigmoid （可选项）     \n",
    "需要选择损失函数      \n",
    "此时选择似然函数（性质好 掌握性质！ 课后理解目标函数！！）     \n",
    "$P(Y_i=y) = p_i^y_i*(1-p_i)^{1-y_i}$       "
   ]
  },
  {
   "cell_type": "markdown",
   "id": "4751db87",
   "metadata": {},
   "source": [
    "Two branches of **methods for classification**:generative modeling/discriminative modeling      \n",
    "Naive Bayes is a generative classifier;logistic regression is a discrimitive classifier    \n",
    "A generative model like naive Bayes assigns a class c to a document d by computing a likelihood and a prior\n",
    "$$ \\hat c = \\underset{c\\in C}{argmax} P(d|c) P(c) $$     \n",
    "A discriminative model attempts to directly compute $P(c|d)$     \n",
    "\n",
    "**Components of a probabilistic machine learning classifier**:      \n",
    "1. A feature represntation of the input.Observation x->a vector of features(x1,x2,...,xn)\n",
    "2. A classification function that computes $\\hat y$.(ex. sigmoid and softmax tools)\n",
    "3. An objective function for learning, usually involving minimizing error on training examples.(cross-entropy loss function)\n",
    "4. An algorithm for optimizing the objective function.(gradient descent...)\n"
   ]
  },
  {
   "cell_type": "markdown",
   "id": "639d752d",
   "metadata": {},
   "source": [
    "Logistic regression learns, from a training set, a vector of **weights** and a **bias** term.\n",
    "\n",
    "Each weight $w_i$ is a real number, and is associated with one of the input features $x_i$. The weight $w_i$ represents how important that input feature to the classification decision.           \n",
    "The bias term, also called the intercept, is another real number that’s added to the weighted inputs.\n",
    "The resulting single number z expresses the weighted sum of the evidence for the class.\n",
    "$$z = \\big(\\sum_{i=1}^n w_ix_i \\big) + b$$\n",
    "$$ z = w\\cdot x + b$$"
   ]
  },
  {
   "cell_type": "markdown",
   "id": "e57e26a8",
   "metadata": {},
   "source": [
    "To create a probability, we’ll pass $z$ through the sigmoid function, $\\sigma(z)$.\n",
    "$$\\sigma(z) = \\frac{1}{1 + e^{-z}}$$"
   ]
  },
  {
   "cell_type": "code",
   "execution_count": 1,
   "id": "f70f5a3f",
   "metadata": {},
   "outputs": [
    {
     "data": {
      "image/png": "[encoded data removed]",
      "text/plain": [
       "<Figure size 640x480 with 1 Axes>"
      ]
     },
     "metadata": {},
     "output_type": "display_data"
    }
   ],
   "source": [
    "import numpy as np\n",
    "import matplotlib.pyplot as plt\n",
    "z = np.arange(-8, 8, 0.1)\n",
    "x = z\n",
    "y = 1 / (1 + np.exp(-z))\n",
    "plt.plot(x, y)\n",
    "plt.grid()\n",
    "plt.show()"
   ]
  },
  {
   "cell_type": "markdown",
   "id": "7f5856a8",
   "metadata": {},
   "source": [
    "Because it is nearly linear around 0 but flattens toward the ends, it tends to squash outlier values toward 0 or 1. And it's differentiable.\n",
    "$$1 - \\sigma(x) = \\sigma(-x)$$\n",
    "$$P(y = 1) = \\sigma(w\\cdot x + b)$$\n",
    "$$P(y = 0) = 1 - \\sigma(w\\cdot x + b) = \\sigma(-(w\\cdot x + b))$$"
   ]
  },
  {
   "cell_type": "markdown",
   "id": "8f9fdd65",
   "metadata": {},
   "source": [
    "The **decision boundary**:\n",
    "$$\n",
    "decision(x)\n",
    "\\begin{cases}\n",
    "1, &if P(y = 1|x)>0.5\\\\\n",
    "0, &otherwise\n",
    "\\end{cases}\n",
    "$$"
   ]
  },
  {
   "cell_type": "markdown",
   "id": "8379a9a2",
   "metadata": {},
   "source": [
    "We need a **loss function** that expresses, for an observation x, how close the classifier\n",
    "output ($\\hat y = \\sigma(w\\cdot x + b)$) is to the correct output ($y$, which is 0 or 1)\n",
    "$$L(\\hat y, y) = How\\ much\\ \\hat y\\ differs\\ from\\ the\\ true\\ y$$\n",
    "We do this via a loss function that prefers the correct class labels of the training examples to be *more likely*.\n",
    "\n",
    "**Conditional maximum likelihood estimation**: we choose the parameters $w, b$ that maximize the log probability of the true y labels in the training data given the observations $x$. The resulting loss function is the negative log likelihood loss, generally called th **cross-entropy loss**.\n",
    "\n",
    "**Derivation**:      \n",
    "Essencially, $$Y|x ~ Bernoulli(\\sigma(\\beta'x)) = Bernoulli(\\hat y) $$\n",
    "$$p(y|x) = \\hat y^y(1 - \\hat y)^{1 - y}$$\n",
    "We want to learn weights that maximize the probability of the correct label.\n",
    "$$log p(y|x) = ylog\\hat y + (1 - y)log(1 - \\hat y)\\ \\ \\ (5.21)$$\n",
    "To turn this into a loss function( sth that we need to minimize), we flip the sign.\n",
    "$$L_{CE}( \\hat y, y) = -log p(y|x) = - y(log\\hat y + (1 - y)log(1 - \\hat y))$$\n",
    "Since samples in the training data set are assumed independent, the posterior probability for the N sample points each having class $y_i, i = 1,2,...，N$，given their inputs $x_1,x_2,...,x_N$ is :\n",
    "$$\\prod^N_{i=1}P(Y = y_i|X = x_i)$$\n",
    "$$L_{CE} = -\\sum^N_{i=1}log P(Y = y_i|X = x_i)(损失函数的可加性）$$\n",
    "$$L_{CE} = -\\sum^N_{i=1}(y_ilog \\sigma(x_i;\\beta) + (1-y_i)log(1-\\sigma(x_i;\\beta)))$$\n",
    "$\\beta = ( b ,w )^T = ( b, w_1,...，w_p)^T \\ x_i = (1, x_{i1},...,x_{ip})^T$ \n",
    "           \n",
    "The **underlying theory**:       \n",
    "If $y = 1$, the higher $\\hat y$ is, the better the classifier.If $y = 0$, the higher $1 - \\hat y$ is, the better the classifier.Thus the negative log of $\\hat y$(true y =1) or $1 - \\hat y$(true y = 0) is a convenient metric.\n",
    "\n",
    "This loss function also ensures that as the probability of the correct answer is maximized, the probability of the incorrect answer is minimized; since the two sum to one, any increase in the probability of the correct answer is coming at the expense of the incorrect answer. It’s called the cross-entropy loss, because Eq. 5.21 is also the formula for the cross-entropy between the true probability distribution $y$ and our estimated distribution $\\hat y$."
   ]
  },
  {
   "cell_type": "markdown",
   "id": "0c8a3bc0",
   "metadata": {},
   "source": [
    "优化问题：           \n",
    "目标函数（这里是损失函数）取值达到最小        \n",
    "而目标函数的形式决定了最小化方法 '\n",
    "优化算法：    \n",
    "一阶（导数信息）算法（梯度下降法）           \n",
    "二阶算法（牛顿法）          \n",
    "梯度下降法：         \n",
    "利用当前位置的信息，给出更新->新的位置 \n",
    "x - 梯度* alpha alpha 为常数，小（利用精度高，但效率可能低）大（利用精度低）       \n",
    "牛顿法：\n",
    "在方向上利用了二阶导数信息"
   ]
  },
  {
   "cell_type": "code",
   "execution_count": null,
   "id": "e7e78d18",
   "metadata": {},
   "outputs": [],
   "source": [
    "极大似然准则下的L(beta)本身的信息（光滑度，一二阶导）\n",
    "梳理符号定义"
   ]
  },
  {
   "cell_type": "markdown",
   "id": "dd303e5e",
   "metadata": {},
   "source": [
    "### 1. 准备工作"
   ]
  },
  {
   "cell_type": "markdown",
   "id": "4330a894",
   "metadata": {},
   "source": [
    "配置和启动 PySpark："
   ]
  },
  {
   "cell_type": "code",
   "execution_count": 1,
   "id": "54d9bba0",
   "metadata": {},
   "outputs": [
    {
     "name": "stdout",
     "output_type": "stream",
     "text": [
      "<pyspark.sql.session.SparkSession object at 0x000001B68D1427C0>\n",
      "<SparkContext master=local[*] appName=Logistic Regression>\n"
     ]
    }
   ],
   "source": [
    "import findspark\n",
    "findspark.init()\n",
    "\n",
    "from pyspark.sql import SparkSession\n",
    "# 本地模式\n",
    "spark = SparkSession.builder.\\\n",
    "    master(\"local[*]\").\\\n",
    "    appName(\"Logistic Regression\").\\\n",
    "    getOrCreate()\n",
    "sc = spark.sparkContext\n",
    "# sc.setLogLevel(\"ERROR\")\n",
    "print(spark)\n",
    "print(sc)"
   ]
  },
  {
   "cell_type": "markdown",
   "id": "b67ee1cd",
   "metadata": {},
   "source": [
    "假设 $n\\gg p$，利用 Numpy 生成模拟数据，并写入文件。"
   ]
  },
  {
   "cell_type": "code",
   "execution_count": 2,
   "id": "cc36a5cc",
   "metadata": {},
   "outputs": [],
   "source": [
    "import os\n",
    "import numpy as np\n",
    "from scipy.special import expit, logit\n",
    "np.set_printoptions(linewidth=100)\n",
    "\n",
    "np.random.seed(123)\n",
    "n = 100000\n",
    "p = 100\n",
    "x = np.random.normal(size=(n, p))\n",
    "beta = np.random.normal(size=p)\n",
    "prob = expit(x.dot(beta))  # p = 1 / (1 + exp(-x * beta))\n",
    "y = np.random.binomial(1, prob, size=n)\n",
    "dat = np.hstack((y.reshape(n, 1), x))\n",
    "if not os.path.exists(\"data\"):\n",
    "    os.makedirs(\"data\", exist_ok=True)\n",
    "np.savetxt(\"data/logistic.txt\", dat, fmt=\"%f\", delimiter=\"\\t\")"
   ]
  },
  {
   "cell_type": "markdown",
   "id": "0814eb19",
   "metadata": {},
   "source": [
    "其中 `expit()` 即 Sigmoid 函数，表达式为 $\\rho(x)=1/(1+e^{-x})$。 "
   ]
  },
  {
   "cell_type": "markdown",
   "id": "8b44965a",
   "metadata": {},
   "source": [
    "PySpark 读取文件并进行一些简单操作："
   ]
  },
  {
   "cell_type": "code",
   "execution_count": 6,
   "id": "4dfebd79",
   "metadata": {
    "scrolled": true
   },
   "outputs": [
    {
     "name": "stdout",
     "output_type": "stream",
     "text": [
      "100000\n",
      "\n",
      "0.000000\t-1.085631\t0.997345\t0.282978\t-1.506295\t-0.578600\t1.651437\t-2.4...\n",
      "1.000000\t0.642055\t-1.977888\t0.712265\t2.598304\t-0.024626\t0.034142\t0.179...\n",
      "0.000000\t0.703310\t-0.598105\t2.200702\t0.688297\t-0.006307\t-0.206662\t-0.0...\n",
      "1.000000\t0.765055\t-0.828989\t-0.659151\t0.611124\t-0.144013\t1.316606\t-0.7...\n",
      "0.000000\t1.534090\t-0.529914\t-0.490972\t-1.309165\t-0.008660\t0.976813\t-1....\n"
     ]
    }
   ],
   "source": [
    "file = sc.textFile(\"data/logistic.txt\")\n",
    "\n",
    "# 打印矩阵行数\n",
    "print(file.count())\n",
    "\n",
    "# 空行\n",
    "print()\n",
    "\n",
    "# 打印前5行，并将每行字符串截尾\n",
    "text = file.map(lambda x: x[:70] + \"...\").take(5)\n",
    "print(*text, sep=\"\\n\")\n"
   ]
  },
  {
   "cell_type": "markdown",
   "id": "96ca1b07",
   "metadata": {},
   "source": [
    "### 2. 牛顿法迭代"
   ]
  },
  {
   "cell_type": "markdown",
   "id": "cc4a0ff4",
   "metadata": {},
   "source": [
    "Logistic 回归的系数估计没有显式解，但可以利用牛顿法迭代。参见 [https://online.stat.psu.edu/stat508/lesson/9/9.1/9.1.2](https://online.stat.psu.edu/stat508/lesson/9/9.1/9.1.2)。"
   ]
  },
  {
   "cell_type": "markdown",
   "id": "5c735d6e",
   "metadata": {},
   "source": [
    "迭代公式为 $\\beta^{new}=(X'WX)^{-1}X'Wz$，其中 $z=X\\beta^{old}+W^{-1}(y-prob)$，$prob$ 是 $\\rho(X\\beta^{old})$ 组成的向量，$W$ 是以 $prob\\cdot (1-prob)$ 为对角线元素的对角矩阵。         \n",
    "O(X'Wz):np     \n",
    "O(X'WX):np^2    \n",
    "求解：p^3         \n",
    "劣势：需要求二阶导，仅仅计算方向便需要O(p^3)；每次迭代时间复杂度为O(np^)"
   ]
  },
  {
   "cell_type": "markdown",
   "id": "9bf28dac",
   "metadata": {},
   "source": [
    "当 $n\\gg p$ 且 $p$ 不太大时，$X'WX$ 为 $p\\times p$ 矩阵，$X'Wz$ 为 $p\\times 1$ 向量，均可放入内存。因此，此时问题的核心在于计算 $X'WX$ 与 $X'Wz$。"
   ]
  },
  {
   "cell_type": "markdown",
   "id": "414e77bd",
   "metadata": {},
   "source": [
    "首先进行分区映射："
   ]
  },
  {
   "cell_type": "code",
   "execution_count": 5,
   "id": "b3e21ee5",
   "metadata": {},
   "outputs": [
    {
     "name": "stdout",
     "output_type": "stream",
     "text": [
      "3\n"
     ]
    }
   ],
   "source": [
    "# file = file.repartition(10)\n",
    "print(file.getNumPartitions())"
   ]
  },
  {
   "cell_type": "code",
   "execution_count": 6,
   "id": "3d75ea38",
   "metadata": {},
   "outputs": [],
   "source": [
    "# str => np.array\n",
    "def str_to_vec(line):\n",
    "    # 分割字符串\n",
    "    str_vec = line.split(\"\\t\")\n",
    "    # 将每一个元素从字符串变成数值型\n",
    "    num_vec = map(lambda s: float(s), str_vec)\n",
    "    # 创建 Numpy 向量\n",
    "    return np.fromiter(num_vec, dtype=float)\n",
    "\n",
    "# Iter[str] => Iter[matrix]\n",
    "def part_to_mat(iterator):\n",
    "    # Iter[str] => Iter[np.array]\n",
    "    \n",
    "    \n",
    "    \n",
    "    iter_arr = map(str_to_vec, iterator)\n",
    "\n",
    "    # Iter[np.array] => list(np.array)\n",
    "    dat = list(iter_arr)\n",
    "\n",
    "    # list(np.array) => matrix\n",
    "    if len(dat) < 1:  # Test zero iterator\n",
    "        mat = np.array([])\n",
    "    else:\n",
    "        mat = np.vstack(dat)\n",
    "\n",
    "    # matrix => Iter[matrix]\n",
    "    yield mat"
   ]
  },
  {
   "cell_type": "code",
   "execution_count": 7,
   "id": "d437358b",
   "metadata": {},
   "outputs": [
    {
     "name": "stdout",
     "output_type": "stream",
     "text": [
      "3\n"
     ]
    },
    {
     "data": {
      "text/plain": [
       "PythonRDD[5] at RDD at PythonRDD.scala:53"
      ]
     },
     "execution_count": 7,
     "metadata": {},
     "output_type": "execute_result"
    }
   ],
   "source": [
    "dat = file.mapPartitions(part_to_mat).filter(lambda x: x.shape[0] > 0)\n",
    "print(dat.count())\n",
    "dat.cache()"
   ]
  },
  {
   "cell_type": "code",
   "execution_count": 8,
   "id": "eb2cd1b8",
   "metadata": {
    "scrolled": true
   },
   "outputs": [
    {
     "data": {
      "text/plain": [
       "array([[ 0.      , -1.085631,  0.997345, ..., -1.363472,  0.379401, -0.379176],\n",
       "       [ 1.      ,  0.642055, -1.977888, ..., -0.110851, -0.341262, -0.217946],\n",
       "       [ 0.      ,  0.70331 , -0.598105, ...,  0.415695,  0.160544,  0.819761],\n",
       "       ...,\n",
       "       [ 0.      ,  0.348678, -2.078281, ..., -1.108426, -1.385233, -0.173929],\n",
       "       [ 0.      , -1.716787,  0.370369, ..., -0.125681, -0.398374, -0.987013],\n",
       "       [ 0.      ,  0.86831 , -0.9381  , ...,  0.023153, -0.897204,  0.535759]])"
      ]
     },
     "execution_count": 8,
     "metadata": {},
     "output_type": "execute_result"
    }
   ],
   "source": [
    "dat.first()"
   ]
  },
  {
   "cell_type": "markdown",
   "id": "d05681c4",
   "metadata": {},
   "source": [
    "注意此时每个分区上的数据同时包含了因变量 $y$ 和自变量 $X$。给定当前估计 $\\beta^{old}$，计算每个分区上的统计量 $X'WX$ 和 $X'Wz$："
   ]
  },
  {
   "cell_type": "code",
   "execution_count": 9,
   "id": "c5bee37a",
   "metadata": {
    "scrolled": false
   },
   "outputs": [],
   "source": [
    "def compute_stats(part_mat, beta_old):\n",
    "    # 提取 X 和 y 此处假定无截距项\n",
    "    y = part_mat[:, 0]\n",
    "    x = part_mat[:, 1:]\n",
    "    # X * beta\n",
    "    xb = x.dot(beta_old)\n",
    "    # rho(X * beta)\n",
    "    prob = expit(xb)\n",
    "    # W 的对角线元素\n",
    "    w = prob * (1.0 - prob) + 1e-6\n",
    "    #防止除0\n",
    "    # X'W，数组广播操作，避免生成完整的 W\n",
    "    xtw = x.transpose() * w\n",
    "    # X'WX\n",
    "    xtwx = xtw.dot(x)\n",
    "    # X'Wz\n",
    "    z = xb + (y - prob) / w\n",
    "    #对角矩阵求逆，直接除对角元素向量\n",
    "    xtwz = xtw.dot(z)\n",
    "    # 目标函数：sum(y * log(prob) + (1 - y) * log(1 - prob))\n",
    "    objfn = -np.sum(y * np.log(prob + 1e-8) + (1.0 - y) * np.log(1.0 - prob + 1e-8))\n",
    "    return xtwx, xtwz, objfn"
   ]
  },
  {
   "cell_type": "markdown",
   "id": "fc090087",
   "metadata": {},
   "source": [
    "主循环："
   ]
  },
  {
   "cell_type": "code",
   "execution_count": 10,
   "id": "55a52b11",
   "metadata": {},
   "outputs": [
    {
     "name": "stdout",
     "output_type": "stream",
     "text": [
      "Iteration 0, objfn = 69314.71605599453, resid = 1.5704037438983012\n",
      "Iteration 1, objfn = 32637.520394548366, resid = 1.3912432651305584\n",
      "Iteration 2, objfn = 21628.543193119614, resid = 1.7393341248434806\n",
      "Iteration 3, objfn = 16007.123573787423, resid = 2.0827596366952856\n",
      "Iteration 4, objfn = 13331.196934357778, resid = 2.0636707533919307\n",
      "Iteration 5, objfn = 12380.364067131337, resid = 1.3200627482589726\n",
      "Iteration 6, objfn = 12209.479535070568, resid = 0.351657288363293\n",
      "Iteration 7, objfn = 12201.99376346888, resid = 0.018832519429049482\n",
      "Iteration 8, objfn = 12201.974858771518, resid = 6.669254091605529e-05\n",
      "Iteration 9, objfn = 12201.97485851805, resid = 6.386267074542796e-08\n",
      "\n",
      "finished in 22.457468271255493 seconds\n"
     ]
    }
   ],
   "source": [
    "import time\n",
    "\n",
    "# 根据数据动态获取维度，不要使用之前模拟时的变量\n",
    "p = dat.first().shape[1] - 1\n",
    "# beta 初始化为 0 向量\n",
    "beta_hat = np.zeros(p)\n",
    "# 记录目标函数值\n",
    "objvals = []\n",
    "\n",
    "# 最大迭代次数\n",
    "maxit = 30\n",
    "# 收敛条件\n",
    "eps = 1e-6\n",
    "\n",
    "t1 = time.time()\n",
    "for i in range(maxit):\n",
    "    # 完整数据的 X'WX 和 X'Wz 是各分区的加和\n",
    "    xtwx, xtwz, objfn = dat.map(lambda part: compute_stats(part, beta_hat)).\\\n",
    "        reduce(lambda x, y: (x[0] + y[0], x[1] + y[1], x[2] + y[2]))\n",
    "    # 计算新 beta\n",
    "    beta_new = np.linalg.solve(xtwx, xtwz)\n",
    "    # 计算 beta 的变化\n",
    "    resid = np.linalg.norm(beta_new - beta_hat)\n",
    "    print(f\"Iteration {i}, objfn = {objfn}, resid = {resid}\")\n",
    "    objvals.append(objfn)\n",
    "    #debug用\n",
    "    # 如果 beta 几乎不再变化，退出循环\n",
    "    if resid < eps:\n",
    "        break\n",
    "    # 更新 beta\n",
    "    beta_hat = beta_new\n",
    "t2 = time.time()\n",
    "print(f\"\\nfinished in {t2 - t1} seconds\")"
   ]
  },
  {
   "cell_type": "markdown",
   "id": "29f2463c",
   "metadata": {},
   "source": [
    "绘制目标函数变化曲线："
   ]
  },
  {
   "cell_type": "code",
   "execution_count": 11,
   "id": "f2fa877f",
   "metadata": {},
   "outputs": [
    {
     "data": {
      "text/plain": [
       "[<matplotlib.lines.Line2D at 0x287ad229c90>]"
      ]
     },
     "execution_count": 11,
     "metadata": {},
     "output_type": "execute_result"
    },
    {
     "data": {
      "image/png": "[encoded data removed]",
      "text/plain": [
       "<Figure size 640x480 with 1 Axes>"
      ]
     },
     "metadata": {},
     "output_type": "display_data"
    }
   ],
   "source": [
    "import matplotlib.pyplot as plt\n",
    "plt.plot(objvals)"
   ]
  },
  {
   "cell_type": "markdown",
   "id": "e5a28ade",
   "metadata": {},
   "source": [
    "### 3. 梯度下降法迭代"
   ]
  },
  {
   "cell_type": "markdown",
   "id": "ec2c982a",
   "metadata": {},
   "source": [
    "迭代公式为 $\\beta^{new}=\\beta^{old}-\\alpha\\cdot n^{-1}X'(prob-y)$，其中 $prob$ 是 $\\rho(X\\beta^{old})$ 组成的向量。         \n",
    "梯度下降的alpha需要手动调整 调试步长          \n",
    "收敛速度会越来越慢 收敛慢 迭代次数多（通信时间增加）                  \n",
    "计算简单，存储占用少，每次迭代复杂度O(np)（单次迭代计算时间较短）           "
   ]
  },
  {
   "cell_type": "code",
   "execution_count": 12,
   "id": "75993d43",
   "metadata": {},
   "outputs": [],
   "source": [
    "def compute_obj_grad(part_mat, beta_old):\n",
    "    # 提取 X 和 y\n",
    "    y = part_mat[:, 0]\n",
    "    x = part_mat[:, 1:]\n",
    "    # X * beta\n",
    "    xb = x.dot(beta_old)\n",
    "    # rho(X * beta)\n",
    "    prob = expit(xb)\n",
    "    # 目标函数：sum(y * log(prob) + (1 - y) * log(1 - prob))\n",
    "    obj = -np.sum(y * np.log(prob + 1e-8) + (1.0 - y) * np.log(1.0 - prob + 1e-8))\n",
    "    #\n",
    "    # 梯度：X'(prob - y)\n",
    "    grad = x.transpose().dot(prob - y)\n",
    "    # 该分块的样本量\n",
    "    ni = x.shape[0]\n",
    "    return ni, obj, grad"
   ]
  },
  {
   "cell_type": "markdown",
   "id": "91de3cb2",
   "metadata": {},
   "source": [
    "主循环："
   ]
  },
  {
   "cell_type": "code",
   "execution_count": 14,
   "id": "2316ce32",
   "metadata": {
    "scrolled": true
   },
   "outputs": [
    {
     "name": "stdout",
     "output_type": "stream",
     "text": [
      "Iteration 0, objfn = 0.6931471605599453, grad_norm = 0.3936737955731282, beta_norm = 0.0\n",
      "Iteration 1, objfn = 0.17950616436038194, grad_norm = 0.031619931547791455, beta_norm = 3.936737955731282\n",
      "Iteration 2, objfn = 0.17074710246832617, grad_norm = 0.02538352751961535, beta_norm = 4.229491074256976\n",
      "Iteration 3, objfn = 0.164693819270344, grad_norm = 0.02239284119114397, beta_norm = 4.483061356681379\n",
      "Iteration 4, objfn = 0.1599419180500985, grad_norm = 0.020095697896829856, beta_norm = 4.7069573090021795\n",
      "Iteration 5, objfn = 0.1560914605394923, grad_norm = 0.01825820575354591, beta_norm = 4.907896894608809\n",
      "Iteration 6, objfn = 0.152897837488854, grad_norm = 0.016748376887099, beta_norm = 5.090465232475997\n",
      "Iteration 7, objfn = 0.1502003244937587, grad_norm = 0.015481630776221283, beta_norm = 5.257937245323649\n",
      "Iteration 8, objfn = 0.14788823548439792, grad_norm = 0.014400867947102375, beta_norm = 5.412743195401856\n",
      "Iteration 9, objfn = 0.1458824771707256, grad_norm = 0.013465993183607725, beta_norm = 5.556742613138677\n",
      "Iteration 10, objfn = 0.14412480971842243, grad_norm = 0.012647938122615894, beta_norm = 5.691394177422894\n",
      "Iteration 11, objfn = 0.14257126682057134, grad_norm = 0.011925062170741834, beta_norm = 5.817865937443336\n",
      "Iteration 12, objfn = 0.1411879521826045, grad_norm = 0.011280889333472271, beta_norm = 5.937109570948278\n",
      "Iteration 13, objfn = 0.13994825854141418, grad_norm = 0.010702632504312599, beta_norm = 6.049912019790597\n",
      "Iteration 14, objfn = 0.13883097223518998, grad_norm = 0.010180201043249671, beta_norm = 6.156932372321494\n",
      "Iteration 15, objfn = 0.13781894778048367, grad_norm = 0.009705515359357653, beta_norm = 6.25872882369962\n",
      "Iteration 16, objfn = 0.13689816010194886, grad_norm = 0.009272022409833214, beta_norm = 6.355778783321509\n",
      "Iteration 17, objfn = 0.13605701336545797, grad_norm = 0.00887434615447452, beta_norm = 6.448494138086995\n",
      "Iteration 18, objfn = 0.135285828086233, grad_norm = 0.008508030764485124, beta_norm = 6.5372330207845835\n",
      "Iteration 19, objfn = 0.13457645456484743, grad_norm = 0.008169348894986736, beta_norm = 6.622309010968415\n",
      "Iteration 20, objfn = 0.13392197743700873, grad_norm = 0.00785515643838058, beta_norm = 6.703998418850023\n",
      "Iteration 21, objfn = 0.1333164869928753, grad_norm = 0.007562781033686113, beta_norm = 6.782546116935563\n",
      "Iteration 22, objfn = 0.13275490013571214, grad_norm = 0.007289935458333014, beta_norm = 6.858170256913878\n",
      "Iteration 23, objfn = 0.13223281873103665, grad_norm = 0.007034649611633403, beta_norm = 6.931066120581164\n",
      "Iteration 24, objfn = 0.13174641645887447, grad_norm = 0.006795216562626027, beta_norm = 7.0014092906910035\n",
      "Iteration 25, objfn = 0.13129234763395733, grad_norm = 0.006570149358979505, beta_norm = 7.069358282352835\n",
      "Iteration 26, objfn = 0.1308676731290005, grad_norm = 0.006358146156071962, beta_norm = 7.135056742574125\n",
      "Iteration 27, objfn = 0.13046979973838996, grad_norm = 0.0061580618414972775, beta_norm = 7.198635301136423\n",
      "Iteration 28, objfn = 0.13009643019572037, grad_norm = 0.005968884776077152, beta_norm = 7.260213137750762\n",
      "Iteration 29, objfn = 0.12974552170449705, grad_norm = 0.005789717598891613, beta_norm = 7.31989931665069\n",
      "Iteration 30, objfn = 0.1294152513225752, grad_norm = 0.0056197612854906875, beta_norm = 7.377793929257837\n",
      "Iteration 31, objfn = 0.12910398690310299, grad_norm = 0.005458301829174562, beta_norm = 7.43398907744772\n",
      "Iteration 32, objfn = 0.12881026256986186, grad_norm = 0.00530469905168498, beta_norm = 7.488569723643183\n",
      "Iteration 33, objfn = 0.12853275791571545, grad_norm = 0.0051583771536045705, beta_norm = 7.541614429027028\n",
      "Iteration 34, objfn = 0.12827028027573967, grad_norm = 0.005018816694620285, beta_norm = 7.593195997268795\n",
      "Iteration 35, objfn = 0.1280217495533896, grad_norm = 0.004885547755641302, beta_norm = 7.643382038062671\n",
      "Iteration 36, objfn = 0.12778618517746762, grad_norm = 0.004758144082995183, beta_norm = 7.692235462293708\n",
      "Iteration 37, objfn = 0.12756269484613764, grad_norm = 0.00463621805281388, beta_norm = 7.73981491865201\n",
      "Iteration 38, objfn = 0.12735046477658493, grad_norm = 0.004519416323679728, beta_norm = 7.786175179895873\n",
      "Iteration 39, objfn = 0.12714875122876557, grad_norm = 0.004407416069438546, beta_norm = 7.831367485645721\n",
      "Iteration 40, objfn = 0.1269568731117669, grad_norm = 0.004299921703166018, beta_norm = 7.87543984750987\n",
      "Iteration 41, objfn = 0.12677420551369728, grad_norm = 0.004196662018630233, beta_norm = 7.918437321453148\n",
      "Iteration 42, objfn = 0.12660017402235008, grad_norm = 0.004097387688020212, beta_norm = 7.960402251582864\n",
      "Iteration 43, objfn = 0.12643424972538803, grad_norm = 0.004001869064817463, beta_norm = 8.001374488914445\n",
      "Iteration 44, objfn = 0.12627594479643414, grad_norm = 0.003909894248948146, beta_norm = 8.041391588167828\n",
      "Iteration 45, objfn = 0.12612480858799444, grad_norm = 0.003821267378135863, beta_norm = 8.080488985217173\n",
      "Iteration 46, objfn = 0.12598042416417365, grad_norm = 0.0037358071149685822, beta_norm = 8.11870015745565\n",
      "Iteration 47, objfn = 0.12584240521614753, grad_norm = 0.0036533453038256015, beta_norm = 8.15605676903229\n",
      "Iteration 48, objfn = 0.1257103933117009, grad_norm = 0.003573725775662527, beta_norm = 8.192588802659262\n",
      "Iteration 49, objfn = 0.1255840554371324, grad_norm = 0.003496803281867679, beta_norm = 8.228324679468106\n",
      "Iteration 50, objfn = 0.12546308179570206, grad_norm = 0.0034224425410974537, beta_norm = 8.263291368205424\n",
      "Iteration 51, objfn = 0.12534718383175386, grad_norm = 0.003350517385263492, beta_norm = 8.297514484897775\n",
      "Iteration 52, objfn = 0.12523609245384146, grad_norm = 0.0032809099927557377, beta_norm = 8.331018383977161\n",
      "Iteration 53, objfn = 0.1251295564337437, grad_norm = 0.0032135101986033457, beta_norm = 8.363826241739408\n",
      "Iteration 54, objfn = 0.12502734096129228, grad_norm = 0.003148214872649254, beta_norm = 8.395960132904719\n",
      "Iteration 55, objfn = 0.12492922633752081, grad_norm = 0.003084927357984348, beta_norm = 8.427441100960513\n",
      "Iteration 56, objfn = 0.12483500679086647, grad_norm = 0.0030235569628867987, beta_norm = 8.458289222889059\n",
      "Iteration 57, objfn = 0.12474448940305792, grad_norm = 0.0029640185003684664, beta_norm = 8.488523668814915\n",
      "Iteration 58, objfn = 0.12465749313296645, grad_norm = 0.0029062318701658396, beta_norm = 8.518162757048227\n",
      "Iteration 59, objfn = 0.12457384792811321, grad_norm = 0.0028501216786465055, beta_norm = 8.54722400494824\n",
      "Iteration 60, objfn = 0.12449339391475166, grad_norm = 0.0027956168926492014, beta_norm = 8.575724175986219\n",
      "Iteration 61, objfn = 0.12441598065850838, grad_norm = 0.002742650523748917, beta_norm = 8.603679323347011\n",
      "Iteration 62, objfn = 0.12434146648849106, grad_norm = 0.0026911593398493854, beta_norm = 8.631104830373525\n",
      "Iteration 63, objfn = 0.1242697178785775, grad_norm = 0.0026410836013625086, beta_norm = 8.658015448127356\n",
      "Iteration 64, objfn = 0.12420060888030499, grad_norm = 0.002592366819545631, beta_norm = 8.68442533031142\n",
      "Iteration 65, objfn = 0.12413402060239499, grad_norm = 0.0025449555348395253, beta_norm = 8.710348065776119\n",
      "Iteration 66, objfn = 0.12406984073248886, grad_norm = 0.00249879911328799, beta_norm = 8.735796708809092\n",
      "Iteration 67, objfn = 0.12400796309714504, grad_norm = 0.0024538495593286864, beta_norm = 8.760783807389295\n",
      "Iteration 68, objfn = 0.12394828725656666, grad_norm = 0.0024100613434283173, beta_norm = 8.785321429569125\n",
      "Iteration 69, objfn = 0.12389071813089733, grad_norm = 0.0023673912431967483, beta_norm = 8.809421188133046\n",
      "Iteration 70, objfn = 0.12383516565524808, grad_norm = 0.0023257981967571106, beta_norm = 8.83309426366746\n",
      "Iteration 71, objfn = 0.12378154446090804, grad_norm = 0.00228524316727483, beta_norm = 8.856351426164386\n",
      "Iteration 72, objfn = 0.1237297735804463, grad_norm = 0.0022456890176599633, beta_norm = 8.87920305527054\n",
      "Iteration 73, objfn = 0.12367977617463997, grad_norm = 0.002207100394555977, beta_norm = 8.90165915928352\n",
      "Iteration 74, objfn = 0.12363147927936521, grad_norm = 0.002169443620815912, beta_norm = 8.923729392987962\n",
      "Iteration 75, objfn = 0.12358481357076832, grad_norm = 0.0021326865957449, beta_norm = 8.945423074416546\n",
      "Iteration 76, objfn = 0.12353971314719503, grad_norm = 0.002096798702457542, beta_norm = 8.966749200613489\n",
      "Iteration 77, objfn = 0.12349611532649792, grad_norm = 0.0020617507217607694, beta_norm = 8.987716462471678\n"
     ]
    },
    {
     "name": "stdout",
     "output_type": "stream",
     "text": [
      "Iteration 78, objfn = 0.12345396045747285, grad_norm = 0.0020275147520281817, beta_norm = 9.008333258708701\n",
      "Iteration 79, objfn = 0.12341319174428828, grad_norm = 0.001994064134581572, beta_norm = 9.028607709041667\n",
      "Iteration 80, objfn = 0.12337375508287568, grad_norm = 0.0019613733841397636, beta_norm = 9.048547666615898\n",
      "Iteration 81, objfn = 0.12333559890834206, grad_norm = 0.001929418123934859, beta_norm = 9.06816072973816\n",
      "Iteration 82, objfn = 0.1232986740525482, grad_norm = 0.0018981750251317938, beta_norm = 9.087454252961104\n",
      "Iteration 83, objfn = 0.12326293361107299, grad_norm = 0.0018676217502194524, beta_norm = 9.106435357561931\n",
      "Iteration 84, objfn = 0.12322833281885032, grad_norm = 0.0018377369000706072, beta_norm = 9.12511094145502\n",
      "Iteration 85, objfn = 0.12319482893382788, grad_norm = 0.001808499964394198, beta_norm = 9.143487688575183\n",
      "Iteration 86, objfn = 0.12316238112805124, grad_norm = 0.0017798912753271949, beta_norm = 9.161572077765491\n",
      "Iteration 87, objfn = 0.12313095038562766, grad_norm = 0.001751891963934615, beta_norm = 9.17937039120103\n",
      "Iteration 88, objfn = 0.12310049940706919, grad_norm = 0.0017244839194057763, beta_norm = 9.196888722377691\n",
      "Iteration 89, objfn = 0.12307099251955554, grad_norm = 0.0016976497507523252, beta_norm = 9.214132983692968\n",
      "Iteration 90, objfn = 0.12304239559269532, grad_norm = 0.0016713727508296243, beta_norm = 9.231108913643741\n",
      "Iteration 91, objfn = 0.12301467595939744, grad_norm = 0.0016456368625174804, beta_norm = 9.247822083664296\n",
      "Iteration 92, objfn = 0.12298780234149607, grad_norm = 0.001620426646909421, beta_norm = 9.264277904626196\n",
      "Iteration 93, objfn = 0.12296174477980065, grad_norm = 0.0015957272533716964, beta_norm = 9.280481633020042\n",
      "Iteration 94, objfn = 0.12293647456826749, grad_norm = 0.0015715243913440831, beta_norm = 9.296438376837855\n",
      "Iteration 95, objfn = 0.12291196419201439, grad_norm = 0.0015478043037645472, beta_norm = 9.312153101173484\n",
      "Iteration 96, objfn = 0.12288818726891935, grad_norm = 0.0015245537420089158, beta_norm = 9.327630633557272\n",
      "Iteration 97, objfn = 0.12286511849456566, grad_norm = 0.0015017599422449811, beta_norm = 9.342875669040147\n",
      "Iteration 98, objfn = 0.1228427335903126, grad_norm = 0.0014794106031081234, beta_norm = 9.357892775041249\n",
      "Iteration 99, objfn = 0.12282100925428764, grad_norm = 0.0014574938646123997, beta_norm = 9.372686395972353\n",
      "\n",
      "finished in 199.96771335601807 seconds\n"
     ]
    }
   ],
   "source": [
    "import time\n",
    "\n",
    "# 根据数据动态获取维度，不要使用之前模拟时的变量\n",
    "p = dat.first().shape[1] - 1\n",
    "# beta 初始化为 0 向量\n",
    "beta_hat2 = np.zeros(p)\n",
    "# 记录目标函数值\n",
    "objvals = []\n",
    "\n",
    "# 最大迭代次数\n",
    "maxit = 100\n",
    "# 步长\n",
    "step_size = 10.0\n",
    "# 收敛条件\n",
    "eps = 1e-5\n",
    "\n",
    "t1 = time.time()\n",
    "for i in range(maxit):\n",
    "    # 完整数据的样本量和梯度是各分区的加和\n",
    "    n, objfn, grad = dat.map(lambda part: compute_obj_grad(part, beta_hat2)).\\\n",
    "        reduce(lambda x, y: (x[0] + y[0], x[1] + y[1], x[2] + y[2]))\n",
    "    objfn /= n\n",
    "    grad /= n\n",
    "    # 计算新 beta\n",
    "    beta_new = beta_hat2 - step_size * grad\n",
    "    # 计算梯度的变化\n",
    "    grad_norm = np.linalg.norm(grad)\n",
    "    beta_norm = np.linalg.norm(beta_hat2)\n",
    "    print(f\"Iteration {i}, objfn = {objfn}, grad_norm = {grad_norm}, beta_norm = {beta_norm}\")\n",
    "    objvals.append(objfn)\n",
    "    # 如果梯度值较小，退出循环\n",
    "    if grad_norm < eps or grad_norm < eps * beta_norm:\n",
    "        break\n",
    "    #绝对梯度和相对梯度\n",
    "    # 更新 beta\n",
    "    beta_hat2 = beta_new\n",
    "t2 = time.time()\n",
    "print(f\"\\nfinished in {t2 - t1} seconds\")"
   ]
  },
  {
   "cell_type": "markdown",
   "id": "843aa143",
   "metadata": {},
   "source": [
    "绘制目标函数变化曲线："
   ]
  },
  {
   "cell_type": "code",
   "execution_count": 15,
   "id": "eca3d382",
   "metadata": {},
   "outputs": [
    {
     "data": {
      "text/plain": [
       "[<matplotlib.lines.Line2D at 0x287ad49bb20>]"
      ]
     },
     "execution_count": 15,
     "metadata": {},
     "output_type": "execute_result"
    },
    {
     "data": {
      "image/png": "[encoded data removed]",
      "text/plain": [
       "<Figure size 640x480 with 1 Axes>"
      ]
     },
     "metadata": {},
     "output_type": "display_data"
    }
   ],
   "source": [
    "import matplotlib.pyplot as plt\n",
    "plt.plot(objvals)"
   ]
  },
  {
   "cell_type": "code",
   "execution_count": 16,
   "id": "cc31df34",
   "metadata": {},
   "outputs": [
    {
     "data": {
      "text/plain": [
       "[<matplotlib.lines.Line2D at 0x287ad2da0e0>]"
      ]
     },
     "execution_count": 16,
     "metadata": {},
     "output_type": "execute_result"
    },
    {
     "data": {
      "image/png": "[encoded data removed]",
      "text/plain": [
       "<Figure size 640x480 with 1 Axes>"
      ]
     },
     "metadata": {},
     "output_type": "display_data"
    }
   ],
   "source": [
    "plt.plot(objvals[10:])"
   ]
  },
  {
   "cell_type": "code",
   "execution_count": null,
   "id": "c9a4bf75",
   "metadata": {},
   "outputs": [],
   "source": [
    "beta_hat[:10]"
   ]
  },
  {
   "cell_type": "code",
   "execution_count": null,
   "id": "cd2f4ec3",
   "metadata": {},
   "outputs": [],
   "source": [
    "beta_hat2[:10]"
   ]
  },
  {
   "cell_type": "markdown",
   "id": "68d375e8",
   "metadata": {},
   "source": [
    "关闭 Spark 连接："
   ]
  },
  {
   "cell_type": "code",
   "execution_count": null,
   "id": "c6e9f36e",
   "metadata": {},
   "outputs": [],
   "source": [
    "sc.stop()"
   ]
  },
  {
   "cell_type": "markdown",
   "id": "c24a4739",
   "metadata": {},
   "source": []
  }
 ],
 "metadata": {
  "kernelspec": {
   "display_name": "Python 3 (ipykernel)",
   "language": "python",
   "name": "python3"
  },
  "language_info": {
   "codemirror_mode": {
    "name": "ipython",
    "version": 3
   },
   "file_extension": ".py",
   "mimetype": "text/x-python",
   "name": "python",
   "nbconvert_exporter": "python",
   "pygments_lexer": "ipython3",
   "version": "3.9.13"
  }
 },
 "nbformat": 4,
 "nbformat_minor": 5
}
