{
 "cells": [
  {
   "cell_type": "markdown",
   "metadata": {},
   "source": [
    "## OOP\n",
    "### Q1"
   ]
  },
  {
   "cell_type": "code",
   "execution_count": 2,
   "metadata": {},
   "outputs": [],
   "source": [
    "class Student:\n",
    "\n",
    "    extension_days = 3 # this is a class variable\n",
    "\n",
    "    def __init__(self, name, staff):\n",
    "        self.name = name # this is an instance variable\n",
    "        self.understanding = 0\n",
    "        staff.add_student(self)\n",
    "        print(\"Added\", self.name)\n",
    "\n",
    "    def visit_office_hours(self, staff):\n",
    "        staff.assist(self)\n",
    "        print(\"Thanks, \" + staff.name)\n",
    "\n",
    "class Professor:\n",
    "\n",
    "    def __init__(self, name):\n",
    "        self.name = name\n",
    "        self.students = {}\n",
    "\n",
    "    def add_student(self, student):\n",
    "        self.students[student.name] = student\n",
    "\n",
    "    def assist(self, student):\n",
    "        student.understanding += 1\n",
    "\n",
    "    def grant_more_extension_days(self, student, days):\n",
    "        student.extension_days = days"
   ]
  },
  {
   "cell_type": "code",
   "execution_count": 4,
   "metadata": {},
   "outputs": [
    {
     "name": "stdout",
     "output_type": "stream",
     "text": [
      "Added Elle\n"
     ]
    }
   ],
   "source": [
    "callahan = Professor(\"Callahan\")\n",
    "elle = Student(\"Elle\", callahan)"
   ]
  },
  {
   "cell_type": "code",
   "execution_count": 5,
   "metadata": {},
   "outputs": [
    {
     "name": "stdout",
     "output_type": "stream",
     "text": [
      "Thanks, Callahan\n"
     ]
    }
   ],
   "source": [
    "elle.visit_office_hours(callahan)"
   ]
  },
  {
   "cell_type": "code",
   "execution_count": 6,
   "metadata": {},
   "outputs": [
    {
     "name": "stdout",
     "output_type": "stream",
     "text": [
      "Thanks, Paulette\n"
     ]
    }
   ],
   "source": [
    "elle.visit_office_hours(Professor(\"Paulette\"))"
   ]
  },
  {
   "cell_type": "code",
   "execution_count": 7,
   "metadata": {},
   "outputs": [
    {
     "data": {
      "text/plain": [
       "2"
      ]
     },
     "execution_count": 7,
     "metadata": {},
     "output_type": "execute_result"
    }
   ],
   "source": [
    "elle.understanding"
   ]
  },
  {
   "cell_type": "code",
   "execution_count": 8,
   "metadata": {},
   "outputs": [
    {
     "data": {
      "text/plain": [
       "['Elle']"
      ]
     },
     "execution_count": 8,
     "metadata": {},
     "output_type": "execute_result"
    }
   ],
   "source": [
    "[name for name in callahan.students]\n"
   ]
  },
  {
   "cell_type": "code",
   "execution_count": 9,
   "metadata": {},
   "outputs": [
    {
     "name": "stdout",
     "output_type": "stream",
     "text": [
      "Added Vivian\n"
     ]
    }
   ],
   "source": [
    "x = Student(\"Vivian\", Professor(\"Stromwell\")).name"
   ]
  },
  {
   "cell_type": "code",
   "execution_count": 10,
   "metadata": {},
   "outputs": [
    {
     "data": {
      "text/plain": [
       "'Vivian'"
      ]
     },
     "execution_count": 10,
     "metadata": {},
     "output_type": "execute_result"
    }
   ],
   "source": [
    "x"
   ]
  },
  {
   "cell_type": "code",
   "execution_count": 11,
   "metadata": {},
   "outputs": [
    {
     "data": {
      "text/plain": [
       "['Elle']"
      ]
     },
     "execution_count": 11,
     "metadata": {},
     "output_type": "execute_result"
    }
   ],
   "source": [
    "[name for name in callahan.students]"
   ]
  },
  {
   "cell_type": "code",
   "execution_count": 12,
   "metadata": {},
   "outputs": [
    {
     "data": {
      "text/plain": [
       "3"
      ]
     },
     "execution_count": 12,
     "metadata": {},
     "output_type": "execute_result"
    }
   ],
   "source": [
    "elle.extension_days"
   ]
  },
  {
   "cell_type": "code",
   "execution_count": 13,
   "metadata": {},
   "outputs": [
    {
     "data": {
      "text/plain": [
       "7"
      ]
     },
     "execution_count": 13,
     "metadata": {},
     "output_type": "execute_result"
    }
   ],
   "source": [
    "callahan.grant_more_extension_days(elle, 7)\n",
    "elle.extension_days"
   ]
  },
  {
   "cell_type": "code",
   "execution_count": 14,
   "metadata": {},
   "outputs": [
    {
     "data": {
      "text/plain": [
       "3"
      ]
     },
     "execution_count": 14,
     "metadata": {},
     "output_type": "execute_result"
    }
   ],
   "source": [
    "Student.extension_days"
   ]
  },
  {
   "cell_type": "markdown",
   "metadata": {},
   "source": [
    "### Q2"
   ]
  },
  {
   "cell_type": "code",
   "execution_count": 19,
   "metadata": {},
   "outputs": [],
   "source": [
    "import doctest"
   ]
  },
  {
   "cell_type": "code",
   "execution_count": 39,
   "metadata": {},
   "outputs": [],
   "source": [
    "class Email:\n",
    "    \"\"\"Every email object has 3 instance attributes: the\n",
    "    message, the sender name, and the recipient name.\n",
    "    >>> email = Email('hello', 'Alice', 'Bob')\n",
    "    >>> email.msg\n",
    "    'hello'\n",
    "    >>> email.sender_name\n",
    "    'Alice'\n",
    "    >>> email.recipient_name\n",
    "    'Bob'\n",
    "    \"\"\"\n",
    "    def __init__(self, msg, sender_name, recipient_name):\n",
    "        self.msg = msg\n",
    "        self.sender_name = sender_name\n",
    "        self.recipient_name = recipient_name"
   ]
  },
  {
   "cell_type": "code",
   "execution_count": 45,
   "metadata": {},
   "outputs": [],
   "source": [
    "class Server:\n",
    "    \"\"\"Each Server has an instance attribute clients, which\n",
    "    is a dictionary that associates client names with\n",
    "    client objects.\n",
    "    \"\"\"\n",
    "    def __init__(self):\n",
    "        self.clients = {}\n",
    "\n",
    "    def send(self, email):\n",
    "        \"\"\"Take an email and put it in the inbox of the client\n",
    "        it is addressed to.\n",
    "        \"\"\"\n",
    "        client = self.clients[email.recipient_name]\n",
    "        client.receive(email)\n",
    "\n",
    "    def register_client(self, client, client_name):\n",
    "        \"\"\"Takes a client object and client_name and adds them\n",
    "        to the clients instance attribute.\n",
    "        \"\"\"\n",
    "        self.clients[client_name] = client\n",
    "        "
   ]
  },
  {
   "cell_type": "code",
   "execution_count": 50,
   "metadata": {},
   "outputs": [
    {
     "data": {
      "text/plain": [
       "TestResults(failed=0, attempted=12)"
      ]
     },
     "execution_count": 50,
     "metadata": {},
     "output_type": "execute_result"
    }
   ],
   "source": [
    "class Client:\n",
    "    \"\"\"Every Client has instance attributes name (which is\n",
    "    used for addressing emails to the client), server\n",
    "    (which is used to send emails out to other clients), and\n",
    "    inbox (a list of all emails the client has received).\n",
    "\n",
    "    >>> s = Server()\n",
    "    >>> a = Client(s, 'Alice')\n",
    "    >>> b = Client(s, 'Bob')\n",
    "    >>> a.compose('Hello, World!', 'Bob')\n",
    "    >>> b.inbox[0].msg\n",
    "    'Hello, World!'\n",
    "    >>> a.compose('CS 61A Rocks!', 'Bob')\n",
    "    >>> len(b.inbox)\n",
    "    2\n",
    "    >>> b.inbox[1].msg\n",
    "    'CS 61A Rocks!'\n",
    "    \"\"\"\n",
    "    def __init__(self, server, name):\n",
    "        self.inbox = []\n",
    "        self.server = server\n",
    "        self.name = name\n",
    "        Server.register_client(server, self, name)\n",
    "\n",
    "    def compose(self, msg, recipient_name):\n",
    "        \"\"\"Send an email with the given message msg to the\n",
    "        given recipient client.\n",
    "        \"\"\"\n",
    "        email = Email(msg, self.name, recipient_name)\n",
    "        self.server.send(email)\n",
    "\n",
    "    def receive(self, email):\n",
    "        \"\"\"Take an email and add it to the inbox of this\n",
    "        client.\n",
    "        \"\"\"\n",
    "        self.inbox.append(email)\n",
    "doctest.testmod()\n"
   ]
  },
  {
   "cell_type": "markdown",
   "metadata": {},
   "source": [
    "- 理清对象结构\n",
    "- Do not repeat yourself"
   ]
  },
  {
   "cell_type": "markdown",
   "metadata": {},
   "source": [
    "### Q3"
   ]
  },
  {
   "cell_type": "code",
   "execution_count": 52,
   "metadata": {},
   "outputs": [
    {
     "data": {
      "text/plain": [
       "TestResults(failed=0, attempted=13)"
      ]
     },
     "execution_count": 52,
     "metadata": {},
     "output_type": "execute_result"
    }
   ],
   "source": [
    "class Pet:\n",
    "\n",
    "    def __init__(self, name, owner):\n",
    "        self.is_alive = True    # It's alive!!!\n",
    "        self.name = name\n",
    "        self.owner = owner\n",
    "\n",
    "    def eat(self, thing):\n",
    "        print(self.name + \" ate a \" + str(thing) + \"!\")\n",
    "\n",
    "    def talk(self):\n",
    "        print(self.name)\n",
    "\n",
    "class Dog(Pet):\n",
    "\n",
    "    def talk(self):\n",
    "        super().talk()\n",
    "        print('This Dog says woof!')\n",
    "\n",
    "class Cat(Pet):\n",
    "\n",
    "    def __init__(self, name, owner, lives=9):\n",
    "        self.name = name\n",
    "        self.owner = owner\n",
    "        self.lives = lives\n",
    "        self.is_alive = True\n",
    "\n",
    "    def talk(self):\n",
    "        \"\"\"Print out a cat's greeting.\n",
    "\n",
    "        >>> Cat('Thomas', 'Tammy').talk()\n",
    "        Thomas says meow!\n",
    "        \"\"\"\n",
    "        print(\"{0} says meow!\".format(self.name))\n",
    "\n",
    "    def lose_life(self):\n",
    "        \"\"\"Decrements a cat's life by 1. When lives reaches zero,\n",
    "        is_alive becomes False. If this is called after lives has\n",
    "        reached zero, print 'This cat has no more lives to lose.'\n",
    "        \"\"\"\n",
    "        if self.lives == 0:\n",
    "            print('This cat has no more lives to lose.')\n",
    "        else:\n",
    "            self.lives -= 1\n",
    "            if self.lives == 0:\n",
    "                self.is_alive = False\n",
    "doctest.testmod()\n"
   ]
  },
  {
   "cell_type": "code",
   "execution_count": 54,
   "metadata": {},
   "outputs": [
    {
     "data": {
      "text/plain": [
       "TestResults(failed=0, attempted=15)"
      ]
     },
     "execution_count": 54,
     "metadata": {},
     "output_type": "execute_result"
    }
   ],
   "source": [
    "class NoisyCat(Cat):\n",
    "    def talk(self):\n",
    "        \"\"\"Talks twice as much as a regular cat.\n",
    "        >>> NoisyCat('Magic', 'James').talk()\n",
    "        Magic says meow!\n",
    "        Magic says meow!\n",
    "        \"\"\"\n",
    "        Cat.talk(self)\n",
    "        Cat.talk(self)\n",
    "doctest.testmod()"
   ]
  },
  {
   "cell_type": "code",
   "execution_count": 55,
   "metadata": {},
   "outputs": [
    {
     "data": {
      "text/plain": [
       "TestResults(failed=0, attempted=21)"
      ]
     },
     "execution_count": 55,
     "metadata": {},
     "output_type": "execute_result"
    }
   ],
   "source": [
    "class Cat:\n",
    "    def __init__(self, name, owner, lives=9):\n",
    "        self.is_alive = True\n",
    "        self.name = name\n",
    "        self.owner = owner\n",
    "        self.lives = lives\n",
    "\n",
    "    def talk(self):\n",
    "        return self.name + ' says meow!'\n",
    "\n",
    "    @classmethod\n",
    "    def cat_creator(cls, owner):\n",
    "        \"\"\"\n",
    "        Returns a new instance of a Cat.\n",
    "\n",
    "        This instance's name is \"[owner]'s Cat\", with \n",
    "        [owner] being the name of its owner.\n",
    "\n",
    "        >>> cat1 = Cat.cat_creator(\"Bryce\")\n",
    "        >>> isinstance(cat1, Cat)\n",
    "        True\n",
    "        >>> cat1.owner\n",
    "        'Bryce'\n",
    "        >>> cat1.name\n",
    "        \"Bryce's Cat\"\n",
    "        >>> cat2 = Cat.cat_creator(\"Tyler\")\n",
    "        >>> cat2.owner\n",
    "        'Tyler'\n",
    "        >>> cat2.name\n",
    "        \"Tyler's Cat\"\n",
    "        \"\"\"\n",
    "        name = \"{0}'s Cat\".format(owner)\n",
    "        return cls(name, owner)\n",
    "doctest.testmod()"
   ]
  },
  {
   "cell_type": "code",
   "execution_count": 2,
   "metadata": {},
   "outputs": [],
   "source": [
    "class A:\n",
    "    def __init__(self, x):\n",
    "        self.x = x\n",
    "\n",
    "    def __repr__(self):\n",
    "         return self.x\n",
    "\n",
    "    def __str__(self):\n",
    "         return self.x * 2\n",
    "\n",
    "class B:\n",
    "    def __init__(self):\n",
    "         print('boo!')\n",
    "         self.a = []\n",
    "\n",
    "    def add_a(self, a):\n",
    "         self.a.append(a)\n",
    "\n",
    "    def __repr__(self):\n",
    "         print(len(self.a))\n",
    "         ret = ''\n",
    "         for a in self.a:\n",
    "             ret += str(a)\n",
    "         return ret"
   ]
  },
  {
   "cell_type": "code",
   "execution_count": 3,
   "metadata": {},
   "outputs": [
    {
     "data": {
      "text/plain": [
       "one"
      ]
     },
     "execution_count": 3,
     "metadata": {},
     "output_type": "execute_result"
    }
   ],
   "source": [
    "A('one')"
   ]
  },
  {
   "cell_type": "code",
   "execution_count": 4,
   "metadata": {},
   "outputs": [
    {
     "name": "stdout",
     "output_type": "stream",
     "text": [
      "oneone\n"
     ]
    }
   ],
   "source": [
    "print(A('one'))"
   ]
  },
  {
   "cell_type": "code",
   "execution_count": 5,
   "metadata": {},
   "outputs": [
    {
     "data": {
      "text/plain": [
       "'two'"
      ]
     },
     "execution_count": 5,
     "metadata": {},
     "output_type": "execute_result"
    }
   ],
   "source": [
    "repr(A('two'))"
   ]
  },
  {
   "cell_type": "code",
   "execution_count": 6,
   "metadata": {},
   "outputs": [
    {
     "name": "stdout",
     "output_type": "stream",
     "text": [
      "boo!\n"
     ]
    }
   ],
   "source": [
    "b = B()"
   ]
  },
  {
   "cell_type": "code",
   "execution_count": 7,
   "metadata": {},
   "outputs": [],
   "source": [
    "b.add_a(A('a'))"
   ]
  },
  {
   "cell_type": "code",
   "execution_count": 8,
   "metadata": {},
   "outputs": [],
   "source": [
    "b.add_a(A('b'))"
   ]
  },
  {
   "cell_type": "code",
   "execution_count": 9,
   "metadata": {},
   "outputs": [
    {
     "name": "stdout",
     "output_type": "stream",
     "text": [
      "2\n"
     ]
    },
    {
     "data": {
      "text/plain": [
       "aabb"
      ]
     },
     "execution_count": 9,
     "metadata": {},
     "output_type": "execute_result"
    }
   ],
   "source": [
    "b"
   ]
  },
  {
   "cell_type": "code",
   "execution_count": null,
   "metadata": {},
   "outputs": [],
   "source": []
  }
 ],
 "metadata": {
  "kernelspec": {
   "display_name": "base",
   "language": "python",
   "name": "python3"
  },
  "language_info": {
   "codemirror_mode": {
    "name": "ipython",
    "version": 3
   },
   "file_extension": ".py",
   "mimetype": "text/x-python",
   "name": "python",
   "nbconvert_exporter": "python",
   "pygments_lexer": "ipython3",
   "version": "3.11.4"
  },
  "orig_nbformat": 4
 },
 "nbformat": 4,
 "nbformat_minor": 2
}
