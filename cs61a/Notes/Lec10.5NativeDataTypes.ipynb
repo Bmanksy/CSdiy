{
 "cells": [
  {
   "cell_type": "markdown",
   "metadata": {},
   "source": [
    "## Native Data Types\n",
    "Effective use of built-in and user-defined datatypes are fundamental to data processing applications.\n",
    "\n",
    "Every value in python has a *class* that determines what type of value it is. Values that share a class also share behavior.    \n",
    "The built-in `type` function allows us to inspect the class of any value.\n",
    "\n",
    "Native data types have the properties:  \n",
    "- There are expressions that evaluate to values of native types, called *literals*.\n",
    "- There are built-in functions and operators to manipulate values of native types.\n",
    "\n",
    "Python includes three native numeric types:   \n",
    "integers(`int`), real numbers(`float`), and complex numbers(`complex`)\n",
    "\n",
    "`Float`: real number takes a \"floating point\" representation.\n",
    "`int` objects represent integers exactly, without approximation or limits on their size.   \n",
    "`float` objects can represent a wide range of fractional numbers, but not all numbers can be represented exactly, there are limits. `float` values should be treated as approximations to real values, with finite precision."
   ]
  },
  {
   "cell_type": "code",
   "execution_count": 1,
   "metadata": {},
   "outputs": [
    {
     "data": {
      "text/plain": [
       "7.0"
      ]
     },
     "execution_count": 1,
     "metadata": {},
     "output_type": "execute_result"
    }
   ],
   "source": [
    "7 / 3 * 3"
   ]
  },
  {
   "cell_type": "code",
   "execution_count": 2,
   "metadata": {},
   "outputs": [
    {
     "data": {
      "text/plain": [
       "6.999999999999999"
      ]
     },
     "execution_count": 2,
     "metadata": {},
     "output_type": "execute_result"
    }
   ],
   "source": [
    "1 / 3 * 7 * 3"
   ]
  },
  {
   "cell_type": "code",
   "execution_count": 3,
   "metadata": {},
   "outputs": [
    {
     "data": {
      "text/plain": [
       "False"
      ]
     },
     "execution_count": 3,
     "metadata": {},
     "output_type": "execute_result"
    }
   ],
   "source": [
    "7 / 3 * 3 == 1 / 3 * 7 * 3"
   ]
  },
  {
   "cell_type": "code",
   "execution_count": null,
   "metadata": {},
   "outputs": [],
   "source": []
  }
 ],
 "metadata": {
  "kernelspec": {
   "display_name": "base",
   "language": "python",
   "name": "python3"
  },
  "language_info": {
   "codemirror_mode": {
    "name": "ipython",
    "version": 3
   },
   "file_extension": ".py",
   "mimetype": "text/x-python",
   "name": "python",
   "nbconvert_exporter": "python",
   "pygments_lexer": "ipython3",
   "version": "3.11.4"
  },
  "orig_nbformat": 4
 },
 "nbformat": 4,
 "nbformat_minor": 2
}
