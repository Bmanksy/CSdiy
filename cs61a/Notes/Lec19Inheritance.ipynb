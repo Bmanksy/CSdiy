{
 "cells": [
  {
   "cell_type": "markdown",
   "metadata": {},
   "source": [
    "## Inheritance\n",
    "Inheritance is a method for relating classes together.\n",
    "     \n",
    "A common use: General class - Specialized class(same attributes or  behaviors and special-case behaviors) \n",
    "```python \n",
    "class <name>(<base class>):\n",
    "    <suite>\n",
    "```\n",
    "*Subclass* inherits attributes from its *base class*.     \n",
    "The subclass may *override* certain inherited attributes.    \n",
    "We implement a subclass by specifying its differences from the base class."
   ]
  },
  {
   "cell_type": "code",
   "execution_count": 1,
   "metadata": {},
   "outputs": [],
   "source": [
    "class Account:\n",
    "    interest = 0.02\n",
    "    def __init__(self, holder_name):\n",
    "        self.holder = holder_name\n",
    "        self.balance = 0\n",
    "    def deposit(self, amount):\n",
    "        self.balance = self.balance + amount\n",
    "        return self.balance\n",
    "    def withdraw(self, amount):\n",
    "        if amount > self.balance:\n",
    "            return 'Insufficient funds'\n",
    "        self.balance = self.balance - amount\n",
    "        return self.balance\n",
    "        "
   ]
  },
  {
   "cell_type": "code",
   "execution_count": 3,
   "metadata": {},
   "outputs": [],
   "source": [
    "class CheckingAccount(Account):\n",
    "    withdraw_fee = 1\n",
    "    interest = 0.01\n",
    "    def withdraw(self, amount):\n",
    "        return Account.withdraw(self, amount + self.withdraw_fee)"
   ]
  },
  {
   "cell_type": "markdown",
   "metadata": {},
   "source": [
    "### Looking up Attribute Names on Classes\n",
    "To look up a name in a class.\n",
    "1. If it names an attribute in the class, return the attribute value.\n",
    "2. Otherwise, look up the name in the base class, if there is one."
   ]
  },
  {
   "cell_type": "code",
   "execution_count": 5,
   "metadata": {},
   "outputs": [
    {
     "data": {
      "text/plain": [
       "0.01"
      ]
     },
     "execution_count": 5,
     "metadata": {},
     "output_type": "execute_result"
    }
   ],
   "source": [
    "ch = CheckingAccount('Tom')#Calls Account.__init__\n",
    "ch.interest# Founcd in CheckingAccount"
   ]
  },
  {
   "cell_type": "code",
   "execution_count": 6,
   "metadata": {},
   "outputs": [
    {
     "data": {
      "text/plain": [
       "20"
      ]
     },
     "execution_count": 6,
     "metadata": {},
     "output_type": "execute_result"
    }
   ],
   "source": [
    "ch.deposit(20) # Found in Account"
   ]
  },
  {
   "cell_type": "code",
   "execution_count": 9,
   "metadata": {},
   "outputs": [
    {
     "data": {
      "text/plain": [
       "14"
      ]
     },
     "execution_count": 9,
     "metadata": {},
     "output_type": "execute_result"
    }
   ],
   "source": [
    "ch.withdraw(5)"
   ]
  },
  {
   "cell_type": "markdown",
   "metadata": {},
   "source": [
    "### Object-Oriented Design\n",
    "- Do not repeat yourself; use existing implementations.\n",
    "- Attributes that have been over ridden are still accessible via class objects\n",
    "- Look up attributes on instances whenever possible\n",
    "\n",
    "#### Inheritance and Composition \n",
    "OOP shines when we adopt the metaphor    \n",
    "\n",
    "Inheritance is best for representing **is-a** relationships.    \n",
    "E.g. a checkingAcount is a specific type of Acount\n",
    "Composition is best for representing **has-a** relationships.     \n",
    "E.g. a bank has a collection of bank accounts it manages.\n"
   ]
  },
  {
   "cell_type": "code",
   "execution_count": 21,
   "metadata": {},
   "outputs": [],
   "source": [
    "class Bank:\n",
    "    def __init__(self):\n",
    "        self.accounts = []\n",
    "    def open_an_account(self, holder, amount, kind=Account):\n",
    "        account = kind(holder)\n",
    "        account.deposit(amount)\n",
    "        self.accounts.append(account)\n",
    "        return account\n",
    "    def pay_interest(self):\n",
    "        for a in self.accounts:\n",
    "            a.deposit(a.balance * a.interest)\n"
   ]
  },
  {
   "cell_type": "code",
   "execution_count": 27,
   "metadata": {},
   "outputs": [
    {
     "data": {
      "text/plain": [
       "<__main__.CheckingAccount at 0x1eee640fbd0>"
      ]
     },
     "execution_count": 27,
     "metadata": {},
     "output_type": "execute_result"
    }
   ],
   "source": [
    "MOUSE_BANK = Bank()\n",
    "MOUSE_BANK.open_an_account('Jim', 10000000, CheckingAccount)"
   ]
  },
  {
   "cell_type": "code",
   "execution_count": 24,
   "metadata": {},
   "outputs": [],
   "source": [
    "MOUSE_BANK.pay_interest()"
   ]
  },
  {
   "cell_type": "markdown",
   "metadata": {},
   "source": [
    "### Multiple Inheritance"
   ]
  },
  {
   "cell_type": "markdown",
   "metadata": {},
   "source": [
    "A subclass inheriting attributes from multiple base classes.\n",
    "当出现同名方法时，子类会继承这两个同名方法，但只会调用一个；Python中的Method Resolution Order遵循C3线性化算法。   \n",
    "- 可以使用`super()`调用父类的方法。\n",
    "- 或者直接指定class attributes。如\n",
    "```python\n",
    "class C(A, B):\n",
    "    def method(self):\n",
    "        A.method(self)\n",
    "```"
   ]
  },
  {
   "cell_type": "markdown",
   "metadata": {},
   "source": [
    "### Class Methods\n",
    "By adding the `@classmethod` decorator, a method can be turned into a class method.   \n",
    "A class method receives the class itself as the first argument `cls`\n",
    "```python\n",
    "class Dog(Pet):\n",
    "    # With the previously defined methods not written out\n",
    "    @classmethod\n",
    "    def robo_factory(cls, owner):\n",
    "        return cls(\"RoboDog\", owner)\n",
    "```"
   ]
  },
  {
   "cell_type": "markdown",
   "metadata": {},
   "source": [
    "OOP advabtage: Separate but interactive objects are easy to map.     \n",
    "To introduce a class or function requires thinking."
   ]
  }
 ],
 "metadata": {
  "kernelspec": {
   "display_name": "base",
   "language": "python",
   "name": "python3"
  },
  "language_info": {
   "codemirror_mode": {
    "name": "ipython",
    "version": 3
   },
   "file_extension": ".py",
   "mimetype": "text/x-python",
   "name": "python",
   "nbconvert_exporter": "python",
   "pygments_lexer": "ipython3",
   "version": "3.11.4"
  },
  "orig_nbformat": 4
 },
 "nbformat": 4,
 "nbformat_minor": 2
}
