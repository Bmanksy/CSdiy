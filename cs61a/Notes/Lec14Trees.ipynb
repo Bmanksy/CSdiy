{
 "cells": [
  {
   "cell_type": "markdown",
   "metadata": {},
   "source": [
    "## Trees\n"
   ]
  },
  {
   "cell_type": "markdown",
   "metadata": {},
   "source": [
    "#### The Closure Property of Data Types\n",
    "The ability to use lists as the elements of other lists provides a new means of combination in our programming language.\n",
    "- A method for combining data values satisfies the closure property if:    \n",
    "  The result of combination can itself be combined using the same method\n",
    "- Closure is  powerful as it permits us to create hierarchical structures."
   ]
  },
  {
   "cell_type": "markdown",
   "metadata": {},
   "source": [
    "### Box-and-Pointer Notation\n",
    "Box-and-pointer notation is a way to reprsent lists within our environment diagrams.    \n",
    "We need the notation as sequencial data can be complicated due to their closure property."
   ]
  },
  {
   "cell_type": "markdown",
   "metadata": {},
   "source": [
    "### Box-and-Pointer Notation in Environment Diagrams\n",
    "Lists are represented as a row of index-labeled adjacent boxes, one per element.   \n",
    "Each box either containes a primitive value or points to a compound value by an arrow.\n",
    "![image.png](attachment:image.png)"
   ]
  },
  {
   "cell_type": "markdown",
   "metadata": {},
   "source": [
    "### Tree Abstraction"
   ]
  },
  {
   "cell_type": "markdown",
   "metadata": {},
   "source": [
    "The tree is a fundamental data abstraction that imposes regularity of how hierarchical values are structured and manipulated.\n"
   ]
  },
  {
   "cell_type": "markdown",
   "metadata": {},
   "source": [
    "#### Tree metaphors:\n",
    "1. Recursive description(wooden trees):\n",
    "  - A tree has a root label and a list of branches\n",
    "  - Each branch is a tree\n",
    "  - A tree with zero branches is called sleaf\n",
    "2. Relativa description(family trees):\n",
    "  - Each location in a tree is called a node\n",
    "  - Each node has a label that can be any value.\n",
    "  - One node can be the parent/child of another\n",
    "\n",
    "People often refer to labels by their locations:\n",
    "e.g. each parent is the sum of its children"
   ]
  },
  {
   "cell_type": "markdown",
   "metadata": {},
   "source": [
    "#### Implementing the tree abstraction\n",
    "The data abstraction for a tree consists of the constructor `tree` and the selectors `label` and `branches`.\n",
    "\n",
    "- A root label and a *list* of branches\n",
    "- Each branch is a tree"
   ]
  },
  {
   "cell_type": "code",
   "execution_count": 28,
   "metadata": {},
   "outputs": [],
   "source": [
    "def tree(root_label, branches=[]):\n",
    "    for branch in branches:\n",
    "        assert is_tree(branch), \"branches must be trees\"\n",
    "    # check branches are trees\n",
    "    return [root_label] + list(branches)# in case of passing other sequences\n",
    "\n",
    "\n",
    "def label(tree):\n",
    "    return tree[0]\n",
    "\n",
    "def branches(tree):\n",
    "    return tree[1:]\n",
    "\n",
    "def is_tree(tree):\n",
    "    if type(tree) != list or len(tree) < 1:\n",
    "        return False\n",
    "    for branch in branches(tree):\n",
    "        if not is_tree(branch):\n",
    "            return False\n",
    "    #Note: branches 为[]时不会进行循环\n",
    "    return True\n",
    "\n",
    "def is_leaf(tree):\n",
    "    return not branches(tree)"
   ]
  },
  {
   "cell_type": "code",
   "execution_count": 29,
   "metadata": {},
   "outputs": [
    {
     "data": {
      "text/plain": [
       "[3, [1], [2, [1], [1]]]"
      ]
     },
     "execution_count": 29,
     "metadata": {},
     "output_type": "execute_result"
    }
   ],
   "source": [
    "t = tree(3, [tree(1), tree(2, [tree(1), tree(1)])])\n",
    "t"
   ]
  },
  {
   "cell_type": "code",
   "execution_count": 30,
   "metadata": {},
   "outputs": [
    {
     "data": {
      "text/plain": [
       "3"
      ]
     },
     "execution_count": 30,
     "metadata": {},
     "output_type": "execute_result"
    }
   ],
   "source": [
    "label(t)"
   ]
  },
  {
   "cell_type": "code",
   "execution_count": 31,
   "metadata": {},
   "outputs": [
    {
     "data": {
      "text/plain": [
       "[[1], [2, [1], [1]]]"
      ]
     },
     "execution_count": 31,
     "metadata": {},
     "output_type": "execute_result"
    }
   ],
   "source": [
    "branches(t)"
   ]
  },
  {
   "cell_type": "code",
   "execution_count": 32,
   "metadata": {},
   "outputs": [
    {
     "data": {
      "text/plain": [
       "1"
      ]
     },
     "execution_count": 32,
     "metadata": {},
     "output_type": "execute_result"
    }
   ],
   "source": [
    "label(branches(t)[0])\n",
    "# treating branches as a list is not violating abstraction barrier\n",
    "# because in our abstraction, a tree has a list of branches "
   ]
  },
  {
   "cell_type": "code",
   "execution_count": 33,
   "metadata": {},
   "outputs": [
    {
     "data": {
      "text/plain": [
       "True"
      ]
     },
     "execution_count": 33,
     "metadata": {},
     "output_type": "execute_result"
    }
   ],
   "source": [
    "is_leaf(branches(t)[0])"
   ]
  },
  {
   "cell_type": "markdown",
   "metadata": {},
   "source": [
    "Tree-recursive functions can be used to construct trees."
   ]
  },
  {
   "cell_type": "code",
   "execution_count": 34,
   "metadata": {},
   "outputs": [],
   "source": [
    "def fib_tree(n):\n",
    "    if n == 0 or n == 1:\n",
    "        return tree(n)\n",
    "    else:\n",
    "        left, right = fib_tree(n-2), fib_tree(n-1)\n",
    "        fib_n = label(left) + label(right)\n",
    "        return tree(fib_n, [left, right])\n"
   ]
  },
  {
   "cell_type": "code",
   "execution_count": 35,
   "metadata": {},
   "outputs": [
    {
     "data": {
      "text/plain": [
       "[5, [2, [1], [1, [0], [1]]], [3, [1, [0], [1]], [2, [1], [1, [0], [1]]]]]"
      ]
     },
     "execution_count": 35,
     "metadata": {},
     "output_type": "execute_result"
    }
   ],
   "source": [
    "fib_tree(5)"
   ]
  },
  {
   "cell_type": "markdown",
   "metadata": {},
   "source": [
    "### Tree Processing\n",
    "Functions that take trees as input or return trees as output are often tree recursive themselves.      \n",
    "- Processing a leaf is often the base case of a tree processing function.   \n",
    "- The recursive case typically makes a recursive call on each branch,then aggregates.\n"
   ]
  },
  {
   "cell_type": "code",
   "execution_count": 36,
   "metadata": {},
   "outputs": [],
   "source": [
    "def count_leaves(tree):\n",
    "    if is_leaf(tree):\n",
    "        return 1\n",
    "    else:\n",
    "        branch_counts = [count_leaves(b) for b in branches(tree)]\n",
    "        return sum(branch_counts)"
   ]
  },
  {
   "cell_type": "code",
   "execution_count": 37,
   "metadata": {},
   "outputs": [
    {
     "data": {
      "text/plain": [
       "8"
      ]
     },
     "execution_count": 37,
     "metadata": {},
     "output_type": "execute_result"
    }
   ],
   "source": [
    "count_leaves(fib_tree(5))"
   ]
  },
  {
   "cell_type": "code",
   "execution_count": 40,
   "metadata": {},
   "outputs": [],
   "source": [
    "def leaves(tree):\n",
    "    if is_leaf(tree):\n",
    "        return [label(tree)]\n",
    "    #不直接返回tree是因为希望将非列表转化为列表形式\n",
    "    else:\n",
    "        l = sum([leaves(l) for l in branches(tree)],[])\n",
    "        return l"
   ]
  },
  {
   "cell_type": "code",
   "execution_count": 41,
   "metadata": {},
   "outputs": [
    {
     "data": {
      "text/plain": [
       "[1, 0, 1, 0, 1, 1, 0, 1]"
      ]
     },
     "execution_count": 41,
     "metadata": {},
     "output_type": "execute_result"
    }
   ],
   "source": [
    "leaves(fib_tree(5))"
   ]
  },
  {
   "cell_type": "markdown",
   "metadata": {},
   "source": [
    "- Creating Trees   \n",
    "A function that creates a tree from anthoer tree is typically also recursive.\n"
   ]
  },
  {
   "cell_type": "code",
   "execution_count": 50,
   "metadata": {},
   "outputs": [],
   "source": [
    "def increment_leaves(t):\n",
    "    \"\"\"Return a tree like t but with leaf labels incremented\"\"\"\n",
    "    if is_leaf(t):\n",
    "        return tree(label(t)+1)\n",
    "    else:\n",
    "        bs = [increment_leaves(b) for b in branches(t)]\n",
    "        return tree(label(t), bs)\n",
    "def increment(t):\n",
    "    \"\"\"Return a tree like t but with all labels incremented\"\"\"\n",
    "    if is_leaf(t):\n",
    "        return tree(label(t)+1)\n",
    "    else:\n",
    "        bs = [increment(b) for b in branches(t)]\n",
    "        return tree(label(t)+1, bs)"
   ]
  },
  {
   "cell_type": "markdown",
   "metadata": {},
   "source": [
    "We dont have to set a base case if every tree is treated the same way, as the list comprehension has accounted for the [] case."
   ]
  },
  {
   "cell_type": "code",
   "execution_count": 52,
   "metadata": {},
   "outputs": [],
   "source": [
    "def increment(t):\n",
    "    \"\"\"Return a tree like t but with all labels incremented\"\"\"\n",
    "    return tree(label(t)+1, [increment(b) for b in branches(t)])"
   ]
  },
  {
   "cell_type": "code",
   "execution_count": 53,
   "metadata": {},
   "outputs": [
    {
     "data": {
      "text/plain": [
       "[6, [3, [2], [2, [1], [2]]], [4, [2, [1], [2]], [3, [2], [2, [1], [2]]]]]"
      ]
     },
     "execution_count": 53,
     "metadata": {},
     "output_type": "execute_result"
    }
   ],
   "source": [
    "increment(fib_tree(5))"
   ]
  },
  {
   "cell_type": "code",
   "execution_count": 49,
   "metadata": {},
   "outputs": [
    {
     "data": {
      "text/plain": [
       "[5, [2, [2], [1, [1], [2]]], [3, [1, [1], [2]], [2, [2], [1, [1], [2]]]]]"
      ]
     },
     "execution_count": 49,
     "metadata": {},
     "output_type": "execute_result"
    }
   ],
   "source": [
    "increment_leaves(fib_tree(5))"
   ]
  },
  {
   "cell_type": "code",
   "execution_count": 56,
   "metadata": {},
   "outputs": [],
   "source": [
    "def print_tree(t, indent=0):\n",
    "    print(' ' * indent + str(label(t)))\n",
    "    for b in branches(t):\n",
    "        print_tree(b, indent+1)"
   ]
  },
  {
   "cell_type": "code",
   "execution_count": 57,
   "metadata": {},
   "outputs": [
    {
     "name": "stdout",
     "output_type": "stream",
     "text": [
      "5\n",
      " 2\n",
      "  1\n",
      "  1\n",
      "   0\n",
      "   1\n",
      " 3\n",
      "  1\n",
      "   0\n",
      "   1\n",
      "  2\n",
      "   1\n",
      "   1\n",
      "    0\n",
      "    1\n"
     ]
    }
   ],
   "source": [
    "print_tree(fib_tree(5))"
   ]
  },
  {
   "cell_type": "markdown",
   "metadata": {},
   "source": [
    "#### Example: Summing Paths"
   ]
  },
  {
   "cell_type": "markdown",
   "metadata": {},
   "source": [
    "Recursive functions can build up their results by:\n",
    "- manipulating the return value of a recursive call\n",
    "\n"
   ]
  },
  {
   "cell_type": "code",
   "execution_count": 58,
   "metadata": {},
   "outputs": [],
   "source": [
    "def fact(n):\n",
    "    if n == 0:\n",
    "        return 1\n",
    "    else:\n",
    "        return n * fact(n-1)"
   ]
  },
  {
   "cell_type": "markdown",
   "metadata": {},
   "source": [
    "- passing information into the recursive call as an argument    \n",
    "The base case needs to be the same result as the original recursive call.    \n",
    "And when we reach the base case the operation has been done already."
   ]
  },
  {
   "cell_type": "code",
   "execution_count": null,
   "metadata": {},
   "outputs": [],
   "source": [
    "def fact_times(n, k):\n",
    "    \"\"\"Return k*n*(n-1)...\"\"\"\n",
    "    if n == 0:\n",
    "        return k\n",
    "    else:\n",
    "        return fact_times(n-1, k*n)"
   ]
  },
  {
   "cell_type": "code",
   "execution_count": 59,
   "metadata": {},
   "outputs": [],
   "source": [
    "def fact(n):\n",
    "    return fact_times(n, 1)"
   ]
  },
  {
   "cell_type": "code",
   "execution_count": 60,
   "metadata": {},
   "outputs": [],
   "source": [
    "def print_sums(t, so_far):\n",
    "    if is_leaf(t):\n",
    "        print(so_far)\n",
    "    else:\n",
    "        for b in branches(t):\n",
    "            print_sums(b, so_far+label(t))\n"
   ]
  },
  {
   "cell_type": "markdown",
   "metadata": {},
   "source": [
    "#### Example: Count paths"
   ]
  },
  {
   "cell_type": "code",
   "execution_count": 61,
   "metadata": {},
   "outputs": [],
   "source": [
    "def count_paths(t, total):\n",
    "    if label(t) == total:\n",
    "        found = 1\n",
    "    else:\n",
    "        found = 0\n",
    "    return found + sum([count_paths(b, total-label(t)) for  b in branches(t)])"
   ]
  },
  {
   "cell_type": "code",
   "execution_count": null,
   "metadata": {},
   "outputs": [],
   "source": []
  }
 ],
 "metadata": {
  "kernelspec": {
   "display_name": "base",
   "language": "python",
   "name": "python3"
  },
  "language_info": {
   "codemirror_mode": {
    "name": "ipython",
    "version": 3
   },
   "file_extension": ".py",
   "mimetype": "text/x-python",
   "name": "python",
   "nbconvert_exporter": "python",
   "pygments_lexer": "ipython3",
   "version": "3.11.4"
  },
  "orig_nbformat": 4
 },
 "nbformat": 4,
 "nbformat_minor": 2
}
