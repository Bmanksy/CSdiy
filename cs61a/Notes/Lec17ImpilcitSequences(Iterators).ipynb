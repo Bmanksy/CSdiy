{
 "cells": [
  {
   "cell_type": "markdown",
   "metadata": {},
   "source": [
    "## Implicit Sequences\n",
    "Instead of retrieve values from an existing representation, we can compute values on demand.(an example of lazy computation)   \n",
    "*Lazy computation* describes any program that delays the computation of a value until that value is needed."
   ]
  },
  {
   "cell_type": "markdown",
   "metadata": {},
   "source": [
    "### Iterators\n",
    "An *iterator* is an object(interface) that provides sequential access to values, one by one.   \n",
    "The iterator abstraction has two components:\n",
    "- a mechanism for retriving the next element in the sequence being processed \n",
    "- a mechanism for signaling that the end of the sequence has been reached and no further elements remain.\n"
   ]
  },
  {
   "cell_type": "code",
   "execution_count": 3,
   "metadata": {},
   "outputs": [],
   "source": [
    "primes = [2, 3, 5]\n",
    "iterator = iter(primes)"
   ]
  },
  {
   "cell_type": "code",
   "execution_count": 4,
   "metadata": {},
   "outputs": [
    {
     "data": {
      "text/plain": [
       "2"
      ]
     },
     "execution_count": 4,
     "metadata": {},
     "output_type": "execute_result"
    }
   ],
   "source": [
    "next(iterator)"
   ]
  },
  {
   "cell_type": "code",
   "execution_count": 5,
   "metadata": {},
   "outputs": [
    {
     "data": {
      "text/plain": [
       "3"
      ]
     },
     "execution_count": 5,
     "metadata": {},
     "output_type": "execute_result"
    }
   ],
   "source": [
    "next(iterator)"
   ]
  },
  {
   "cell_type": "code",
   "execution_count": 6,
   "metadata": {},
   "outputs": [
    {
     "data": {
      "text/plain": [
       "5"
      ]
     },
     "execution_count": 6,
     "metadata": {},
     "output_type": "execute_result"
    }
   ],
   "source": [
    "next(iterator)"
   ]
  },
  {
   "cell_type": "code",
   "execution_count": 7,
   "metadata": {},
   "outputs": [
    {
     "ename": "StopIteration",
     "evalue": "",
     "output_type": "error",
     "traceback": [
      "\u001b[1;31m---------------------------------------------------------------------------\u001b[0m",
      "\u001b[1;31mStopIteration\u001b[0m                             Traceback (most recent call last)",
      "Cell \u001b[1;32mIn[7], line 1\u001b[0m\n\u001b[1;32m----> 1\u001b[0m \u001b[39mnext\u001b[39;49m(iterator)\n",
      "\u001b[1;31mStopIteration\u001b[0m: "
     ]
    }
   ],
   "source": [
    "next(iterator)"
   ]
  },
  {
   "cell_type": "code",
   "execution_count": 8,
   "metadata": {},
   "outputs": [
    {
     "name": "stdout",
     "output_type": "stream",
     "text": [
      "No More values\n"
     ]
    }
   ],
   "source": [
    "try:\n",
    "    next(iterator)\n",
    "except StopIteration:\n",
    "    print('No More values')"
   ]
  },
  {
   "cell_type": "markdown",
   "metadata": {},
   "source": [
    "An iterator remains local state to represent its position in a sequence.   \n",
    "Calling `iter` on an iterator will return thet iterator"
   ]
  },
  {
   "cell_type": "code",
   "execution_count": 9,
   "metadata": {},
   "outputs": [
    {
     "data": {
      "text/plain": [
       "3"
      ]
     },
     "execution_count": 9,
     "metadata": {},
     "output_type": "execute_result"
    }
   ],
   "source": [
    "r = range(3, 13)\n",
    "s = iter(r)\n",
    "next(s)"
   ]
  },
  {
   "cell_type": "code",
   "execution_count": 10,
   "metadata": {},
   "outputs": [
    {
     "data": {
      "text/plain": [
       "4"
      ]
     },
     "execution_count": 10,
     "metadata": {},
     "output_type": "execute_result"
    }
   ],
   "source": [
    "v = iter(s)\n",
    "next(v)\n",
    "# 相当于v = s"
   ]
  },
  {
   "cell_type": "code",
   "execution_count": 11,
   "metadata": {},
   "outputs": [
    {
     "data": {
      "text/plain": [
       "5"
      ]
     },
     "execution_count": 11,
     "metadata": {},
     "output_type": "execute_result"
    }
   ],
   "source": [
    "next(s)"
   ]
  },
  {
   "cell_type": "markdown",
   "metadata": {},
   "source": [
    "The usefulness of iterators is derived from the fact that the underlying series of data may not be stored simultaneously, represented explicitly in memory(节约存储空间).\n",
    "\n",
    "Iterators allow for lazy generation of a broad class of underlying sequencial datasets.\n",
    "\n",
    "Iterators have no *random access* to elements of datasets.     \n",
    "*Sequential access* to sequencial data is often sufficient for data processing. \n"
   ]
  },
  {
   "cell_type": "markdown",
   "metadata": {},
   "source": [
    "### Iterables\n",
    "*Iterable value*: any value that can produce iterators.\n",
    "strings, tuples, ranges, lists, sets, dictionaries\n",
    "\n",
    "Sets and dictionaries are unordered, programmers have no control over the order of iteration. Python does guaranteee certain properties about their order in its specifiaction   \n",
    "\n",
    "A dictionary, its keys, values, items are all iterable values.\n",
    "- The order of items in adictionary is the order in which they were added(Python 3.6+)\n",
    "- Items appeared in arbitrary order(Python3.5-)"
   ]
  },
  {
   "cell_type": "code",
   "execution_count": 27,
   "metadata": {},
   "outputs": [],
   "source": [
    "d = {'one':1, 'two':2, 'three':3}\n",
    "d['zero'] = 0\n",
    "k = iter(d)"
   ]
  },
  {
   "cell_type": "code",
   "execution_count": 28,
   "metadata": {},
   "outputs": [
    {
     "data": {
      "text/plain": [
       "'one'"
      ]
     },
     "execution_count": 28,
     "metadata": {},
     "output_type": "execute_result"
    }
   ],
   "source": [
    "next(k)"
   ]
  },
  {
   "cell_type": "code",
   "execution_count": 29,
   "metadata": {},
   "outputs": [
    {
     "data": {
      "text/plain": [
       "'two'"
      ]
     },
     "execution_count": 29,
     "metadata": {},
     "output_type": "execute_result"
    }
   ],
   "source": [
    "next(k)"
   ]
  },
  {
   "cell_type": "code",
   "execution_count": 30,
   "metadata": {},
   "outputs": [
    {
     "data": {
      "text/plain": [
       "'three'"
      ]
     },
     "execution_count": 30,
     "metadata": {},
     "output_type": "execute_result"
    }
   ],
   "source": [
    "next(k)"
   ]
  },
  {
   "cell_type": "code",
   "execution_count": 31,
   "metadata": {},
   "outputs": [
    {
     "data": {
      "text/plain": [
       "'zero'"
      ]
     },
     "execution_count": 31,
     "metadata": {},
     "output_type": "execute_result"
    }
   ],
   "source": [
    "next(k)"
   ]
  },
  {
   "cell_type": "code",
   "execution_count": 17,
   "metadata": {},
   "outputs": [],
   "source": [
    "v = iter(d.values())"
   ]
  },
  {
   "cell_type": "code",
   "execution_count": 18,
   "metadata": {},
   "outputs": [
    {
     "data": {
      "text/plain": [
       "1"
      ]
     },
     "execution_count": 18,
     "metadata": {},
     "output_type": "execute_result"
    }
   ],
   "source": [
    "next(v)"
   ]
  },
  {
   "cell_type": "code",
   "execution_count": 19,
   "metadata": {},
   "outputs": [
    {
     "data": {
      "text/plain": [
       "2"
      ]
     },
     "execution_count": 19,
     "metadata": {},
     "output_type": "execute_result"
    }
   ],
   "source": [
    "next(v)"
   ]
  },
  {
   "cell_type": "code",
   "execution_count": 32,
   "metadata": {},
   "outputs": [],
   "source": [
    "i = iter(d.items())"
   ]
  },
  {
   "cell_type": "code",
   "execution_count": 33,
   "metadata": {},
   "outputs": [
    {
     "data": {
      "text/plain": [
       "('one', 1)"
      ]
     },
     "execution_count": 33,
     "metadata": {},
     "output_type": "execute_result"
    }
   ],
   "source": [
    "next(i)"
   ]
  },
  {
   "cell_type": "markdown",
   "metadata": {},
   "source": [
    "dictionary:   \n",
    "Changing the value of an existing key does not change the order of the contents or invalidate  iterators.     \n",
    "Adding or removing a key(size changes) will invalidate the iterators and future iterators may exihibit arbitrary changes to the order."
   ]
  },
  {
   "cell_type": "code",
   "execution_count": 20,
   "metadata": {},
   "outputs": [
    {
     "ename": "RuntimeError",
     "evalue": "dictionary changed size during iteration",
     "output_type": "error",
     "traceback": [
      "\u001b[1;31m---------------------------------------------------------------------------\u001b[0m",
      "\u001b[1;31mRuntimeError\u001b[0m                              Traceback (most recent call last)",
      "Cell \u001b[1;32mIn[20], line 2\u001b[0m\n\u001b[0;32m      1\u001b[0m d\u001b[39m.\u001b[39mpop(\u001b[39m'\u001b[39m\u001b[39mtwo\u001b[39m\u001b[39m'\u001b[39m)\n\u001b[1;32m----> 2\u001b[0m \u001b[39mnext\u001b[39;49m(v)\n",
      "\u001b[1;31mRuntimeError\u001b[0m: dictionary changed size during iteration"
     ]
    }
   ],
   "source": [
    "d.pop('two')\n",
    "next(v)\n"
   ]
  },
  {
   "cell_type": "markdown",
   "metadata": {},
   "source": [
    "改变列表中的值，迭代器返回值也会被修改。   \n",
    "添加，删除列表元素，对于迭代器的影响根据产生迭代器的函数有所不同。比如reversed，在原列表后添加元素，迭代器不会添加。"
   ]
  },
  {
   "cell_type": "code",
   "execution_count": 48,
   "metadata": {},
   "outputs": [
    {
     "data": {
      "text/plain": [
       "1"
      ]
     },
     "execution_count": 48,
     "metadata": {},
     "output_type": "execute_result"
    }
   ],
   "source": [
    "li = [1, 2, 3]\n",
    "it = iter(li)\n",
    "next(it)"
   ]
  },
  {
   "cell_type": "code",
   "execution_count": 49,
   "metadata": {},
   "outputs": [
    {
     "data": {
      "text/plain": [
       "2"
      ]
     },
     "execution_count": 49,
     "metadata": {},
     "output_type": "execute_result"
    }
   ],
   "source": [
    "li.append(4)\n",
    "next(it)"
   ]
  },
  {
   "cell_type": "code",
   "execution_count": 50,
   "metadata": {},
   "outputs": [
    {
     "data": {
      "text/plain": [
       "3"
      ]
     },
     "execution_count": 50,
     "metadata": {},
     "output_type": "execute_result"
    }
   ],
   "source": [
    "next(it)"
   ]
  },
  {
   "cell_type": "code",
   "execution_count": 51,
   "metadata": {},
   "outputs": [
    {
     "data": {
      "text/plain": [
       "4"
      ]
     },
     "execution_count": 51,
     "metadata": {},
     "output_type": "execute_result"
    }
   ],
   "source": [
    "next(it)"
   ]
  },
  {
   "cell_type": "markdown",
   "metadata": {},
   "source": [
    "### Built-in Iterators\n",
    "```python\n",
    "map（func, iterable）\n",
    "filter(func, iterable)\n",
    "zip(first_iter, second_iter)\n",
    "reversed(sequence)\n",
    "```\n",
    "To view the contents of an iterator, place the resulting elements into a container.  \n",
    "```python\n",
    "list(iterable)\n",
    "tuple(iterable)\n",
    "sorted(iterable)\n",
    "```\n"
   ]
  },
  {
   "cell_type": "code",
   "execution_count": 21,
   "metadata": {},
   "outputs": [],
   "source": [
    "def double_and_print(x):\n",
    "        print('***', x, '=>', 2*x, '***')\n",
    "        return 2*x\n",
    "s = range(3, 7)\n",
    "doubled = map(double_and_print, s)"
   ]
  },
  {
   "cell_type": "code",
   "execution_count": 22,
   "metadata": {},
   "outputs": [
    {
     "name": "stdout",
     "output_type": "stream",
     "text": [
      "*** 3 => 6 ***\n"
     ]
    },
    {
     "data": {
      "text/plain": [
       "6"
      ]
     },
     "execution_count": 22,
     "metadata": {},
     "output_type": "execute_result"
    }
   ],
   "source": [
    "next(doubled)"
   ]
  },
  {
   "cell_type": "code",
   "execution_count": 23,
   "metadata": {},
   "outputs": [
    {
     "name": "stdout",
     "output_type": "stream",
     "text": [
      "*** 4 => 8 ***\n",
      "*** 5 => 10 ***\n",
      "*** 6 => 12 ***\n"
     ]
    },
    {
     "data": {
      "text/plain": [
       "[8, 10, 12]"
      ]
     },
     "execution_count": 23,
     "metadata": {},
     "output_type": "execute_result"
    }
   ],
   "source": [
    "list(doubled)\n",
    "#似乎是输出后放入list"
   ]
  },
  {
   "cell_type": "code",
   "execution_count": 35,
   "metadata": {},
   "outputs": [
    {
     "data": {
      "text/plain": [
       "True"
      ]
     },
     "execution_count": 35,
     "metadata": {},
     "output_type": "execute_result"
    }
   ],
   "source": [
    "def palindrome(s):\n",
    "    return all([a==b for a, b in zip(s, reversed(s))])\n",
    "palindrome(['hannah'])"
   ]
  },
  {
   "cell_type": "markdown",
   "metadata": {},
   "source": [
    "### For Statement\n",
    "Objects are iterable(an interface) if they have an `__iter__` method that returns an iterator.   \n",
    "Iterable objects can be the value of the `<expression>` in the header of a `for` statement:\n",
    "```python\n",
    "for <name> in <expression>:\n",
    "    <suite>\n",
    "```"
   ]
  },
  {
   "cell_type": "markdown",
   "metadata": {},
   "source": [
    "- To execute a `for` statement, Python evaluates the header `<express>`, which must yield an iterable value.   \n",
    "- Then the `__iter__` method is invoked on the value.  \n",
    "- Python repeatedly invokes `__next__` method on the iterator and binds the result to the `<name>` in the `for` statement, until a `StopIteration` exception is raised.  \n",
    "- Execute the `<suite>`.\n"
   ]
  },
  {
   "cell_type": "code",
   "execution_count": 24,
   "metadata": {},
   "outputs": [
    {
     "name": "stdout",
     "output_type": "stream",
     "text": [
      "1\n",
      "2\n",
      "3\n"
     ]
    }
   ],
   "source": [
    "count = [1, 2, 3]\n",
    "for item in count:\n",
    "    print(item)"
   ]
  },
  {
   "cell_type": "code",
   "execution_count": 26,
   "metadata": {},
   "outputs": [
    {
     "name": "stdout",
     "output_type": "stream",
     "text": [
      "1\n",
      "2\n",
      "3\n"
     ]
    }
   ],
   "source": [
    "items = count.__iter__()\n",
    "try:\n",
    "    while True:\n",
    "        item = items.__next__()\n",
    "        print(item)\n",
    "except StopIteration:\n",
    "    pass"
   ]
  },
  {
   "cell_type": "markdown",
   "metadata": {},
   "source": [
    "The difference of using iterables and iterators in `for` statement.\n",
    "- iterator 会用光\n",
    "- iterables会每次使用`__iter__`创建新iterator"
   ]
  },
  {
   "cell_type": "markdown",
   "metadata": {},
   "source": [
    "### Using Iterators\n",
    "Motivation:\n",
    "- Make better use of data abstraction.    \n",
    "Code that processes an iterator/iterable makes few assumptions about the data itself.   \n",
    "Changing the list presentation does not require rewriting code.   \n",
    "Easier for others to use.\n",
    "\n",
    "- An iterator bundles together a sequence and a position within that sequence as one object.      \n",
    "Useful for ensuring that each element of a sequence is processed only once.\n",
    "Limits the operations that can be performed on the sequence to only requesting `next`.(安全性)\n",
    "\n",
    "\n",
    "\n"
   ]
  },
  {
   "cell_type": "code",
   "execution_count": null,
   "metadata": {},
   "outputs": [],
   "source": []
  },
  {
   "cell_type": "markdown",
   "metadata": {},
   "source": [
    "### Iterable Interface"
   ]
  },
  {
   "cell_type": "markdown",
   "metadata": {},
   "source": [
    "### Generators and Yield Statements\n",
    "A *generator* is a special kind of iterator. It's returned from a *generator function*. \n",
    "\n",
    "- A generator function uses `yield` statement to return elements of a series. It can `yield` multiple times.\n",
    "- A generator is an iterator created automatically by calling a generator function.\n",
    "- When a generator function is called, it returns a generator that iterates over its yield."
   ]
  },
  {
   "cell_type": "code",
   "execution_count": 52,
   "metadata": {},
   "outputs": [
    {
     "data": {
      "text/plain": [
       "3"
      ]
     },
     "execution_count": 52,
     "metadata": {},
     "output_type": "execute_result"
    }
   ],
   "source": [
    "def plus_minus(x):\n",
    "    yield x\n",
    "    yield -x\n",
    "pm = plus_minus(3)\n",
    "next(pm)"
   ]
  },
  {
   "cell_type": "code",
   "execution_count": 54,
   "metadata": {},
   "outputs": [
    {
     "data": {
      "text/plain": [
       "2"
      ]
     },
     "execution_count": 54,
     "metadata": {},
     "output_type": "execute_result"
    }
   ],
   "source": [
    "def evens(start, end):\n",
    "    even = start + (start % 2)\n",
    "    while even < end:\n",
    "        yield even\n",
    "        even += 2\n",
    "t = evens(2, 10)\n",
    "next(t)"
   ]
  },
  {
   "cell_type": "markdown",
   "metadata": {},
   "source": [
    "Generator do not use attributes of an object to track the process. They control the exection of the generator function.   \n",
    "Execution:\n",
    "- Until the `next` is called, the function body begins to be executed.\n",
    "- It keeps executing until a `yield` statement is reached and returns the value of `current`\n",
    "- Execution pauses at the `yield`, and remember all of the environment of the function execution.\n",
    "- Next time `next` is called, it continues where it left off."
   ]
  },
  {
   "cell_type": "markdown",
   "metadata": {},
   "source": [
    "### Generator can Yield from Iterators\n",
    "A `yield from` statement yields all values from an iterator or iterable."
   ]
  },
  {
   "cell_type": "code",
   "execution_count": 55,
   "metadata": {},
   "outputs": [],
   "source": [
    "def a_then_b(a, b):\n",
    "    for x in a:\n",
    "        yield x\n",
    "    for x in b:\n",
    "        yield x"
   ]
  },
  {
   "cell_type": "code",
   "execution_count": null,
   "metadata": {},
   "outputs": [],
   "source": [
    "def a_then_b(a, b):\n",
    "    yield from a\n",
    "    yield from b"
   ]
  },
  {
   "cell_type": "code",
   "execution_count": 63,
   "metadata": {},
   "outputs": [
    {
     "data": {
      "text/plain": [
       "[1, 2, 3, 4]"
      ]
     },
     "execution_count": 63,
     "metadata": {},
     "output_type": "execute_result"
    }
   ],
   "source": [
    "list(a_then_b([1,2],[3,4]))"
   ]
  },
  {
   "cell_type": "code",
   "execution_count": 56,
   "metadata": {},
   "outputs": [],
   "source": [
    "def countdown(k):\n",
    "    if k > 0:\n",
    "        yield k\n",
    "        yield from countdown(k-1)\n",
    "    #    for x in countdown(k-1):\n",
    "    #        yield x\n",
    "    else:\n",
    "        yield \"Blase off!\""
   ]
  },
  {
   "cell_type": "markdown",
   "metadata": {},
   "source": [
    "可以把yield看作会保存上一次pause环境，仍可继续使用这个函数的return。     \n",
    "`countdown` 每个递归frame会直接return，而非像普通函数递归会等到base case的return触发后，依次return前面的frame。"
   ]
  },
  {
   "cell_type": "code",
   "execution_count": 57,
   "metadata": {},
   "outputs": [],
   "source": [
    "def prefixes(s):\n",
    "    if s:\n",
    "        yield from prefixes(s[:-1])\n",
    "        yield s"
   ]
  },
  {
   "cell_type": "markdown",
   "metadata": {},
   "source": [
    "`prefix` 会等到条件终结再return，  \n",
    "所以看出其实和顺序有关"
   ]
  },
  {
   "cell_type": "code",
   "execution_count": 58,
   "metadata": {},
   "outputs": [
    {
     "data": {
      "text/plain": [
       "['b', 'bo', 'bot', 'both']"
      ]
     },
     "execution_count": 58,
     "metadata": {},
     "output_type": "execute_result"
    }
   ],
   "source": [
    "list(prefixes('both'))"
   ]
  },
  {
   "cell_type": "code",
   "execution_count": 61,
   "metadata": {},
   "outputs": [],
   "source": [
    "def substrings(s):\n",
    "    if s:\n",
    "        yield from prefixes(s)\n",
    "        yield from substrings(s[1:])"
   ]
  },
  {
   "cell_type": "code",
   "execution_count": 62,
   "metadata": {},
   "outputs": [
    {
     "data": {
      "text/plain": [
       "['t', 'to', 'top', 'tops', 'o', 'op', 'ops', 'p', 'ps', 's']"
      ]
     },
     "execution_count": 62,
     "metadata": {},
     "output_type": "execute_result"
    }
   ],
   "source": [
    "list(substrings('tops'))"
   ]
  },
  {
   "cell_type": "code",
   "execution_count": 31,
   "metadata": {},
   "outputs": [],
   "source": [
    "def partitions(n, m):\n",
    "    if n < 0:\n",
    "        return 0\n",
    "    elif n == 0:\n",
    "        return 1\n",
    "    elif m == 0:\n",
    "        return 0\n",
    "    else:\n",
    "        with_m = partitions(n-m, m)\n",
    "        without_m = partitions(n, m-1)\n",
    "        return with_m + without_m"
   ]
  },
  {
   "cell_type": "code",
   "execution_count": 32,
   "metadata": {},
   "outputs": [],
   "source": [
    "def count_partitions(n, m):\n",
    "    #base case相当于n与m下降到最后的情况可能性\n",
    "    if n < 0 or m == 0:\n",
    "        return 0\n",
    "    else:\n",
    "        exact_match = 0\n",
    "        if n == m:\n",
    "            exact_match = 1\n",
    "        with_m = count_partitions(n-m, m)\n",
    "        without_m = count_partitions(n, m-1)\n",
    "        return with_m + without_m + exact_match\n"
   ]
  },
  {
   "cell_type": "code",
   "execution_count": 55,
   "metadata": {},
   "outputs": [],
   "source": [
    "def list_partitions(n, m):\n",
    "    if n < 0 or m == 0:\n",
    "        return []\n",
    "    else:\n",
    "        exact_match = []\n",
    "        if n == m:\n",
    "            exact_match = [[m]]\n",
    "        with_m = [p + [m] for p in list_partitions(n-m,m)]\n",
    "        without_m = list_partitions(n, m-1)\n",
    "        return exact_match + with_m + without_m "
   ]
  },
  {
   "cell_type": "code",
   "execution_count": 56,
   "metadata": {},
   "outputs": [
    {
     "data": {
      "text/plain": [
       "[[2, 4],\n",
       " [1, 1, 4],\n",
       " [3, 3],\n",
       " [1, 2, 3],\n",
       " [1, 1, 1, 3],\n",
       " [2, 2, 2],\n",
       " [1, 1, 2, 2],\n",
       " [1, 1, 1, 1, 2],\n",
       " [1, 1, 1, 1, 1, 1]]"
      ]
     },
     "execution_count": 56,
     "metadata": {},
     "output_type": "execute_result"
    }
   ],
   "source": [
    "list_partitions(6,4)"
   ]
  },
  {
   "cell_type": "code",
   "execution_count": 62,
   "metadata": {},
   "outputs": [],
   "source": [
    "def list_partitions(n, m):\n",
    "    if n > 0 and m > 0:\n",
    "        if n == m:\n",
    "            yield str(m)\n",
    "        for p in list_partitions(n-m, m):\n",
    "            yield p + ' + ' + str(m)\n",
    "        yield from list_partitions(n, m-1)"
   ]
  },
  {
   "cell_type": "code",
   "execution_count": 63,
   "metadata": {},
   "outputs": [
    {
     "data": {
      "text/plain": [
       "'2 + 4'"
      ]
     },
     "execution_count": 63,
     "metadata": {},
     "output_type": "execute_result"
    }
   ],
   "source": [
    "l = list_partitions(6,4)\n",
    "next(l)"
   ]
  },
  {
   "cell_type": "markdown",
   "metadata": {},
   "source": [
    "...can be continued with textbook"
   ]
  },
  {
   "cell_type": "markdown",
   "metadata": {},
   "source": []
  }
 ],
 "metadata": {
  "kernelspec": {
   "display_name": "base",
   "language": "python",
   "name": "python3"
  },
  "language_info": {
   "codemirror_mode": {
    "name": "ipython",
    "version": 3
   },
   "file_extension": ".py",
   "mimetype": "text/x-python",
   "name": "python",
   "nbconvert_exporter": "python",
   "pygments_lexer": "ipython3",
   "version": "3.11.4"
  },
  "orig_nbformat": 4
 },
 "nbformat": 4,
 "nbformat_minor": 2
}
