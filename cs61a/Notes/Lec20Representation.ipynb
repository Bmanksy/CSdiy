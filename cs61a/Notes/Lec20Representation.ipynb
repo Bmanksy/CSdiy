{
 "cells": [
  {
   "cell_type": "markdown",
   "metadata": {},
   "source": [
    "## Object Abstraction\n",
    "A central concept in object abstraction is a *generic function*: a function that can accept values of multiple different types.    \n",
    "\n",
    "Three techniques for implementing generic function:\n",
    "- shared interfaces   \n",
    "- type dispatching \n",
    "- type coercion "
   ]
  },
  {
   "cell_type": "markdown",
   "metadata": {},
   "source": [
    "### String Representations\n",
    "By the metaphor of OOP, an object value should behave like the kind of data it is meant to represent.    \n",
    "It should produce a string representation of itself.    \n",
    "In Python, all objects produce 2 string representations:    \n",
    "- `str` is human-readable\n",
    "- `repr` is Python interpreter-readable   \n",
    "They are often the same, not always\n",
    "\n",
    "`repr(object)->a Python expresssion(a string)`\n",
    "- can be called on **any object** producing strings\n",
    "- return the canonical string representation of the object, what Python prints in an interactive session\n",
    "- For most object types, `eval(repr(object)) == object`\n"
   ]
  },
  {
   "cell_type": "code",
   "execution_count": 28,
   "metadata": {},
   "outputs": [
    {
     "data": {
      "text/plain": [
       "12000000000000.0"
      ]
     },
     "execution_count": 28,
     "metadata": {},
     "output_type": "execute_result"
    }
   ],
   "source": [
    "12e12"
   ]
  },
  {
   "cell_type": "code",
   "execution_count": 42,
   "metadata": {},
   "outputs": [
    {
     "data": {
      "text/plain": [
       "'12000000000000.0'"
      ]
     },
     "execution_count": 42,
     "metadata": {},
     "output_type": "execute_result"
    }
   ],
   "source": [
    "repr(12e12)"
   ]
  },
  {
   "cell_type": "code",
   "execution_count": 44,
   "metadata": {},
   "outputs": [
    {
     "data": {
      "text/plain": [
       "'s'"
      ]
     },
     "execution_count": 44,
     "metadata": {},
     "output_type": "execute_result"
    }
   ],
   "source": [
    "s = 's'\n",
    "s"
   ]
  },
  {
   "cell_type": "code",
   "execution_count": 45,
   "metadata": {},
   "outputs": [
    {
     "data": {
      "text/plain": [
       "\"'s'\""
      ]
     },
     "execution_count": 45,
     "metadata": {},
     "output_type": "execute_result"
    }
   ],
   "source": [
    "repr(s)"
   ]
  },
  {
   "cell_type": "code",
   "execution_count": 46,
   "metadata": {},
   "outputs": [
    {
     "data": {
      "text/plain": [
       "'s'"
      ]
     },
     "execution_count": 46,
     "metadata": {},
     "output_type": "execute_result"
    }
   ],
   "source": [
    "eval(repr(s))"
   ]
  },
  {
   "cell_type": "code",
   "execution_count": 48,
   "metadata": {},
   "outputs": [
    {
     "data": {
      "text/plain": [
       "'\"\\'s\\'\"'"
      ]
     },
     "execution_count": 48,
     "metadata": {},
     "output_type": "execute_result"
    }
   ],
   "source": [
    "repr(repr(s))"
   ]
  },
  {
   "cell_type": "code",
   "execution_count": 49,
   "metadata": {},
   "outputs": [
    {
     "data": {
      "text/plain": [
       "'s'"
      ]
     },
     "execution_count": 49,
     "metadata": {},
     "output_type": "execute_result"
    }
   ],
   "source": [
    "eval(eval(repr(repr(s))))"
   ]
  },
  {
   "cell_type": "markdown",
   "metadata": {},
   "source": [
    "- Some objects do not have a simple Python readable string, like compound objects(class, function), as they can not be written into a simple expression.\n",
    "\n",
    "`<>` indicate it's not a Python-readble,but a human-readable description"
   ]
  },
  {
   "cell_type": "code",
   "execution_count": 34,
   "metadata": {},
   "outputs": [
    {
     "data": {
      "text/plain": [
       "'<built-in function min>'"
      ]
     },
     "execution_count": 34,
     "metadata": {},
     "output_type": "execute_result"
    }
   ],
   "source": [
    "repr(min)"
   ]
  },
  {
   "cell_type": "code",
   "execution_count": 35,
   "metadata": {},
   "outputs": [
    {
     "data": {
      "text/plain": [
       "'Fraction(1, 2)'"
      ]
     },
     "execution_count": 35,
     "metadata": {},
     "output_type": "execute_result"
    }
   ],
   "source": [
    "from fractions import Fraction\n",
    "half = Fraction(1, 2)\n",
    "repr(half)"
   ]
  },
  {
   "cell_type": "code",
   "execution_count": 39,
   "metadata": {},
   "outputs": [
    {
     "data": {
      "text/plain": [
       "Fraction(1, 2)"
      ]
     },
     "execution_count": 39,
     "metadata": {},
     "output_type": "execute_result"
    }
   ],
   "source": [
    "half"
   ]
  },
  {
   "cell_type": "code",
   "execution_count": 51,
   "metadata": {},
   "outputs": [
    {
     "data": {
      "text/plain": [
       "Fraction(1, 2)"
      ]
     },
     "execution_count": 51,
     "metadata": {},
     "output_type": "execute_result"
    }
   ],
   "source": [
    "eval(repr(half))"
   ]
  },
  {
   "cell_type": "markdown",
   "metadata": {},
   "source": [
    "`str(object) -> string(human-readable)`\n",
    "- return what Python prints using `print`"
   ]
  },
  {
   "cell_type": "code",
   "execution_count": 36,
   "metadata": {},
   "outputs": [
    {
     "data": {
      "text/plain": [
       "'1/2'"
      ]
     },
     "execution_count": 36,
     "metadata": {},
     "output_type": "execute_result"
    }
   ],
   "source": [
    "str(half)"
   ]
  },
  {
   "cell_type": "code",
   "execution_count": 38,
   "metadata": {},
   "outputs": [
    {
     "name": "stdout",
     "output_type": "stream",
     "text": [
      "1/2\n"
     ]
    }
   ],
   "source": [
    "print(half)"
   ]
  },
  {
   "cell_type": "code",
   "execution_count": 41,
   "metadata": {},
   "outputs": [
    {
     "data": {
      "text/plain": [
       "0.5"
      ]
     },
     "execution_count": 41,
     "metadata": {},
     "output_type": "execute_result"
    }
   ],
   "source": [
    "eval(str(half))"
   ]
  },
  {
   "cell_type": "markdown",
   "metadata": {},
   "source": [
    "`eval('python expression')`"
   ]
  },
  {
   "cell_type": "markdown",
   "metadata": {},
   "source": [
    "### F-Strings\n",
    "String interpolation involves evaluating a string literal that contains exprssions.   \n",
    "Using string concatenation:"
   ]
  },
  {
   "cell_type": "code",
   "execution_count": 54,
   "metadata": {},
   "outputs": [
    {
     "data": {
      "text/plain": [
       "'pi starts with 3.141592653589793...'"
      ]
     },
     "execution_count": 54,
     "metadata": {},
     "output_type": "execute_result"
    }
   ],
   "source": [
    "from math import pi\n",
    "'pi starts with ' + str(pi) + '...'"
   ]
  },
  {
   "cell_type": "markdown",
   "metadata": {},
   "source": [
    "Using string interpolation:"
   ]
  },
  {
   "cell_type": "code",
   "execution_count": 56,
   "metadata": {},
   "outputs": [
    {
     "data": {
      "text/plain": [
       "'pi starts with 3.141592653589793...'"
      ]
     },
     "execution_count": 56,
     "metadata": {},
     "output_type": "execute_result"
    }
   ],
   "source": [
    "f'pi starts with {pi}...'"
   ]
  },
  {
   "cell_type": "markdown",
   "metadata": {},
   "source": [
    "### Polymorphic Functions\n",
    "So when we want to define the `repr` function, we hope we can apply all data types.    \n",
    "*Polymorphic function*: A function that can be applied on many(poly) different forms(morph) of data.    \n",
    "e.g. `repr`, `str`: apply to any object   \n",
    "how?     \n",
    "The object system provide a solution:   \n",
    "`repr` invokes `__repr__` method on its argument   \n",
    "`str` invokes `__str__` method on its argument"
   ]
  },
  {
   "cell_type": "code",
   "execution_count": 59,
   "metadata": {},
   "outputs": [
    {
     "data": {
      "text/plain": [
       "'Fraction(1, 2)'"
      ]
     },
     "execution_count": 59,
     "metadata": {},
     "output_type": "execute_result"
    }
   ],
   "source": [
    "half.__repr__()"
   ]
  },
  {
   "cell_type": "code",
   "execution_count": 60,
   "metadata": {},
   "outputs": [
    {
     "data": {
      "text/plain": [
       "'Fraction(1, 2)'"
      ]
     },
     "execution_count": 60,
     "metadata": {},
     "output_type": "execute_result"
    }
   ],
   "source": [
    "repr(half)"
   ]
  },
  {
   "cell_type": "markdown",
   "metadata": {},
   "source": [
    "`repr`:\n",
    "- An instance attribute called __repr__ is ignored!(As we dont want the users of the class to use underscore method). Only class attributes are found."
   ]
  },
  {
   "cell_type": "code",
   "execution_count": 66,
   "metadata": {},
   "outputs": [],
   "source": [
    "def repr(x):\n",
    "    return type(x).__repr__(x)#since self is not bound"
   ]
  },
  {
   "cell_type": "code",
   "execution_count": 65,
   "metadata": {},
   "outputs": [
    {
     "data": {
      "text/plain": [
       "'Fraction(1, 2)'"
      ]
     },
     "execution_count": 65,
     "metadata": {},
     "output_type": "execute_result"
    }
   ],
   "source": [
    "type(half).__repr__(half)"
   ]
  },
  {
   "cell_type": "markdown",
   "metadata": {},
   "source": [
    "`str`:\n",
    "- An instance attribute called `__str__` is ignored\n",
    "- If no `__str__` attribute is found, uses `repr` string"
   ]
  },
  {
   "cell_type": "code",
   "execution_count": 71,
   "metadata": {},
   "outputs": [],
   "source": [
    "class Bear:\n",
    "    def __init__(self):\n",
    "        self.__repr__ = lambda: 'oski'\n",
    "    def __repr__(self):\n",
    "        return 'Bear()'\n",
    "    def __str__(self):\n",
    "        return 'a bear'"
   ]
  },
  {
   "cell_type": "code",
   "execution_count": 72,
   "metadata": {},
   "outputs": [
    {
     "name": "stdout",
     "output_type": "stream",
     "text": [
      "a bear\n",
      "a bear\n",
      "Bear()\n",
      "a bear\n",
      "oski\n"
     ]
    }
   ],
   "source": [
    "oski = Bear()\n",
    "print(oski)\n",
    "print(str(oski))\n",
    "print(repr(oski))\n",
    "print(oski.__str__())\n",
    "print(oski.__repr__())\n",
    "#可观察到print(object)的interface是class里的__str__"
   ]
  },
  {
   "cell_type": "markdown",
   "metadata": {},
   "source": [
    "### Interface\n",
    "**Message passing**: Objects interact by looking up attributes on each other   \n",
    "A shared attribute name helps abstraction.    \n",
    "An interface is a set of shared attributes.    \n",
    "e.g. `__repr__` and `__str__` give an interface for producing string representations."
   ]
  },
  {
   "cell_type": "markdown",
   "metadata": {},
   "source": [
    "### Special Method Names\n",
    "(particular to Python)   \n",
    "Names that start and end with two underscores have built-in behavior.   \n",
    "`__init__` : method invoked automatically when an object is constructed  \n",
    "`__repr__`: method invoked to display the Python expression\n",
    "`__add__`, `__bool__`, `__float__`"
   ]
  },
  {
   "cell_type": "code",
   "execution_count": 73,
   "metadata": {},
   "outputs": [
    {
     "data": {
      "text/plain": [
       "3"
      ]
     },
     "execution_count": 73,
     "metadata": {},
     "output_type": "execute_result"
    }
   ],
   "source": [
    "zero, one, two = 0, 1, 2\n",
    "one + two"
   ]
  },
  {
   "cell_type": "code",
   "execution_count": 75,
   "metadata": {},
   "outputs": [
    {
     "data": {
      "text/plain": [
       "3"
      ]
     },
     "execution_count": 75,
     "metadata": {},
     "output_type": "execute_result"
    }
   ],
   "source": [
    "one.__add__(two)"
   ]
  },
  {
   "cell_type": "code",
   "execution_count": 74,
   "metadata": {},
   "outputs": [
    {
     "data": {
      "text/plain": [
       "(False, True)"
      ]
     },
     "execution_count": 74,
     "metadata": {},
     "output_type": "execute_result"
    }
   ],
   "source": [
    "bool(zero), bool(one)"
   ]
  },
  {
   "cell_type": "code",
   "execution_count": 76,
   "metadata": {},
   "outputs": [
    {
     "data": {
      "text/plain": [
       "(False, True)"
      ]
     },
     "execution_count": 76,
     "metadata": {},
     "output_type": "execute_result"
    }
   ],
   "source": [
    "zero.__bool__(), one.__bool__()"
   ]
  },
  {
   "cell_type": "markdown",
   "metadata": {},
   "source": [
    "The special names give us interfaces to be overidden."
   ]
  },
  {
   "cell_type": "code",
   "execution_count": 110,
   "metadata": {},
   "outputs": [],
   "source": [
    "from math import gcd\n",
    "class Ratio:\n",
    "    def __init__(self, n, d):\n",
    "        self.numer = n\n",
    "        self.denom = d\n",
    "    def __repr__(self):\n",
    "        return 'Ratio({0}/{1})'.format(self.numer, self.denom)\n",
    "    def __str__(self):\n",
    "        return '{0}/{1}'.format(self.numer, self.denom)\n",
    "    def __add__(self, other):\n",
    "        #type dispatching\n",
    "        if isinstance(other, int):\n",
    "            n = self.numer + self.denom * other\n",
    "            d = self.denom\n",
    "        elif isinstance(other, Ratio):\n",
    "            n = self.numer * other.denom + self.denom * other.numer\n",
    "            d = self.denom * other.denom\n",
    "        elif isinstance(other, float):\n",
    "            return float(self) + other\n",
    "            #type coercion\n",
    "        g = gcd(n, d)\n",
    "        return Ratio(n//g, d//g)\n",
    "    __radd__ = __add__\n",
    "    def __float__(self):\n",
    "        return self.numer/self.denom\n",
    "\n"
   ]
  },
  {
   "cell_type": "code",
   "execution_count": 111,
   "metadata": {},
   "outputs": [],
   "source": [
    "half = Ratio(1, 2)\n",
    "quater = Ratio(1, 4)"
   ]
  },
  {
   "cell_type": "code",
   "execution_count": 112,
   "metadata": {},
   "outputs": [
    {
     "data": {
      "text/plain": [
       "Ratio(3/4)"
      ]
     },
     "execution_count": 112,
     "metadata": {},
     "output_type": "execute_result"
    }
   ],
   "source": [
    "half + quater"
   ]
  },
  {
   "cell_type": "code",
   "execution_count": 113,
   "metadata": {},
   "outputs": [
    {
     "data": {
      "text/plain": [
       "Ratio(5/2)"
      ]
     },
     "execution_count": 113,
     "metadata": {},
     "output_type": "execute_result"
    }
   ],
   "source": [
    "2 + half"
   ]
  },
  {
   "cell_type": "code",
   "execution_count": 114,
   "metadata": {},
   "outputs": [
    {
     "data": {
      "text/plain": [
       "3.0"
      ]
     },
     "execution_count": 114,
     "metadata": {},
     "output_type": "execute_result"
    }
   ],
   "source": [
    "2.5 + half"
   ]
  },
  {
   "cell_type": "code",
   "execution_count": null,
   "metadata": {},
   "outputs": [],
   "source": []
  }
 ],
 "metadata": {
  "kernelspec": {
   "display_name": "base",
   "language": "python",
   "name": "python3"
  },
  "language_info": {
   "codemirror_mode": {
    "name": "ipython",
    "version": 3
   },
   "file_extension": ".py",
   "mimetype": "text/x-python",
   "name": "python",
   "nbconvert_exporter": "python",
   "pygments_lexer": "ipython3",
   "version": "3.11.4"
  },
  "orig_nbformat": 4
 },
 "nbformat": 4,
 "nbformat_minor": 2
}
