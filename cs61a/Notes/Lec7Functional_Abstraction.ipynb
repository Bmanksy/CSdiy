{
 "cells": [
  {
   "attachments": {},
   "cell_type": "markdown",
   "metadata": {},
   "source": [
    "## Lecture 7"
   ]
  },
  {
   "attachments": {},
   "cell_type": "markdown",
   "metadata": {},
   "source": [
    "#### Lambda Function Environments\n",
    "A lambda function's parent is the current frame in which the lambda expression is evaluated.\n"
   ]
  },
  {
   "attachments": {},
   "cell_type": "markdown",
   "metadata": {},
   "source": [
    "#### Return\n",
    "A return statement completes the evaluation of a call expression and provides its value:    \n",
    "f(x) for user-defined function f: switch to a new environment; execute f's body       \n",
    "return statement within f: switch back to the previous environment;\n",
    "f(x) now has a value     \n",
    "\n",
    "Only one return statement is ever executed while executing the body of a function.\n",
    " "
   ]
  },
  {
   "cell_type": "code",
   "execution_count": null,
   "metadata": {},
   "outputs": [],
   "source": [
    "def end(n, d):\n",
    "    while n > 0:\n",
    "        last, n = n % 10, n // 10\n",
    "        print(last)\n",
    "        if d == last:\n",
    "            return None"
   ]
  },
  {
   "cell_type": "code",
   "execution_count": 1,
   "metadata": {},
   "outputs": [
    {
     "data": {
      "text/plain": [
       "3"
      ]
     },
     "execution_count": 1,
     "metadata": {},
     "output_type": "execute_result"
    }
   ],
   "source": [
    "def search(f):\n",
    "    x = 0\n",
    "    #while True:\n",
    "    #    if f(x):\n",
    "    #        return x\n",
    "    #    x += 1\n",
    "    while not f(x):\n",
    "        x += 1\n",
    "    return x\n",
    "\n",
    "def is_three(x):\n",
    "    return x == 3\n",
    "\n",
    "search(is_three)"
   ]
  },
  {
   "cell_type": "code",
   "execution_count": 4,
   "metadata": {},
   "outputs": [
    {
     "data": {
      "text/plain": [
       "4"
      ]
     },
     "execution_count": 4,
     "metadata": {},
     "output_type": "execute_result"
    }
   ],
   "source": [
    "def square(x):\n",
    "    return x * x\n",
    "\n",
    "def positive(x):\n",
    "    return max(0, square(x) - 100)\n",
    "\n",
    "def inverse(f):\n",
    "    \"\"\"Return g(y) such that g(f(x)) -> x\"\"\"\n",
    "    return lambda y: search(lambda x: f(x) == y)\n",
    "\n",
    "sqrt = inverse(square)\n",
    "\n",
    "sqrt(16)\n"
   ]
  },
  {
   "attachments": {},
   "cell_type": "markdown",
   "metadata": {},
   "source": [
    "#### Control\n",
    "Execution Rule for Conditional Statements:      \n",
    "Each clause is considered in order.\n",
    "1. Evaluate the header's expression(if present).\n",
    "2. If it is a true value, execute the suite and skip the remaining clauses.\n",
    "\n",
    "An example showing why we can't substitute control statements for a function."
   ]
  },
  {
   "cell_type": "code",
   "execution_count": 7,
   "metadata": {},
   "outputs": [],
   "source": [
    "def if_(c, t, f):\n",
    "    if c:\n",
    "        return t\n",
    "    else:\n",
    "        return f"
   ]
  },
  {
   "cell_type": "code",
   "execution_count": 8,
   "metadata": {},
   "outputs": [],
   "source": [
    "from math import sqrt\n",
    "def real_sqrt(x):\n",
    "    \"\"\"Return the real part of the square root of x.\"\"\"\n",
    "    return if_(x >= 0, sqrt(x), 0)"
   ]
  },
  {
   "cell_type": "code",
   "execution_count": 9,
   "metadata": {},
   "outputs": [
    {
     "data": {
      "text/plain": [
       "4.0"
      ]
     },
     "execution_count": 9,
     "metadata": {},
     "output_type": "execute_result"
    }
   ],
   "source": [
    "real_sqrt(16)"
   ]
  },
  {
   "cell_type": "code",
   "execution_count": 10,
   "metadata": {},
   "outputs": [
    {
     "ename": "ValueError",
     "evalue": "math domain error",
     "output_type": "error",
     "traceback": [
      "\u001b[1;31m---------------------------------------------------------------------------\u001b[0m",
      "\u001b[1;31mValueError\u001b[0m                                Traceback (most recent call last)",
      "Cell \u001b[1;32mIn[10], line 1\u001b[0m\n\u001b[1;32m----> 1\u001b[0m real_sqrt(\u001b[39m-\u001b[39;49m\u001b[39m16\u001b[39;49m)\n",
      "Cell \u001b[1;32mIn[8], line 4\u001b[0m, in \u001b[0;36mreal_sqrt\u001b[1;34m(x)\u001b[0m\n\u001b[0;32m      2\u001b[0m \u001b[39mdef\u001b[39;00m \u001b[39mreal_sqrt\u001b[39m(x):\n\u001b[0;32m      3\u001b[0m \u001b[39m    \u001b[39m\u001b[39m\"\"\"Return the real part of the square root of x.\"\"\"\u001b[39;00m\n\u001b[1;32m----> 4\u001b[0m     \u001b[39mreturn\u001b[39;00m if_(x \u001b[39m>\u001b[39m\u001b[39m=\u001b[39m \u001b[39m0\u001b[39m, sqrt(x), \u001b[39m0\u001b[39m)\n",
      "\u001b[1;31mValueError\u001b[0m: math domain error"
     ]
    }
   ],
   "source": [
    "real_sqrt(-16)"
   ]
  },
  {
   "attachments": {},
   "cell_type": "markdown",
   "metadata": {},
   "source": [
    "Call expression dont allow skipping evaluating parts of the call expression. **All the parts are always evaluated before the function is called**.That is different from control statements."
   ]
  },
  {
   "attachments": {},
   "cell_type": "markdown",
   "metadata": {},
   "source": [
    "#### Control Expressions\n",
    "There are expressions that allow the Python interpreter to skip evaluating some subexpressions."
   ]
  },
  {
   "attachments": {},
   "cell_type": "markdown",
   "metadata": {},
   "source": [
    "##### Logical Operators\n",
    "To evaluate the expressions **<left> and <right>**:\n",
    "1. Evaluate the subexpression <left>.\n",
    "2. If the result is a false value v, the expression evaluates to v.\n",
    "3. Othewise, the expression evaluates to the value of the subexpression <right>.\n",
    "\n",
    "To evaluate the expression **<left> or <right>**:\n",
    "1. Evaluate the subexpression <left>:\n",
    "2. If the result is a true value v, the expression evaluates to v.\n",
    "3. Othewise, the expression evaluates to the value of the subexpression <right>."
   ]
  },
  {
   "cell_type": "code",
   "execution_count": 11,
   "metadata": {},
   "outputs": [],
   "source": [
    "from math import sqrt\n",
    "\n",
    "def has_big_sqrt(x):\n",
    "    return x > 0 and sqrt(x) > 10\n",
    "# and guarantees that when x < 0 , sqrt(x) won't be called\n",
    "\n",
    "def reasonable(n):\n",
    "    return n == 0 or 1/n != 0\n",
    "# or guarantees that when the input n == 0, 1/n won't be called "
   ]
  },
  {
   "attachments": {},
   "cell_type": "markdown",
   "metadata": {},
   "source": [
    "### Functional Abstractions"
   ]
  },
  {
   "attachments": {},
   "cell_type": "markdown",
   "metadata": {},
   "source": [
    "User-defined functions are a crucial **abstraction** mechanism.    \n",
    "Higher-order functions enable us to represent these abstractions explicitly as **elements** in our programming language.   \n",
    "\n",
    "In general, programming languages impose restrictions on the ways in which computational elements can be manipulated.       \n",
    "Elements with the fewest restrictions are said to have **first-class status**.     \n",
    "First class elements' \"rights & privileges\":\n",
    "1. They may be bound to names.\n",
    "2. They may be passed as arguments to functions.\n",
    "3. They may be returned as the results of functions.\n",
    "4. They may be included in data structures.\n",
    "\n",
    "Python awards functions full first-class status."
   ]
  },
  {
   "attachments": {},
   "cell_type": "markdown",
   "metadata": {},
   "source": [
    "#### Choosing Name\n",
    "Names typically don't matter for correctness, but they matter a lot for composition.   \n",
    "\n",
    "Names should convey the meaning or purpose of the value to which they are bound.        \n",
    "The type of value bound to the name is best documented in a function's docstring.          \n",
    "Function names typically convey their effect(print), their behavior(triple), or the value returned(abs)."
   ]
  },
  {
   "attachments": {},
   "cell_type": "markdown",
   "metadata": {},
   "source": [
    "#### Which Values Deserve a Name(optional)\n",
    "Repeated compound expressions;\n",
    "Meaningful parts of complex expressions;\n",
    "\n",
    "Names can be long if they help document your code.\n",
    "Names can be short if they represent generic quantities: counts, arbitrary functions, arguments to mathematical operations, etc.\n",
    "n, k, i - usually integers       \n",
    "x, y, z - usually real numbers    \n",
    "f, g, h - usually functions"
   ]
  },
  {
   "attachments": {},
   "cell_type": "markdown",
   "metadata": {},
   "source": [
    "### Errors and Tracebacks\n",
    "Errors:       \n",
    "syntax errors;      \n",
    "runtime errors;     \n",
    "logical/program errors(wont be detected, write tests to check)\n"
   ]
  },
  {
   "cell_type": "code",
   "execution_count": null,
   "metadata": {},
   "outputs": [],
   "source": []
  }
 ],
 "metadata": {
  "kernelspec": {
   "display_name": "Python 3",
   "language": "python",
   "name": "python3"
  },
  "language_info": {
   "codemirror_mode": {
    "name": "ipython",
    "version": 3
   },
   "file_extension": ".py",
   "mimetype": "text/x-python",
   "name": "python",
   "nbconvert_exporter": "python",
   "pygments_lexer": "ipython3",
   "version": "3.11.2"
  },
  "orig_nbformat": 4
 },
 "nbformat": 4,
 "nbformat_minor": 2
}
